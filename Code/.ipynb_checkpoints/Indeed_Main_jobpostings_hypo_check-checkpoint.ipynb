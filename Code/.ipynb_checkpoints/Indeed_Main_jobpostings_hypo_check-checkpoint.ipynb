{
 "cells": [
  {
   "cell_type": "code",
   "execution_count": 1,
   "metadata": {},
   "outputs": [],
   "source": [
    "import pandas as pd\n",
    "import glob\n",
    "import os\n",
    "from flashtext import KeywordProcessor"
   ]
  },
  {
   "cell_type": "code",
   "execution_count": 17,
   "metadata": {},
   "outputs": [],
   "source": [
    "#importing all the individual indeed job posting csv's\n",
    "path = r'/Users/ivowings/Sync/Thesis/Datasources/Job postings/Indeed' \n",
    "all_files = glob.glob(os.path.join(path, \"*.csv\"))     \n",
    "\n",
    "df_from_each_file = (pd.read_csv(f,sep=';') for f in all_files)\n",
    "indeed_df   = pd.concat(df_from_each_file, ignore_index=True)"
   ]
  },
  {
   "cell_type": "code",
   "execution_count": 3,
   "metadata": {},
   "outputs": [],
   "source": [
    "#import the kaggle job postings\n",
    "kaggle_df = pd.read_csv(\"/Users/ivowings/Sync/Thesis/Datasources/Job postings/Kaggle/Kaggle_job_postings.csv\")"
   ]
  },
  {
   "cell_type": "code",
   "execution_count": 18,
   "metadata": {},
   "outputs": [],
   "source": [
    "#removing unnecessary columns in indeed_df\n",
    "#indeed_df = indeed_df.drop(columns=['Unnamed: 0', 'salary','url'])\n",
    "indeed_df = indeed_df.drop(columns=['Unnamed: 0', 'salary'])"
   ]
  },
  {
   "cell_type": "code",
   "execution_count": 5,
   "metadata": {},
   "outputs": [],
   "source": [
    "#removing unnecessary columns in kaggle_df and renaming the columns to match indeed_df\n",
    "kaggle_df = kaggle_df[['Title', 'Company', 'jobpost']]\n",
    "kaggle_df = kaggle_df.rename(columns={'Title': 'job_title', 'Company':'company', 'jobpost':'job_description'})"
   ]
  },
  {
   "cell_type": "code",
   "execution_count": 6,
   "metadata": {},
   "outputs": [
    {
     "name": "stdout",
     "output_type": "stream",
     "text": [
      "Indeed + Kaggle has a total of 67090 job postings.\n"
     ]
    }
   ],
   "source": [
    "#concat indeed and kaggle\n",
    "df = pd.concat([indeed_df,kaggle_df])\n",
    "print('Indeed + Kaggle has a total of', df.shape[0], 'job postings.')"
   ]
  },
  {
   "cell_type": "code",
   "execution_count": 7,
   "metadata": {},
   "outputs": [],
   "source": [
    "#creating a basic soft skill list from the emsi set\n",
    "softskills = pd.read_csv('/Users/ivowings/Sync/Thesis/Datasources/Skills/emsi_skills.csv')\n",
    "softskills = softskills[softskills.type=='Soft Skill']\n",
    "#softskills = softskills['name'].tolist()[0]"
   ]
  },
  {
   "cell_type": "code",
   "execution_count": 8,
   "metadata": {},
   "outputs": [],
   "source": [
    "softskills = 'Creativity'"
   ]
  },
  {
   "cell_type": "code",
   "execution_count": 9,
   "metadata": {},
   "outputs": [],
   "source": [
    "#select job descriptions which contain the emsi soft skills\n",
    "softskill_df = df[df.job_description.str.contains(softskills)]"
   ]
  },
  {
   "cell_type": "code",
   "execution_count": 10,
   "metadata": {},
   "outputs": [
    {
     "name": "stderr",
     "output_type": "stream",
     "text": [
      "<ipython-input-10-b741b3d19403>:6: SettingWithCopyWarning: \n",
      "A value is trying to be set on a copy of a slice from a DataFrame.\n",
      "Try using .loc[row_indexer,col_indexer] = value instead\n",
      "\n",
      "See the caveats in the documentation: https://pandas.pydata.org/pandas-docs/stable/user_guide/indexing.html#returning-a-view-versus-a-copy\n",
      "  softskill_df['job_description']= softskill_df['job_description'].astype(str).apply(keyword_processor.replace_keywords)\n"
     ]
    }
   ],
   "source": [
    "keyword_processor = KeywordProcessor()\n",
    "keyword_processor.add_keyword('Creativity', '%%%%%Creativity%%%%%')\n",
    "keyword_processor.add_keyword('\\Creativity', '%%%%%Creativity%%%%%')\n",
    "keyword_processor.add_keyword('\\\\Creativity', '%%%%%Creativity%%%%%')\n",
    "keyword_processor.add_keyword('\\n\\Creativity', '%%%%%Creativity%%%%%')\n",
    "softskill_df['job_description']= softskill_df['job_description'].astype(str).apply(keyword_processor.replace_keywords)\n"
   ]
  },
  {
   "cell_type": "code",
   "execution_count": 11,
   "metadata": {},
   "outputs": [
    {
     "data": {
      "text/plain": [
       "206"
      ]
     },
     "execution_count": 11,
     "metadata": {},
     "output_type": "execute_result"
    }
   ],
   "source": [
    "softskill_df = softskill_df[softskill_df.job_description.str.contains(\"%%%%%Creativity%%%%%\")]\n",
    "softskill_df.shape[0]"
   ]
  },
  {
   "cell_type": "code",
   "execution_count": 13,
   "metadata": {},
   "outputs": [],
   "source": [
    "\n",
    "softskill_df.to_csv(\"/Users/ivowings/Desktop/hypocheck.csv\", sep=';')"
   ]
  },
  {
   "cell_type": "code",
   "execution_count": 24,
   "metadata": {},
   "outputs": [
    {
     "data": {
      "text/plain": [
       "job_title                           Credit and Collections Support 2\n",
       "company                                                     WEX Inc.\n",
       "job_description    ['WEX Inc. is a leading and growing global pro...\n",
       "Name: 34858, dtype: object"
      ]
     },
     "execution_count": 24,
     "metadata": {},
     "output_type": "execute_result"
    }
   ],
   "source": [
    "d.iloc[34858]"
   ]
  },
  {
   "cell_type": "code",
   "execution_count": 25,
   "metadata": {},
   "outputs": [],
   "source": [
    "test = indeed_df[indeed_df.company=='WEX Inc.']\n",
    "test = test['url']"
   ]
  },
  {
   "cell_type": "code",
   "execution_count": 26,
   "metadata": {},
   "outputs": [
    {
     "data": {
      "text/plain": [
       "12424    http://indeed.com/rc/clk?jk=c31a3e661b0f184e&f...\n",
       "12491    http://indeed.com/rc/clk?jk=036670f01e91b84d&f...\n",
       "12743    http://indeed.com/rc/clk?jk=51d46cb0981ad1dc&f...\n",
       "12747    http://indeed.com/rc/clk?jk=51d46cb0981ad1dc&f...\n",
       "12898    http://indeed.com/rc/clk?jk=51d46cb0981ad1dc&f...\n",
       "13079    http://indeed.com/rc/clk?jk=51d46cb0981ad1dc&f...\n",
       "13119    http://indeed.com/rc/clk?jk=d0f04b50596576af&f...\n",
       "25526    http://indeed.com/rc/clk?jk=29f90e1456a5720b&f...\n",
       "34858    http://indeed.com/rc/clk?jk=aecaab6f96c641ec&f...\n",
       "Name: url, dtype: object"
      ]
     },
     "execution_count": 26,
     "metadata": {},
     "output_type": "execute_result"
    }
   ],
   "source": [
    "test"
   ]
  },
  {
   "cell_type": "code",
   "execution_count": null,
   "metadata": {},
   "outputs": [],
   "source": []
  }
 ],
 "metadata": {
  "kernelspec": {
   "display_name": "Python 3",
   "language": "python",
   "name": "python3"
  },
  "language_info": {
   "codemirror_mode": {
    "name": "ipython",
    "version": 3
   },
   "file_extension": ".py",
   "mimetype": "text/x-python",
   "name": "python",
   "nbconvert_exporter": "python",
   "pygments_lexer": "ipython3",
   "version": "3.8.5"
  }
 },
 "nbformat": 4,
 "nbformat_minor": 2
}
