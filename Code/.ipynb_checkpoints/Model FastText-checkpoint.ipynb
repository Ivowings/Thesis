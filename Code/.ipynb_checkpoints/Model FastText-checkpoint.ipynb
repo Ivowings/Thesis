{
 "cells": [
  {
   "cell_type": "code",
   "execution_count": 1,
   "metadata": {},
   "outputs": [
    {
     "name": "stderr",
     "output_type": "stream",
     "text": [
      "Warning : `load_model` does not return WordVectorModel or SupervisedModel any more, but a `FastText` object which is very similar.\n"
     ]
    }
   ],
   "source": [
    "import pandas as pd\n",
    "import spacy \n",
    "\n",
    "from tqdm import tqdm\n",
    "tqdm.pandas()\n",
    "import matplotlib.pyplot as plt\n",
    "import numpy as np\n",
    "\n",
    "import fasttext\n",
    "\n",
    "from sklearn.linear_model import LogisticRegression\n",
    "from sklearn import svm\n",
    "from sklearn.ensemble import RandomForestClassifier\n",
    "from sklearn.ensemble import GradientBoostingClassifier\n",
    "from sklearn.linear_model import SGDClassifier\n",
    "\n",
    "\n",
    "from sklearn.metrics import classification_report, confusion_matrix\n",
    "from sklearn.model_selection import train_test_split\n",
    "from sklearn.metrics import recall_score\n",
    "from sklearn.metrics import f1_score\n",
    "from sklearn.metrics import precision_score\n",
    "\n",
    "from sklearn.model_selection import learning_curve\n",
    "\n",
    "from statistics import mean\n",
    "\n",
    "from nltk.tokenize import RegexpTokenizer\n",
    "\n",
    "import thesis_helper\n",
    "functions = thesis_helper.Thesis_Helper()\n",
    "\n",
    "fasttext = fasttext.load_model(\"/Users/ivowings/Downloads/cc.en.300.bin\")\n",
    "#fasttext = fasttext.load_model(\"C:/Users/Ivo/Downloads/cc.en.300.bin/cc.en.300.bin\")\n",
    "\n"
   ]
  },
  {
   "cell_type": "code",
   "execution_count": 2,
   "metadata": {},
   "outputs": [],
   "source": [
    "annotations = '/Users/ivowings/Sync/Thesis/Datasources/Preprocessed/Combined/Taxonomy/Normal/Annotated/combined_annotations.csv'\n",
    "#annotations = 'D:/Sync/Thesis/Datasources/Preprocessed/Combined/Taxonomy/Normal/Annotated/combined_annotations.csv'"
   ]
  },
  {
   "cell_type": "code",
   "execution_count": 3,
   "metadata": {},
   "outputs": [
    {
     "name": "stdout",
     "output_type": "stream",
     "text": [
      "Number of annotated rows  20740\n"
     ]
    }
   ],
   "source": [
    "df = pd.read_csv(annotations,sep=';')\n",
    "\n",
    "#Filling any empty context columns with 'empty'\n",
    "df['left_context'] = df['left_context'].fillna('empty')\n",
    "df['right_context'] = df['right_context'].fillna('empty')\n",
    "\n",
    "df['concatenated'] = df['left_context'] + ' | ' + df['candidate_skill'] + ' | ' + df['right_context']\n",
    "print('Number of annotated rows ',df.shape[0])"
   ]
  },
  {
   "cell_type": "code",
   "execution_count": 4,
   "metadata": {},
   "outputs": [],
   "source": [
    "#Function to retrieve word2vec vectors from spacy\n",
    "def fasttext_retriever_sum(text):\n",
    "    tokenizer = RegexpTokenizer(r'\\w+')\n",
    "    tokens =  tokenizer.tokenize(text)\n",
    "    wordvectors = []\n",
    "    for token in tokens:\n",
    "        wordvectors.append(fasttext[token])\n",
    "    wordvectors = sum(wordvectors)\n",
    "    return wordvectors\n",
    "    \n",
    "\n",
    "def fasttext_retriever_average(text):\n",
    "    tokenizer = RegexpTokenizer(r'\\w+')\n",
    "    tokens =  tokenizer.tokenize(text)\n",
    "    wordvectors = []\n",
    "    for token in tokens:\n",
    "        wordvectors.append(fasttext[token])\n",
    "    wordvectors = sum(wordvectors)/len(wordvectors)\n",
    "    return wordvectors\n",
    "\n",
    "mode = fasttext_retriever_average"
   ]
  },
  {
   "cell_type": "code",
   "execution_count": 5,
   "metadata": {},
   "outputs": [
    {
     "name": "stderr",
     "output_type": "stream",
     "text": [
      "100%|██████████| 20740/20740 [00:01<00:00, 17312.04it/s]\n",
      "100%|██████████| 20740/20740 [00:03<00:00, 5641.82it/s] \n",
      "100%|██████████| 20740/20740 [00:01<00:00, 18593.83it/s]\n",
      "100%|██████████| 20740/20740 [00:03<00:00, 5783.48it/s] \n",
      "100%|██████████| 20740/20740 [00:00<00:00, 31904.80it/s]\n",
      "100%|██████████| 20740/20740 [00:03<00:00, 5983.30it/s] \n"
     ]
    },
    {
     "data": {
      "text/html": [
       "<div>\n",
       "<style scoped>\n",
       "    .dataframe tbody tr th:only-of-type {\n",
       "        vertical-align: middle;\n",
       "    }\n",
       "\n",
       "    .dataframe tbody tr th {\n",
       "        vertical-align: top;\n",
       "    }\n",
       "\n",
       "    .dataframe thead th {\n",
       "        text-align: right;\n",
       "    }\n",
       "</style>\n",
       "<table border=\"1\" class=\"dataframe\">\n",
       "  <thead>\n",
       "    <tr style=\"text-align: right;\">\n",
       "      <th></th>\n",
       "      <th>0_left</th>\n",
       "      <th>1_left</th>\n",
       "      <th>2_left</th>\n",
       "      <th>3_left</th>\n",
       "      <th>4_left</th>\n",
       "      <th>5_left</th>\n",
       "      <th>6_left</th>\n",
       "      <th>7_left</th>\n",
       "      <th>8_left</th>\n",
       "      <th>9_left</th>\n",
       "      <th>...</th>\n",
       "      <th>290</th>\n",
       "      <th>291</th>\n",
       "      <th>292</th>\n",
       "      <th>293</th>\n",
       "      <th>294</th>\n",
       "      <th>295</th>\n",
       "      <th>296</th>\n",
       "      <th>297</th>\n",
       "      <th>298</th>\n",
       "      <th>299</th>\n",
       "    </tr>\n",
       "  </thead>\n",
       "  <tbody>\n",
       "    <tr>\n",
       "      <th>0</th>\n",
       "      <td>0.003516</td>\n",
       "      <td>0.035061</td>\n",
       "      <td>0.041578</td>\n",
       "      <td>0.065415</td>\n",
       "      <td>-0.083281</td>\n",
       "      <td>-0.031485</td>\n",
       "      <td>-0.048344</td>\n",
       "      <td>0.031984</td>\n",
       "      <td>-0.008720</td>\n",
       "      <td>-0.022635</td>\n",
       "      <td>...</td>\n",
       "      <td>0.064867</td>\n",
       "      <td>-0.067286</td>\n",
       "      <td>-0.248340</td>\n",
       "      <td>0.053523</td>\n",
       "      <td>0.087156</td>\n",
       "      <td>0.077296</td>\n",
       "      <td>-0.009412</td>\n",
       "      <td>-0.076232</td>\n",
       "      <td>-0.084672</td>\n",
       "      <td>0.051010</td>\n",
       "    </tr>\n",
       "    <tr>\n",
       "      <th>1</th>\n",
       "      <td>-0.008846</td>\n",
       "      <td>0.125282</td>\n",
       "      <td>0.063383</td>\n",
       "      <td>-0.059112</td>\n",
       "      <td>0.045255</td>\n",
       "      <td>0.036968</td>\n",
       "      <td>-0.144747</td>\n",
       "      <td>-0.002864</td>\n",
       "      <td>-0.008839</td>\n",
       "      <td>0.090855</td>\n",
       "      <td>...</td>\n",
       "      <td>0.000442</td>\n",
       "      <td>0.067527</td>\n",
       "      <td>-0.183973</td>\n",
       "      <td>0.083701</td>\n",
       "      <td>0.061003</td>\n",
       "      <td>0.054565</td>\n",
       "      <td>0.139225</td>\n",
       "      <td>0.110751</td>\n",
       "      <td>-0.075219</td>\n",
       "      <td>0.063857</td>\n",
       "    </tr>\n",
       "    <tr>\n",
       "      <th>2</th>\n",
       "      <td>-0.034497</td>\n",
       "      <td>-0.047639</td>\n",
       "      <td>0.046297</td>\n",
       "      <td>0.020177</td>\n",
       "      <td>-0.022965</td>\n",
       "      <td>-0.013309</td>\n",
       "      <td>-0.016021</td>\n",
       "      <td>-0.013432</td>\n",
       "      <td>0.016687</td>\n",
       "      <td>-0.014189</td>\n",
       "      <td>...</td>\n",
       "      <td>0.060722</td>\n",
       "      <td>-0.035507</td>\n",
       "      <td>-0.023820</td>\n",
       "      <td>-0.027755</td>\n",
       "      <td>-0.026023</td>\n",
       "      <td>-0.038051</td>\n",
       "      <td>-0.021103</td>\n",
       "      <td>-0.011591</td>\n",
       "      <td>-0.041129</td>\n",
       "      <td>0.036252</td>\n",
       "    </tr>\n",
       "    <tr>\n",
       "      <th>3</th>\n",
       "      <td>-0.027974</td>\n",
       "      <td>-0.004037</td>\n",
       "      <td>0.046416</td>\n",
       "      <td>0.043502</td>\n",
       "      <td>-0.054530</td>\n",
       "      <td>0.035032</td>\n",
       "      <td>0.023011</td>\n",
       "      <td>0.001187</td>\n",
       "      <td>-0.028867</td>\n",
       "      <td>0.018841</td>\n",
       "      <td>...</td>\n",
       "      <td>0.145383</td>\n",
       "      <td>-0.019659</td>\n",
       "      <td>-0.230063</td>\n",
       "      <td>0.016658</td>\n",
       "      <td>-0.042835</td>\n",
       "      <td>0.019429</td>\n",
       "      <td>0.017573</td>\n",
       "      <td>0.032204</td>\n",
       "      <td>0.033721</td>\n",
       "      <td>0.036456</td>\n",
       "    </tr>\n",
       "    <tr>\n",
       "      <th>4</th>\n",
       "      <td>-0.008733</td>\n",
       "      <td>0.010493</td>\n",
       "      <td>-0.030028</td>\n",
       "      <td>0.006583</td>\n",
       "      <td>-0.073132</td>\n",
       "      <td>-0.047919</td>\n",
       "      <td>-0.065180</td>\n",
       "      <td>0.020422</td>\n",
       "      <td>-0.057277</td>\n",
       "      <td>-0.034395</td>\n",
       "      <td>...</td>\n",
       "      <td>0.038851</td>\n",
       "      <td>0.009166</td>\n",
       "      <td>0.004940</td>\n",
       "      <td>0.018248</td>\n",
       "      <td>0.007943</td>\n",
       "      <td>0.013399</td>\n",
       "      <td>-0.033390</td>\n",
       "      <td>0.017307</td>\n",
       "      <td>-0.040692</td>\n",
       "      <td>0.028663</td>\n",
       "    </tr>\n",
       "    <tr>\n",
       "      <th>...</th>\n",
       "      <td>...</td>\n",
       "      <td>...</td>\n",
       "      <td>...</td>\n",
       "      <td>...</td>\n",
       "      <td>...</td>\n",
       "      <td>...</td>\n",
       "      <td>...</td>\n",
       "      <td>...</td>\n",
       "      <td>...</td>\n",
       "      <td>...</td>\n",
       "      <td>...</td>\n",
       "      <td>...</td>\n",
       "      <td>...</td>\n",
       "      <td>...</td>\n",
       "      <td>...</td>\n",
       "      <td>...</td>\n",
       "      <td>...</td>\n",
       "      <td>...</td>\n",
       "      <td>...</td>\n",
       "      <td>...</td>\n",
       "      <td>...</td>\n",
       "    </tr>\n",
       "    <tr>\n",
       "      <th>20735</th>\n",
       "      <td>0.107442</td>\n",
       "      <td>-0.257640</td>\n",
       "      <td>0.002259</td>\n",
       "      <td>0.013310</td>\n",
       "      <td>-0.030812</td>\n",
       "      <td>0.001785</td>\n",
       "      <td>0.146990</td>\n",
       "      <td>0.040267</td>\n",
       "      <td>-0.119377</td>\n",
       "      <td>-0.000322</td>\n",
       "      <td>...</td>\n",
       "      <td>0.042647</td>\n",
       "      <td>0.020171</td>\n",
       "      <td>-0.046246</td>\n",
       "      <td>0.017164</td>\n",
       "      <td>-0.019393</td>\n",
       "      <td>-0.004605</td>\n",
       "      <td>-0.006705</td>\n",
       "      <td>0.077649</td>\n",
       "      <td>-0.024118</td>\n",
       "      <td>0.001900</td>\n",
       "    </tr>\n",
       "    <tr>\n",
       "      <th>20736</th>\n",
       "      <td>-0.014222</td>\n",
       "      <td>0.009650</td>\n",
       "      <td>0.016613</td>\n",
       "      <td>0.029955</td>\n",
       "      <td>-0.039008</td>\n",
       "      <td>0.005737</td>\n",
       "      <td>0.026447</td>\n",
       "      <td>0.001555</td>\n",
       "      <td>-0.029694</td>\n",
       "      <td>-0.015564</td>\n",
       "      <td>...</td>\n",
       "      <td>0.029468</td>\n",
       "      <td>-0.000081</td>\n",
       "      <td>-0.024253</td>\n",
       "      <td>0.018406</td>\n",
       "      <td>-0.040625</td>\n",
       "      <td>-0.003001</td>\n",
       "      <td>0.002514</td>\n",
       "      <td>0.064020</td>\n",
       "      <td>-0.009169</td>\n",
       "      <td>0.040793</td>\n",
       "    </tr>\n",
       "    <tr>\n",
       "      <th>20737</th>\n",
       "      <td>0.000959</td>\n",
       "      <td>-0.051468</td>\n",
       "      <td>0.003372</td>\n",
       "      <td>0.027485</td>\n",
       "      <td>-0.055340</td>\n",
       "      <td>-0.010014</td>\n",
       "      <td>0.060629</td>\n",
       "      <td>0.000468</td>\n",
       "      <td>-0.029965</td>\n",
       "      <td>0.005528</td>\n",
       "      <td>...</td>\n",
       "      <td>0.060091</td>\n",
       "      <td>-0.002339</td>\n",
       "      <td>-0.013451</td>\n",
       "      <td>-0.004164</td>\n",
       "      <td>0.007344</td>\n",
       "      <td>-0.025554</td>\n",
       "      <td>0.025025</td>\n",
       "      <td>0.025374</td>\n",
       "      <td>-0.014409</td>\n",
       "      <td>0.002991</td>\n",
       "    </tr>\n",
       "    <tr>\n",
       "      <th>20738</th>\n",
       "      <td>0.007394</td>\n",
       "      <td>-0.013732</td>\n",
       "      <td>-0.060527</td>\n",
       "      <td>-0.076012</td>\n",
       "      <td>-0.035817</td>\n",
       "      <td>0.010145</td>\n",
       "      <td>0.044607</td>\n",
       "      <td>0.009710</td>\n",
       "      <td>-0.037294</td>\n",
       "      <td>-0.005947</td>\n",
       "      <td>...</td>\n",
       "      <td>0.088448</td>\n",
       "      <td>-0.008324</td>\n",
       "      <td>-0.139382</td>\n",
       "      <td>-0.000698</td>\n",
       "      <td>0.007778</td>\n",
       "      <td>-0.005039</td>\n",
       "      <td>0.025633</td>\n",
       "      <td>0.263251</td>\n",
       "      <td>-0.065509</td>\n",
       "      <td>-0.002673</td>\n",
       "    </tr>\n",
       "    <tr>\n",
       "      <th>20739</th>\n",
       "      <td>0.002759</td>\n",
       "      <td>-0.077045</td>\n",
       "      <td>0.040946</td>\n",
       "      <td>0.069974</td>\n",
       "      <td>-0.112867</td>\n",
       "      <td>-0.030993</td>\n",
       "      <td>-0.017382</td>\n",
       "      <td>0.011402</td>\n",
       "      <td>0.042914</td>\n",
       "      <td>-0.028424</td>\n",
       "      <td>...</td>\n",
       "      <td>0.054913</td>\n",
       "      <td>0.018791</td>\n",
       "      <td>-0.058656</td>\n",
       "      <td>0.043861</td>\n",
       "      <td>-0.031453</td>\n",
       "      <td>-0.012064</td>\n",
       "      <td>-0.039101</td>\n",
       "      <td>0.143950</td>\n",
       "      <td>-0.018553</td>\n",
       "      <td>0.000635</td>\n",
       "    </tr>\n",
       "  </tbody>\n",
       "</table>\n",
       "<p>20740 rows × 902 columns</p>\n",
       "</div>"
      ],
      "text/plain": [
       "         0_left    1_left    2_left    3_left    4_left    5_left    6_left  \\\n",
       "0      0.003516  0.035061  0.041578  0.065415 -0.083281 -0.031485 -0.048344   \n",
       "1     -0.008846  0.125282  0.063383 -0.059112  0.045255  0.036968 -0.144747   \n",
       "2     -0.034497 -0.047639  0.046297  0.020177 -0.022965 -0.013309 -0.016021   \n",
       "3     -0.027974 -0.004037  0.046416  0.043502 -0.054530  0.035032  0.023011   \n",
       "4     -0.008733  0.010493 -0.030028  0.006583 -0.073132 -0.047919 -0.065180   \n",
       "...         ...       ...       ...       ...       ...       ...       ...   \n",
       "20735  0.107442 -0.257640  0.002259  0.013310 -0.030812  0.001785  0.146990   \n",
       "20736 -0.014222  0.009650  0.016613  0.029955 -0.039008  0.005737  0.026447   \n",
       "20737  0.000959 -0.051468  0.003372  0.027485 -0.055340 -0.010014  0.060629   \n",
       "20738  0.007394 -0.013732 -0.060527 -0.076012 -0.035817  0.010145  0.044607   \n",
       "20739  0.002759 -0.077045  0.040946  0.069974 -0.112867 -0.030993 -0.017382   \n",
       "\n",
       "         7_left    8_left    9_left  ...       290       291       292  \\\n",
       "0      0.031984 -0.008720 -0.022635  ...  0.064867 -0.067286 -0.248340   \n",
       "1     -0.002864 -0.008839  0.090855  ...  0.000442  0.067527 -0.183973   \n",
       "2     -0.013432  0.016687 -0.014189  ...  0.060722 -0.035507 -0.023820   \n",
       "3      0.001187 -0.028867  0.018841  ...  0.145383 -0.019659 -0.230063   \n",
       "4      0.020422 -0.057277 -0.034395  ...  0.038851  0.009166  0.004940   \n",
       "...         ...       ...       ...  ...       ...       ...       ...   \n",
       "20735  0.040267 -0.119377 -0.000322  ...  0.042647  0.020171 -0.046246   \n",
       "20736  0.001555 -0.029694 -0.015564  ...  0.029468 -0.000081 -0.024253   \n",
       "20737  0.000468 -0.029965  0.005528  ...  0.060091 -0.002339 -0.013451   \n",
       "20738  0.009710 -0.037294 -0.005947  ...  0.088448 -0.008324 -0.139382   \n",
       "20739  0.011402  0.042914 -0.028424  ...  0.054913  0.018791 -0.058656   \n",
       "\n",
       "            293       294       295       296       297       298       299  \n",
       "0      0.053523  0.087156  0.077296 -0.009412 -0.076232 -0.084672  0.051010  \n",
       "1      0.083701  0.061003  0.054565  0.139225  0.110751 -0.075219  0.063857  \n",
       "2     -0.027755 -0.026023 -0.038051 -0.021103 -0.011591 -0.041129  0.036252  \n",
       "3      0.016658 -0.042835  0.019429  0.017573  0.032204  0.033721  0.036456  \n",
       "4      0.018248  0.007943  0.013399 -0.033390  0.017307 -0.040692  0.028663  \n",
       "...         ...       ...       ...       ...       ...       ...       ...  \n",
       "20735  0.017164 -0.019393 -0.004605 -0.006705  0.077649 -0.024118  0.001900  \n",
       "20736  0.018406 -0.040625 -0.003001  0.002514  0.064020 -0.009169  0.040793  \n",
       "20737 -0.004164  0.007344 -0.025554  0.025025  0.025374 -0.014409  0.002991  \n",
       "20738 -0.000698  0.007778 -0.005039  0.025633  0.263251 -0.065509 -0.002673  \n",
       "20739  0.043861 -0.031453 -0.012064 -0.039101  0.143950 -0.018553  0.000635  \n",
       "\n",
       "[20740 rows x 902 columns]"
      ]
     },
     "execution_count": 5,
     "metadata": {},
     "output_type": "execute_result"
    }
   ],
   "source": [
    "\n",
    "#Retrieving the word2vec vectors\n",
    "x_left = pd.DataFrame(df['left_context'].progress_apply(mode))\n",
    "x_left = x_left['left_context'].progress_apply(pd.Series)\n",
    "\n",
    "#Retrieving the word2vec vectors\n",
    "x_right = pd.DataFrame(df['right_context'].progress_apply(mode))\n",
    "x_right = x_right['right_context'].progress_apply(pd.Series)\n",
    "\n",
    "#Retrieving the word2vec vectors\n",
    "x_middle = pd.DataFrame(df['candidate_skill'].progress_apply(mode))\n",
    "x_middle = x_middle['candidate_skill'].progress_apply(pd.Series)\n",
    "\n",
    "x = x_left\n",
    "x['sep'] = 222\n",
    "x = x.join(x_middle,lsuffix='_left', rsuffix='_middle')\n",
    "x['sep2'] = 222\n",
    "x = x.join(x_right,lsuffix='_middle', rsuffix='_right')"
   ]
  },
  {
   "cell_type": "code",
   "execution_count": 6,
   "metadata": {},
   "outputs": [
    {
     "name": "stderr",
     "output_type": "stream",
     "text": [
      "  0%|          | 0/6 [00:00<?, ?it/s][Parallel(n_jobs=-1)]: Using backend LokyBackend with 4 concurrent workers.\n"
     ]
    },
    {
     "name": "stdout",
     "output_type": "stream",
     "text": [
      "Starting model evaluation\n",
      "We are at classifier  LogisticRegression(max_iter=10000000000000000000000, random_state=456)\n"
     ]
    },
    {
     "name": "stderr",
     "output_type": "stream",
     "text": [
      "[Parallel(n_jobs=-1)]: Done  10 out of  10 | elapsed: 11.8min finished\n",
      " 17%|█▋        | 1/6 [11:46<58:50, 706.03s/it][Parallel(n_jobs=-1)]: Using backend LokyBackend with 4 concurrent workers.\n"
     ]
    },
    {
     "name": "stdout",
     "output_type": "stream",
     "text": [
      "We are at classifier  GradientBoostingClassifier(learning_rate=1.0, max_depth=1, random_state=456)\n"
     ]
    },
    {
     "name": "stderr",
     "output_type": "stream",
     "text": [
      "[Parallel(n_jobs=-1)]: Done  10 out of  10 | elapsed: 29.9min finished\n",
      "\r",
      " 33%|███▎      | 2/6 [41:42<1:29:50, 1347.64s/it]"
     ]
    },
    {
     "name": "stdout",
     "output_type": "stream",
     "text": [
      "We are at classifier  SGDClassifier(max_iter=10000000000000000000000, random_state=456)\n"
     ]
    },
    {
     "name": "stderr",
     "output_type": "stream",
     "text": [
      "[Parallel(n_jobs=-1)]: Using backend LokyBackend with 4 concurrent workers.\n",
      "[Parallel(n_jobs=-1)]: Done  10 out of  10 | elapsed:    3.2s finished\n",
      " 50%|█████     | 3/6 [41:46<36:41, 733.78s/it]   [Parallel(n_jobs=-1)]: Using backend LokyBackend with 4 concurrent workers.\n"
     ]
    },
    {
     "name": "stdout",
     "output_type": "stream",
     "text": [
      "We are at classifier  RandomForestClassifier(random_state=456)\n"
     ]
    },
    {
     "name": "stderr",
     "output_type": "stream",
     "text": [
      "[Parallel(n_jobs=-1)]: Done  10 out of  10 | elapsed:  3.3min finished\n",
      " 67%|██████▋   | 4/6 [45:04<17:24, 522.39s/it][Parallel(n_jobs=-1)]: Using backend LokyBackend with 4 concurrent workers.\n"
     ]
    },
    {
     "name": "stdout",
     "output_type": "stream",
     "text": [
      "We are at classifier  SVC(decision_function_shape='ovo', random_state=456)\n"
     ]
    },
    {
     "name": "stderr",
     "output_type": "stream",
     "text": [
      "[Parallel(n_jobs=-1)]: Done  10 out of  10 | elapsed:  9.4min finished\n",
      " 83%|████████▎ | 5/6 [54:29<08:57, 537.67s/it][Parallel(n_jobs=-1)]: Using backend LokyBackend with 4 concurrent workers.\n"
     ]
    },
    {
     "name": "stdout",
     "output_type": "stream",
     "text": [
      "We are at classifier  MLPClassifier(alpha=1e-05, hidden_layer_sizes=(15,),\n",
      "              max_iter=10000000000000000000000, random_state=456,\n",
      "              solver='lbfgs')\n"
     ]
    },
    {
     "name": "stderr",
     "output_type": "stream",
     "text": [
      "[Parallel(n_jobs=-1)]: Done  10 out of  10 | elapsed: 34.7min finished\n",
      "100%|██████████| 6/6 [1:29:11<00:00, 891.91s/it] "
     ]
    },
    {
     "name": "stdout",
     "output_type": "stream",
     "text": [
      "CPU times: user 592 ms, sys: 580 ms, total: 1.17 s\n",
      "Wall time: 1h 29min 11s\n"
     ]
    },
    {
     "name": "stderr",
     "output_type": "stream",
     "text": [
      "\n"
     ]
    },
    {
     "data": {
      "text/html": [
       "<div>\n",
       "<style scoped>\n",
       "    .dataframe tbody tr th:only-of-type {\n",
       "        vertical-align: middle;\n",
       "    }\n",
       "\n",
       "    .dataframe tbody tr th {\n",
       "        vertical-align: top;\n",
       "    }\n",
       "\n",
       "    .dataframe thead th {\n",
       "        text-align: right;\n",
       "    }\n",
       "</style>\n",
       "<table border=\"1\" class=\"dataframe\">\n",
       "  <thead>\n",
       "    <tr style=\"text-align: right;\">\n",
       "      <th></th>\n",
       "      <th>Classifier</th>\n",
       "      <th>Precision</th>\n",
       "      <th>Recall</th>\n",
       "      <th>F1</th>\n",
       "    </tr>\n",
       "  </thead>\n",
       "  <tbody>\n",
       "    <tr>\n",
       "      <th>0</th>\n",
       "      <td>LR</td>\n",
       "      <td>0.767579</td>\n",
       "      <td>0.652150</td>\n",
       "      <td>0.686812</td>\n",
       "    </tr>\n",
       "    <tr>\n",
       "      <th>1</th>\n",
       "      <td>GBC</td>\n",
       "      <td>0.633194</td>\n",
       "      <td>0.516112</td>\n",
       "      <td>0.529205</td>\n",
       "    </tr>\n",
       "    <tr>\n",
       "      <th>2</th>\n",
       "      <td>SGD</td>\n",
       "      <td>NaN</td>\n",
       "      <td>NaN</td>\n",
       "      <td>NaN</td>\n",
       "    </tr>\n",
       "    <tr>\n",
       "      <th>3</th>\n",
       "      <td>RF</td>\n",
       "      <td>0.881174</td>\n",
       "      <td>0.709054</td>\n",
       "      <td>0.751350</td>\n",
       "    </tr>\n",
       "    <tr>\n",
       "      <th>4</th>\n",
       "      <td>SVM</td>\n",
       "      <td>0.257200</td>\n",
       "      <td>0.333333</td>\n",
       "      <td>0.290359</td>\n",
       "    </tr>\n",
       "    <tr>\n",
       "      <th>5</th>\n",
       "      <td>MLP</td>\n",
       "      <td>0.734169</td>\n",
       "      <td>0.679819</td>\n",
       "      <td>0.690674</td>\n",
       "    </tr>\n",
       "  </tbody>\n",
       "</table>\n",
       "</div>"
      ],
      "text/plain": [
       "  Classifier  Precision    Recall        F1\n",
       "0         LR   0.767579  0.652150  0.686812\n",
       "1        GBC   0.633194  0.516112  0.529205\n",
       "2        SGD        NaN       NaN       NaN\n",
       "3         RF   0.881174  0.709054  0.751350\n",
       "4        SVM   0.257200  0.333333  0.290359\n",
       "5        MLP   0.734169  0.679819  0.690674"
      ]
     },
     "execution_count": 6,
     "metadata": {},
     "output_type": "execute_result"
    }
   ],
   "source": [
    "%%time\n",
    "\n",
    "\n",
    "functions.model_performance(x, df['label'])"
   ]
  },
  {
   "cell_type": "code",
   "execution_count": 7,
   "metadata": {},
   "outputs": [
    {
     "name": "stderr",
     "output_type": "stream",
     "text": [
      "100%|██████████| 20740/20740 [01:44<00:00, 198.29it/s]\n",
      "100%|██████████| 20740/20740 [01:42<00:00, 201.68it/s]\n",
      "100%|██████████| 20740/20740 [01:50<00:00, 187.64it/s]\n",
      "100%|██████████| 20740/20740 [01:50<00:00, 187.00it/s]\n"
     ]
    }
   ],
   "source": [
    "df['pos'] = df['candidate_skill'].progress_apply(functions.pos_tagger)\n",
    "df['pos'] = df['pos'].progress_apply(functions.sequence_counter)\n",
    "\n",
    "pos_dicts = df[['pos']]\n",
    "pos_dicts = pos_dicts['pos'].apply(pd.Series)\n",
    "pos_dicts = pos_dicts.fillna(0).astype(int)\n",
    "\n",
    "df['dep'] = df['candidate_skill'].progress_apply(functions.dep_tagger)\n",
    "df['dep'] = df['dep'].progress_apply(functions.sequence_counter)\n",
    "\n",
    "dep_dicts = df[['dep']]\n",
    "dep_dicts = dep_dicts['dep'].apply(pd.Series)\n",
    "dep_dicts = dep_dicts.fillna(0).astype(int)\n",
    "\n",
    "x_pos = pos_dicts.join(dep_dicts,lsuffix='_gram', rsuffix='_pos')\n",
    "\n",
    "x = x.join(x_pos, lsuffix='_embedding', rsuffix='_pos')"
   ]
  },
  {
   "cell_type": "code",
   "execution_count": 8,
   "metadata": {},
   "outputs": [
    {
     "name": "stderr",
     "output_type": "stream",
     "text": [
      "\r",
      "  0%|          | 0/6 [00:00<?, ?it/s]"
     ]
    },
    {
     "name": "stdout",
     "output_type": "stream",
     "text": [
      "Starting model evaluation\n",
      "We are at classifier  LogisticRegression(max_iter=10000000000000000000000, random_state=456)\n"
     ]
    },
    {
     "name": "stderr",
     "output_type": "stream",
     "text": [
      "[Parallel(n_jobs=-1)]: Using backend LokyBackend with 4 concurrent workers.\n",
      "[Parallel(n_jobs=-1)]: Done  10 out of  10 | elapsed: 17.7min finished\n",
      " 17%|█▋        | 1/6 [17:41<1:28:27, 1061.57s/it][Parallel(n_jobs=-1)]: Using backend LokyBackend with 4 concurrent workers.\n"
     ]
    },
    {
     "name": "stdout",
     "output_type": "stream",
     "text": [
      "We are at classifier  GradientBoostingClassifier(learning_rate=1.0, max_depth=1, random_state=456)\n"
     ]
    },
    {
     "name": "stderr",
     "output_type": "stream",
     "text": [
      "[Parallel(n_jobs=-1)]: Done  10 out of  10 | elapsed: 33.0min finished\n",
      "\r",
      " 33%|███▎      | 2/6 [50:40<1:46:44, 1601.21s/it]"
     ]
    },
    {
     "name": "stdout",
     "output_type": "stream",
     "text": [
      "We are at classifier  SGDClassifier(max_iter=10000000000000000000000, random_state=456)\n"
     ]
    },
    {
     "name": "stderr",
     "output_type": "stream",
     "text": [
      "[Parallel(n_jobs=-1)]: Using backend LokyBackend with 4 concurrent workers.\n",
      "[Parallel(n_jobs=-1)]: Done  10 out of  10 | elapsed:    4.8s finished\n",
      " 50%|█████     | 3/6 [50:45<43:36, 872.33s/it]   [Parallel(n_jobs=-1)]: Using backend LokyBackend with 4 concurrent workers.\n"
     ]
    },
    {
     "name": "stdout",
     "output_type": "stream",
     "text": [
      "We are at classifier  RandomForestClassifier(random_state=456)\n"
     ]
    },
    {
     "name": "stderr",
     "output_type": "stream",
     "text": [
      "[Parallel(n_jobs=-1)]: Done  10 out of  10 | elapsed:  3.2min finished\n",
      " 67%|██████▋   | 4/6 [53:57<20:07, 603.88s/it][Parallel(n_jobs=-1)]: Using backend LokyBackend with 4 concurrent workers.\n"
     ]
    },
    {
     "name": "stdout",
     "output_type": "stream",
     "text": [
      "We are at classifier  SVC(decision_function_shape='ovo', random_state=456)\n"
     ]
    },
    {
     "name": "stderr",
     "output_type": "stream",
     "text": [
      "[Parallel(n_jobs=-1)]: Done  10 out of  10 | elapsed: 10.2min finished\n",
      " 83%|████████▎ | 5/6 [1:04:07<10:05, 605.86s/it][Parallel(n_jobs=-1)]: Using backend LokyBackend with 4 concurrent workers.\n"
     ]
    },
    {
     "name": "stdout",
     "output_type": "stream",
     "text": [
      "We are at classifier  MLPClassifier(alpha=1e-05, hidden_layer_sizes=(15,),\n",
      "              max_iter=10000000000000000000000, random_state=456,\n",
      "              solver='lbfgs')\n"
     ]
    },
    {
     "name": "stderr",
     "output_type": "stream",
     "text": [
      "[Parallel(n_jobs=-1)]: Done  10 out of  10 | elapsed: 41.7min finished\n",
      "100%|██████████| 6/6 [1:45:52<00:00, 1058.69s/it]\n"
     ]
    },
    {
     "data": {
      "text/html": [
       "<div>\n",
       "<style scoped>\n",
       "    .dataframe tbody tr th:only-of-type {\n",
       "        vertical-align: middle;\n",
       "    }\n",
       "\n",
       "    .dataframe tbody tr th {\n",
       "        vertical-align: top;\n",
       "    }\n",
       "\n",
       "    .dataframe thead th {\n",
       "        text-align: right;\n",
       "    }\n",
       "</style>\n",
       "<table border=\"1\" class=\"dataframe\">\n",
       "  <thead>\n",
       "    <tr style=\"text-align: right;\">\n",
       "      <th></th>\n",
       "      <th>Classifier</th>\n",
       "      <th>Precision</th>\n",
       "      <th>Recall</th>\n",
       "      <th>F1</th>\n",
       "    </tr>\n",
       "  </thead>\n",
       "  <tbody>\n",
       "    <tr>\n",
       "      <th>0</th>\n",
       "      <td>LR</td>\n",
       "      <td>0.788122</td>\n",
       "      <td>0.675633</td>\n",
       "      <td>0.706604</td>\n",
       "    </tr>\n",
       "    <tr>\n",
       "      <th>1</th>\n",
       "      <td>GBC</td>\n",
       "      <td>0.646789</td>\n",
       "      <td>0.521779</td>\n",
       "      <td>0.531584</td>\n",
       "    </tr>\n",
       "    <tr>\n",
       "      <th>2</th>\n",
       "      <td>SGD</td>\n",
       "      <td>NaN</td>\n",
       "      <td>NaN</td>\n",
       "      <td>NaN</td>\n",
       "    </tr>\n",
       "    <tr>\n",
       "      <th>3</th>\n",
       "      <td>RF</td>\n",
       "      <td>0.890113</td>\n",
       "      <td>0.713031</td>\n",
       "      <td>0.755025</td>\n",
       "    </tr>\n",
       "    <tr>\n",
       "      <th>4</th>\n",
       "      <td>SVM</td>\n",
       "      <td>0.257200</td>\n",
       "      <td>0.333333</td>\n",
       "      <td>0.290359</td>\n",
       "    </tr>\n",
       "    <tr>\n",
       "      <th>5</th>\n",
       "      <td>MLP</td>\n",
       "      <td>0.768691</td>\n",
       "      <td>0.709561</td>\n",
       "      <td>0.722572</td>\n",
       "    </tr>\n",
       "  </tbody>\n",
       "</table>\n",
       "</div>"
      ],
      "text/plain": [
       "  Classifier  Precision    Recall        F1\n",
       "0         LR   0.788122  0.675633  0.706604\n",
       "1        GBC   0.646789  0.521779  0.531584\n",
       "2        SGD        NaN       NaN       NaN\n",
       "3         RF   0.890113  0.713031  0.755025\n",
       "4        SVM   0.257200  0.333333  0.290359\n",
       "5        MLP   0.768691  0.709561  0.722572"
      ]
     },
     "execution_count": 8,
     "metadata": {},
     "output_type": "execute_result"
    }
   ],
   "source": [
    "functions.model_performance(x, df['label'])"
   ]
  },
  {
   "cell_type": "code",
   "execution_count": null,
   "metadata": {},
   "outputs": [],
   "source": []
  }
 ],
 "metadata": {
  "kernelspec": {
   "display_name": "Python 3",
   "language": "python",
   "name": "python3"
  },
  "language_info": {
   "codemirror_mode": {
    "name": "ipython",
    "version": 3
   },
   "file_extension": ".py",
   "mimetype": "text/x-python",
   "name": "python",
   "nbconvert_exporter": "python",
   "pygments_lexer": "ipython3",
   "version": "3.8.8"
  }
 },
 "nbformat": 4,
 "nbformat_minor": 4
}
