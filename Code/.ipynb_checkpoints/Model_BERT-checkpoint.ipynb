{
 "cells": [
  {
   "cell_type": "code",
   "execution_count": 1,
   "metadata": {},
   "outputs": [
    {
     "name": "stderr",
     "output_type": "stream",
     "text": [
      "/Users/ivowings/opt/anaconda3/envs/Tensorflow/lib/python3.6/site-packages/gensim/similarities/__init__.py:15: UserWarning: The gensim.similarities.levenshtein submodule is disabled, because the optional Levenshtein package <https://pypi.org/project/python-Levenshtein/> is unavailable. Install Levenhstein (e.g. `pip install python-Levenshtein`) to suppress this warning.\n",
      "  warnings.warn(msg)\n"
     ]
    }
   ],
   "source": [
    "import pandas as pd\n",
    "from tqdm import tqdm\n",
    "tqdm.pandas()\n",
    "\n",
    "import matplotlib.pyplot as plt\n",
    "import numpy as np\n",
    "from sklearn.linear_model import LogisticRegression\n",
    "from sklearn.ensemble import RandomForestClassifier\n",
    "from sklearn.ensemble import GradientBoostingClassifier\n",
    "from sklearn.linear_model import SGDClassifier\n",
    "\n",
    "from sklearn.model_selection import train_test_split\n",
    "from sklearn.metrics import recall_score\n",
    "from sklearn.metrics import f1_score\n",
    "from sklearn.metrics import precision_score\n",
    "\n",
    "\n",
    "from bert_serving.client import BertClient\n",
    "bc = BertClient()\n",
    " \n",
    "import thesis_helper\n",
    "functions = thesis_helper.Thesis_Helper()\n"
   ]
  },
  {
   "cell_type": "code",
   "execution_count": 2,
   "metadata": {},
   "outputs": [],
   "source": [
    "def bert_embedder(text):\n",
    "    return pd.Series(bc.encode([text]).tolist())"
   ]
  },
  {
   "cell_type": "code",
   "execution_count": 3,
   "metadata": {},
   "outputs": [],
   "source": [
    "path_context = \"/Users/ivowings/Sync/Thesis/Datasources/Preprocessed/n-grams context/Annotated/sentence_trigrams_context_excelsubset.csv\"\n",
    "path_context2 = \"/Users/ivowings/Sync/Thesis/Datasources/Preprocessed/n-grams context/Annotated/sentence_trigrams_context_excelsubset2.csv\"\n",
    "path_trigrams = \"/Users/ivowings/Sync/Thesis/Datasources/Preprocessed/n-grams/Annotated/emscad_trigrams_taxonomy.csv\"\n",
    "\n",
    "path_trigrams_lemmatized = \"/Users/ivowings/Sync/Thesis/Datasources/Preprocessed/n-grams/Annotated/emscad_trigrams_lemmatized_taxonomy.csv\"\n",
    "path_context_lemmatized = \"/Users/ivowings/Sync/Thesis/Datasources/Preprocessed/n-grams context/Annotated/sentence_trigrams_context_lemmatized.csv\"\n",
    "\n",
    "pre_annotated__softskills = '/Users/ivowings/Sync/Thesis/Datasources/Skills/Pre annotated soft skills/annotated_soft_skills.csv'"
   ]
  },
  {
   "cell_type": "code",
   "execution_count": 4,
   "metadata": {},
   "outputs": [
    {
     "name": "stdout",
     "output_type": "stream",
     "text": [
      "Number of annotated rows  9418\n"
     ]
    }
   ],
   "source": [
    "df_context = functions.load_context_df(path_context,';')\n",
    "df_context2 = functions.load_context_df(path_context2,';')\n",
    "\n",
    "df_trigrams = pd.read_csv(path_trigrams, sep=';')\n",
    "\n",
    "df_preannotated = pd.read_csv(pre_annotated__softskills)\n",
    "\n",
    "df = pd.concat([df_trigrams,\n",
    "                df_context,\n",
    "                df_context2,\n",
    "                df_preannotated\n",
    "               ]).reset_index(drop=True)\n",
    "\n",
    "df = df.drop(columns=['length'])\n",
    "#Replacing missing labels with -1\n",
    "df['label'] = df['label'].fillna(-1).astype(int)\n",
    "\n",
    "df = df[df.label!=-1]\n",
    "print('Number of annotated rows ',df.shape[0])"
   ]
  },
  {
   "cell_type": "code",
   "execution_count": 5,
   "metadata": {},
   "outputs": [
    {
     "name": "stderr",
     "output_type": "stream",
     "text": [
      "100%|██████████| 9418/9418 [23:18<00:00,  6.73it/s]\n"
     ]
    }
   ],
   "source": [
    "bert_embeddings_allgrams=pd.DataFrame(df['allgrams'].progress_apply(bert_embedder))\n",
    "bert_embeddings_allgrams = bert_embeddings_allgrams[0].apply(pd.Series)\n",
    "\n",
    "x = bert_embeddings_allgrams\n",
    "\n",
    "y = df['label']\n",
    "\n",
    "# performance_values = functions.model_performance(x,y)\n",
    "# print(performance_values)\n",
    "\n",
    "# functions.confusion_matrix(functions.LR, x, y)"
   ]
  },
  {
   "cell_type": "code",
   "execution_count": 6,
   "metadata": {},
   "outputs": [
    {
     "name": "stderr",
     "output_type": "stream",
     "text": [
      "100%|██████████| 9418/9418 [00:58<00:00, 160.13it/s]\n",
      "100%|██████████| 9418/9418 [00:56<00:00, 165.86it/s]\n",
      "100%|██████████| 9418/9418 [01:01<00:00, 154.34it/s]\n",
      "100%|██████████| 9418/9418 [01:03<00:00, 147.59it/s]\n"
     ]
    },
    {
     "data": {
      "image/png": "[encoded data removed]",
      "text/plain": [
       "<Figure size 432x288 with 2 Axes>"
      ]
     },
     "metadata": {
      "needs_background": "light"
     },
     "output_type": "display_data"
    }
   ],
   "source": [
    "df['pos'] = df['allgrams'].progress_apply(functions.pos_tagger)\n",
    "df['pos'] = df['pos'].progress_apply(functions.sequence_counter)\n",
    "\n",
    "pos_dicts = df[['pos']]\n",
    "pos_dicts = pos_dicts['pos'].apply(pd.Series)\n",
    "pos_dicts = pos_dicts.fillna(0).astype(int)\n",
    "\n",
    "df['dep'] = df['allgrams'].progress_apply(functions.dep_tagger)\n",
    "df['dep'] = df['dep'].progress_apply(functions.sequence_counter)\n",
    "\n",
    "dep_dicts = df[['dep']]\n",
    "dep_dicts = dep_dicts['dep'].apply(pd.Series)\n",
    "dep_dicts = dep_dicts.fillna(0).astype(int)\n",
    "\n",
    "\n",
    "x = x.join(pos_dicts,lsuffix='_gram', rsuffix='_pos')\n",
    "x = x.join(dep_dicts,lsuffix='_pos', rsuffix='_dep')\n",
    "x\n",
    "\n",
    "#performance_values = functions.model_performance(x,y)\n",
    "#print(performance_values)\n",
    "\n",
    "functions.confusion_matrix(functions.LR, x, y)"
   ]
  },
  {
   "cell_type": "code",
   "execution_count": 7,
   "metadata": {},
   "outputs": [
    {
     "name": "stdout",
     "output_type": "stream",
     "text": [
      "Starting with lemmatized version\n"
     ]
    }
   ],
   "source": [
    "print('Starting with lemmatized version')"
   ]
  },
  {
   "cell_type": "code",
   "execution_count": 8,
   "metadata": {},
   "outputs": [
    {
     "name": "stdout",
     "output_type": "stream",
     "text": [
      "Number of annotated rows  8911\n"
     ]
    }
   ],
   "source": [
    "df_context_lemmatized = functions.load_context_df(path_context2,';')\n",
    "df_trigrams_lemmatized = pd.read_csv(path_trigrams_lemmatized, sep=';')\n",
    "df_preannotated = pd.read_csv(pre_annotated__softskills)\n",
    "\n",
    "df = pd.concat([df_trigrams_lemmatized,\n",
    "                df_preannotated,\n",
    "                df_context_lemmatized\n",
    "               ]).reset_index(drop=True)\n",
    "\n",
    "df = df.drop(columns=['length'])\n",
    "#Replacing missing labels with -1\n",
    "df['label'] = df['label'].fillna(-1).astype(int)\n",
    "\n",
    "df = df[df.label!=-1]\n",
    "print('Number of annotated rows ',df.shape[0])\n",
    "\n",
    "y = df['label']"
   ]
  },
  {
   "cell_type": "code",
   "execution_count": 9,
   "metadata": {},
   "outputs": [
    {
     "name": "stderr",
     "output_type": "stream",
     "text": [
      "100%|██████████| 8911/8911 [18:13<00:00,  8.15it/s]\n"
     ]
    },
    {
     "data": {
      "image/png": "[encoded data removed]",
      "text/plain": [
       "<Figure size 432x288 with 2 Axes>"
      ]
     },
     "metadata": {
      "needs_background": "light"
     },
     "output_type": "display_data"
    }
   ],
   "source": [
    "bert_embeddings_allgrams=pd.DataFrame(df['allgrams'].progress_apply(bert_embedder))\n",
    "bert_embeddings_allgrams = bert_embeddings_allgrams[0].apply(pd.Series)\n",
    "\n",
    "x = bert_embeddings_allgrams\n",
    "\n",
    "# performance_values = functions.model_performance(x,y)\n",
    "# print(performance_values)\n",
    "\n",
    "functions.confusion_matrix(functions.LR, x, y)"
   ]
  },
  {
   "cell_type": "code",
   "execution_count": 10,
   "metadata": {},
   "outputs": [
    {
     "name": "stderr",
     "output_type": "stream",
     "text": [
      "100%|██████████| 8911/8911 [00:48<00:00, 183.71it/s]\n",
      "100%|██████████| 8911/8911 [00:48<00:00, 183.47it/s]\n",
      "100%|██████████| 8911/8911 [00:47<00:00, 185.90it/s]\n",
      "100%|██████████| 8911/8911 [00:48<00:00, 182.66it/s]\n"
     ]
    },
    {
     "data": {
      "image/png": "[encoded data removed]",
      "text/plain": [
       "<Figure size 432x288 with 2 Axes>"
      ]
     },
     "metadata": {
      "needs_background": "light"
     },
     "output_type": "display_data"
    }
   ],
   "source": [
    "df['pos'] = df['allgrams'].progress_apply(functions.pos_tagger)\n",
    "df['pos'] = df['pos'].progress_apply(functions.sequence_counter)\n",
    "\n",
    "pos_dicts = df[['pos']]\n",
    "pos_dicts = pos_dicts['pos'].apply(pd.Series)\n",
    "pos_dicts = pos_dicts.fillna(0).astype(int)\n",
    "\n",
    "df['dep'] = df['allgrams'].progress_apply(functions.dep_tagger)\n",
    "df['dep'] = df['dep'].progress_apply(functions.sequence_counter)\n",
    "\n",
    "dep_dicts = df[['dep']]\n",
    "dep_dicts = dep_dicts['dep'].apply(pd.Series)\n",
    "dep_dicts = dep_dicts.fillna(0).astype(int)\n",
    "\n",
    "\n",
    "x = x.join(pos_dicts,lsuffix='_gram', rsuffix='_pos')\n",
    "x = x.join(dep_dicts,lsuffix='_pos', rsuffix='_dep')\n",
    "x\n",
    "\n",
    "# performance_values = functions.model_performance(x,y)\n",
    "# print(performance_values)\n",
    "\n",
    "functions.confusion_matrix(functions.LR, x, y)"
   ]
  },
  {
   "cell_type": "code",
   "execution_count": null,
   "metadata": {},
   "outputs": [],
   "source": []
  }
 ],
 "metadata": {
  "kernelspec": {
   "display_name": "Python 3",
   "language": "python",
   "name": "python3"
  },
  "language_info": {
   "codemirror_mode": {
    "name": "ipython",
    "version": 3
   },
   "file_extension": ".py",
   "mimetype": "text/x-python",
   "name": "python",
   "nbconvert_exporter": "python",
   "pygments_lexer": "ipython3",
   "version": "3.6.12"
  }
 },
 "nbformat": 4,
 "nbformat_minor": 4
}
