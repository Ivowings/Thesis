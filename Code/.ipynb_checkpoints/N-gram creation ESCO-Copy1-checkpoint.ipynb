{
 "cells": [
  {
   "cell_type": "code",
   "execution_count": 1,
   "metadata": {},
   "outputs": [],
   "source": [
    "import pandas as pd\n",
    "from flashtext import KeywordProcessor\n",
    "import spacy\n",
    "from spacy.matcher import PhraseMatcher\n",
    "import sys\n",
    "import re\n",
    "#progress bar packages\n",
    "from tqdm import tqdm\n",
    "#ngram package\n",
    "from nltk.util import ngrams\n",
    "from nltk.tokenize import RegexpTokenizer\n",
    "from nltk.tokenize import word_tokenize\n",
    "import nltk\n",
    "\n",
    "import csv\n",
    "\n",
    "pd.set_option('display.max_columns', None)\n",
    "\n",
    "#for downloading spacy stuff\n",
    "#!{sys.executable} -m spacy download en\n",
    "\n",
    "#en is the large model\n",
    "nlp = spacy.load(\"en_core_web_sm\")"
   ]
  },
  {
   "cell_type": "code",
   "execution_count": 2,
   "metadata": {},
   "outputs": [],
   "source": [
    "df_sentences = pd.read_csv(\"/Users/ivowings/Sync/Thesis/Datasources/Preprocessed/sentences/sentences_emscad.csv\")\n",
    "df_skills = pd.read_csv(\"/Users/ivowings/Sync/Thesis/Datasources/Preprocessed/Skills/esco.csv\")"
   ]
  },
  {
   "cell_type": "code",
   "execution_count": 3,
   "metadata": {},
   "outputs": [
    {
     "name": "stderr",
     "output_type": "stream",
     "text": [
      "100%|██████████| 302284/302284 [01:00<00:00, 5021.55it/s]\n"
     ]
    },
    {
     "name": "stdout",
     "output_type": "stream",
     "text": [
      "12753751\n"
     ]
    },
    {
     "name": "stderr",
     "output_type": "stream",
     "text": [
      "100%|██████████| 12753751/12753751 [01:37<00:00, 131167.36it/s]\n",
      "<ipython-input-3-a488bde81ca3>:51: FutureWarning: The default value of regex will change from True to False in a future version.\n",
      "  allgrams['allgrams'] = allgrams['allgrams'].str.replace(r\"[(),.']\", '')\n"
     ]
    }
   ],
   "source": [
    "#Creating all the possible grams for each sentence\n",
    "allgrams = []\n",
    "\n",
    "#This tokenizer immediately removes punctuation and special characters from the sentence\n",
    "#tokenizer = RegexpTokenizer()\n",
    "\n",
    "#Run this code three times, once for the regular sentence, then the lemmatized sentence, finally the sentence without\n",
    "#stopwords\n",
    "\n",
    "#,sentence,sentence_lemmatized,sentence_no_stopwords\n",
    "\n",
    "for sentence in tqdm(df_sentences['sentence']):\n",
    "    tokenizedsentence = word_tokenize(str(sentence))\n",
    "    \n",
    "    #Getting all possible n grams of the sentence\n",
    "    #for n in range(1,len(tokenizedsentence)+1):\n",
    "    \n",
    "    #getting up to tri grams for each sentence\n",
    "    for n in range(1,4):\n",
    "        grams = ngrams(tokenizedsentence,n)\n",
    "        for gram in grams:\n",
    "            allgrams.append(str(gram))\n",
    "\n",
    "allgrams = pd.DataFrame(allgrams)\n",
    "allgrams = allgrams.rename(columns={0:'allgrams'})\n",
    "print(allgrams.shape[0])\n",
    "\n",
    "#Initializing the keyword processor\n",
    "keyword_processor = KeywordProcessor(case_sensitive=False)\n",
    "\n",
    "#label,label_lemmatized,no_stopwords\n",
    "#Adding all the skills to the processor\n",
    "for skill in df_skills['label']:\n",
    "    try:\n",
    "        keyword_processor.add_keyword(skill)\n",
    "    except:\n",
    "        continue\n",
    "\n",
    "def searcher(row):\n",
    "    #check if the words are in the row and return a True or False instead of the actual word\n",
    "    boolean = bool(keyword_processor.extract_keywords(row))\n",
    "    return boolean\n",
    "\n",
    "tqdm.pandas()\n",
    "allgrams['contains_skill'] = allgrams['allgrams'].progress_apply(searcher)\n",
    "\n",
    "#Only selecting the ngrams which contain a skill\n",
    "allgrams = allgrams[allgrams.contains_skill == True]\n",
    "#cleaning up\n",
    "allgrams['allgrams'] = allgrams['allgrams'].astype(str)\n",
    "allgrams['allgrams'] = allgrams['allgrams'].str.replace(r\"[(),.']\", '')\n",
    "allgrams['allgrams'] = allgrams['allgrams'].str.strip()\n",
    "\n",
    "allgrams = allgrams.drop(columns=['contains_skill'])\n",
    "\n",
    "#Some softskills match multiple times, therefore removing the duplicates\n",
    "allgrams = allgrams.drop_duplicates().reset_index(drop=True)\n",
    "\n",
    "#removing any nans\n",
    "allgrams.dropna(subset=['allgrams'],inplace=True)\n",
    "\n",
    "allgrams.to_csv(\"/Users/ivowings/Sync/Thesis/Datasources/Preprocessed/n-grams/emscad_trigrams_ESCO.csv\", quoting=csv.QUOTE_NONNUMERIC, index=False)\n"
   ]
  },
  {
   "cell_type": "code",
   "execution_count": 4,
   "metadata": {},
   "outputs": [
    {
     "name": "stderr",
     "output_type": "stream",
     "text": [
      "100%|██████████| 302284/302284 [00:55<00:00, 5468.13it/s]\n"
     ]
    },
    {
     "name": "stdout",
     "output_type": "stream",
     "text": [
      "12757438\n"
     ]
    },
    {
     "name": "stderr",
     "output_type": "stream",
     "text": [
      "100%|██████████| 12757438/12757438 [01:36<00:00, 132421.06it/s]\n",
      "<ipython-input-4-831a29366ac8>:51: FutureWarning: The default value of regex will change from True to False in a future version.\n",
      "  allgrams['allgrams'] = allgrams['allgrams'].str.replace(r\"[(),.']\", '')\n"
     ]
    }
   ],
   "source": [
    "#Creating all the possible grams for each sentence\n",
    "allgrams = []\n",
    "\n",
    "#This tokenizer immediately removes punctuation and special characters from the sentence\n",
    "#okenizer = RegexpTokenizer()\n",
    "\n",
    "#Run this code three times, once for the regular sentence, then the lemmatized sentence, finally the sentence without\n",
    "#stopwords\n",
    "\n",
    "#,sentence,sentence_lemmatized,sentence_no_stopwords\n",
    "\n",
    "for sentence in tqdm(df_sentences['sentence_lemmatized']):\n",
    "    tokenizedsentence = word_tokenize(str(sentence))\n",
    "    \n",
    "    #Getting all possible n grams of the sentence\n",
    "    #for n in range(1,len(tokenizedsentence)+1):\n",
    "    \n",
    "    #getting up to tri grams for each sentence\n",
    "    for n in range(1,4):\n",
    "        grams = ngrams(tokenizedsentence,n)\n",
    "        for gram in grams:\n",
    "            allgrams.append(str(gram))\n",
    "\n",
    "allgrams = pd.DataFrame(allgrams)\n",
    "allgrams = allgrams.rename(columns={0:'allgrams'})\n",
    "print(allgrams.shape[0])\n",
    "\n",
    "#Initializing the keyword processor\n",
    "keyword_processor = KeywordProcessor(case_sensitive=False)\n",
    "\n",
    "#label,label_lemmatized,no_stopwords\n",
    "#Adding all the skills to the processor\n",
    "for skill in df_skills['label_lemmatized']:\n",
    "    try:\n",
    "        keyword_processor.add_keyword(skill)\n",
    "    except:\n",
    "        continue\n",
    "\n",
    "def searcher(row):\n",
    "    #check if the words are in the row and return a True or False instead of the actual word\n",
    "    boolean = bool(keyword_processor.extract_keywords(row))\n",
    "    return boolean\n",
    "\n",
    "tqdm.pandas()\n",
    "allgrams['contains_skill'] = allgrams['allgrams'].progress_apply(searcher)\n",
    "\n",
    "#Only selecting the ngrams which contain a skill\n",
    "allgrams = allgrams[allgrams.contains_skill == True]\n",
    "#cleaning up\n",
    "allgrams['allgrams'] = allgrams['allgrams'].astype(str)\n",
    "allgrams['allgrams'] = allgrams['allgrams'].str.replace(r\"[(),.']\", '')\n",
    "allgrams['allgrams'] = allgrams['allgrams'].str.strip()\n",
    "\n",
    "allgrams = allgrams.drop(columns=['contains_skill'])\n",
    "\n",
    "#Some softskills match multiple times, therefore removing the duplicates\n",
    "allgrams = allgrams.drop_duplicates().reset_index(drop=True)\n",
    "\n",
    "#removing any nans\n",
    "allgrams.dropna(subset=['allgrams'],inplace=True)\n",
    "\n",
    "allgrams.to_csv(\"/Users/ivowings/Sync/Thesis/Datasources/Preprocessed/n-grams/emscad_trigrams_lemmatized_ESCO.csv\", quoting=csv.QUOTE_NONNUMERIC, index=False)\n",
    "\n",
    "#-----------------------------------------------"
   ]
  },
  {
   "cell_type": "code",
   "execution_count": 5,
   "metadata": {},
   "outputs": [
    {
     "name": "stderr",
     "output_type": "stream",
     "text": [
      "100%|██████████| 302284/302284 [00:45<00:00, 6604.10it/s]\n"
     ]
    },
    {
     "name": "stdout",
     "output_type": "stream",
     "text": [
      "7607929\n"
     ]
    },
    {
     "name": "stderr",
     "output_type": "stream",
     "text": [
      "100%|██████████| 7607929/7607929 [01:01<00:00, 124701.36it/s]\n",
      "<ipython-input-5-785f46b73392>:52: FutureWarning: The default value of regex will change from True to False in a future version.\n",
      "  allgrams['allgrams'] = allgrams['allgrams'].str.replace(r\"[(),.']\", '')\n"
     ]
    }
   ],
   "source": [
    "\n",
    "#Creating all the possible grams for each sentence\n",
    "allgrams = []\n",
    "\n",
    "#This tokenizer immediately removes punctuation and special characters from the sentence\n",
    "#tokenizer = RegexpTokenizer()\n",
    "\n",
    "#Run this code three times, once for the regular sentence, then the lemmatized sentence, finally the sentence without\n",
    "#stopwords\n",
    "\n",
    "#,sentence,sentence_lemmatized,sentence_no_stopwords\n",
    "\n",
    "for sentence in tqdm(df_sentences['sentence_no_stopwords']):\n",
    "    tokenizedsentence = word_tokenize(str(sentence))\n",
    "    #tokenizedsentence = nltk.word_tokenize(str(sentence))\n",
    "    \n",
    "    #Getting all possible n grams of the sentence\n",
    "    #for n in range(1,len(tokenizedsentence)+1):\n",
    "    \n",
    "    #getting up to tri grams for each sentence\n",
    "    for n in range(1,4):\n",
    "        grams = ngrams(tokenizedsentence,n)\n",
    "        for gram in grams:\n",
    "            allgrams.append(str(gram))\n",
    "\n",
    "allgrams = pd.DataFrame(allgrams)\n",
    "allgrams = allgrams.rename(columns={0:'allgrams'})\n",
    "print(allgrams.shape[0])\n",
    "\n",
    "#Initializing the keyword processor\n",
    "keyword_processor = KeywordProcessor(case_sensitive=False)\n",
    "\n",
    "#label,label_lemmatized,no_stopwords\n",
    "#Adding all the skills to the processor\n",
    "for skill in df_skills['no_stopwords']:\n",
    "    try:\n",
    "        keyword_processor.add_keyword(skill)\n",
    "    except:\n",
    "        continue\n",
    "\n",
    "def searcher(row):\n",
    "    #check if the words are in the row and return a True or False instead of the actual word\n",
    "    boolean = bool(keyword_processor.extract_keywords(row))\n",
    "    return boolean\n",
    "\n",
    "tqdm.pandas()\n",
    "allgrams['contains_skill'] = allgrams['allgrams'].progress_apply(searcher)\n",
    "\n",
    "#Only selecting the ngrams which contain a skill\n",
    "allgrams = allgrams[allgrams.contains_skill == True]\n",
    "#cleaning up\n",
    "allgrams['allgrams'] = allgrams['allgrams'].astype(str)\n",
    "allgrams['allgrams'] = allgrams['allgrams'].str.replace(r\"[(),.']\", '')\n",
    "allgrams['allgrams'] = allgrams['allgrams'].str.strip()\n",
    "\n",
    "allgrams = allgrams.drop(columns=['contains_skill'])\n",
    "\n",
    "#Some softskills match multiple times, therefore removing the duplicates\n",
    "allgrams = allgrams.drop_duplicates().reset_index(drop=True)\n",
    "\n",
    "#removing any nans\n",
    "allgrams.dropna(subset=['allgrams'],inplace=True)\n",
    "\n",
    "allgrams.to_csv(\"/Users/ivowings/Sync/Thesis/Datasources/Preprocessed/n-grams/emscad_trigrams_nostopwords_ESCO.csv\", quoting=csv.QUOTE_NONNUMERIC, index=False)"
   ]
  },
  {
   "cell_type": "code",
   "execution_count": null,
   "metadata": {},
   "outputs": [],
   "source": []
  }
 ],
 "metadata": {
  "kernelspec": {
   "display_name": "Python 3",
   "language": "python",
   "name": "python3"
  },
  "language_info": {
   "codemirror_mode": {
    "name": "ipython",
    "version": 3
   },
   "file_extension": ".py",
   "mimetype": "text/x-python",
   "name": "python",
   "nbconvert_exporter": "python",
   "pygments_lexer": "ipython3",
   "version": "3.8.8"
  }
 },
 "nbformat": 4,
 "nbformat_minor": 4
}
