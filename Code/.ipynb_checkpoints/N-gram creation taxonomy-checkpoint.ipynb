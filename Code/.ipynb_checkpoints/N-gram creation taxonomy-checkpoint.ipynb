{
 "cells": [
  {
   "cell_type": "code",
   "execution_count": 12,
   "metadata": {},
   "outputs": [],
   "source": [
    "import pandas as pd\n",
    "from flashtext import KeywordProcessor\n",
    "import spacy\n",
    "from spacy.matcher import PhraseMatcher\n",
    "import sys\n",
    "import re\n",
    "#progress bar packages\n",
    "from tqdm import tqdm\n",
    "#ngram package\n",
    "from nltk.util import ngrams\n",
    "from nltk.tokenize import RegexpTokenizer\n",
    "import nltk\n",
    "from sklearn.utils import shuffle\n",
    "\n",
    "pd.set_option('display.max_columns', None)\n",
    "\n",
    "#for downloading spacy stuff\n",
    "#!{sys.executable} -m spacy download en\n",
    "\n",
    "#en is the large model\n",
    "nlp = spacy.load(\"en_core_web_sm\")"
   ]
  },
  {
   "cell_type": "code",
   "execution_count": 13,
   "metadata": {},
   "outputs": [
    {
     "name": "stderr",
     "output_type": "stream",
     "text": [
      "/Users/ivowings/opt/anaconda3/envs/Thesis/lib/python3.8/site-packages/IPython/core/interactiveshell.py:3165: DtypeWarning: Columns (0,1,2,3,4,5,6) have mixed types.Specify dtype option on import or set low_memory=False.\n",
      "  has_raised = await self.run_ast_nodes(code_ast.body, cell_name,\n"
     ]
    }
   ],
   "source": [
    "df_sentences = pd.read_csv(\"/Users/ivowings/Sync/Thesis/Datasources/Preprocessed/sentences_emscad.csv\")\n",
    "df_softskills = pd.read_csv(\"/Users/ivowings/Sync/Thesis/Datasources/Preprocessed/Skills/softskills.csv\")\n",
    "df_hardskills = pd.read_csv(\"/Users/ivowings/Sync/Thesis/Datasources/Preprocessed/Skills/emsi_skills.csv\")\n",
    "\n",
    "df_hardskills = df_hardskills[df_hardskills['type']== 'Hard Skill']\n",
    "df_hardskills = pd.DataFrame(df_hardskills['name'])"
   ]
  },
  {
   "cell_type": "code",
   "execution_count": 16,
   "metadata": {},
   "outputs": [],
   "source": [
    "columnname = 'soft_skill_no_stopwords'\n",
    "df_softskills = df_softskills[[columnname]]"
   ]
  },
  {
   "cell_type": "code",
   "execution_count": 17,
   "metadata": {},
   "outputs": [
    {
     "data": {
      "text/html": [
       "<div>\n",
       "<style scoped>\n",
       "    .dataframe tbody tr th:only-of-type {\n",
       "        vertical-align: middle;\n",
       "    }\n",
       "\n",
       "    .dataframe tbody tr th {\n",
       "        vertical-align: top;\n",
       "    }\n",
       "\n",
       "    .dataframe thead th {\n",
       "        text-align: right;\n",
       "    }\n",
       "</style>\n",
       "<table border=\"1\" class=\"dataframe\">\n",
       "  <thead>\n",
       "    <tr style=\"text-align: right;\">\n",
       "      <th></th>\n",
       "      <th>skill</th>\n",
       "    </tr>\n",
       "  </thead>\n",
       "  <tbody>\n",
       "    <tr>\n",
       "      <th>0</th>\n",
       "      <td>responsibilities</td>\n",
       "    </tr>\n",
       "    <tr>\n",
       "      <th>1</th>\n",
       "      <td>responsibility</td>\n",
       "    </tr>\n",
       "    <tr>\n",
       "      <th>2</th>\n",
       "      <td>transparently</td>\n",
       "    </tr>\n",
       "    <tr>\n",
       "      <th>3</th>\n",
       "      <td>responsible</td>\n",
       "    </tr>\n",
       "    <tr>\n",
       "      <th>4</th>\n",
       "      <td>accountability</td>\n",
       "    </tr>\n",
       "    <tr>\n",
       "      <th>...</th>\n",
       "      <td>...</td>\n",
       "    </tr>\n",
       "    <tr>\n",
       "      <th>28607</th>\n",
       "      <td>iSqFt (Bidding Software)</td>\n",
       "    </tr>\n",
       "    <tr>\n",
       "      <th>28608</th>\n",
       "      <td>jMock</td>\n",
       "    </tr>\n",
       "    <tr>\n",
       "      <th>28609</th>\n",
       "      <td>pH Meters</td>\n",
       "    </tr>\n",
       "    <tr>\n",
       "      <th>28610</th>\n",
       "      <td>qTest</td>\n",
       "    </tr>\n",
       "    <tr>\n",
       "      <th>28611</th>\n",
       "      <td>spatialNET</td>\n",
       "    </tr>\n",
       "  </tbody>\n",
       "</table>\n",
       "<p>28860 rows × 1 columns</p>\n",
       "</div>"
      ],
      "text/plain": [
       "                          skill\n",
       "0              responsibilities\n",
       "1                responsibility\n",
       "2                 transparently\n",
       "3                   responsible\n",
       "4                accountability\n",
       "...                         ...\n",
       "28607  iSqFt (Bidding Software)\n",
       "28608                     jMock\n",
       "28609                 pH Meters\n",
       "28610                     qTest\n",
       "28611                spatialNET\n",
       "\n",
       "[28860 rows x 1 columns]"
      ]
     },
     "execution_count": 17,
     "metadata": {},
     "output_type": "execute_result"
    }
   ],
   "source": [
    "#Renameing the skill column names and merging afterwards\n",
    "df_softskills = df_softskills.rename(columns={columnname: 'skill'})\n",
    "df_hardskills = df_hardskills.rename(columns={'name': 'skill'})\n",
    "df_skills = pd.concat([df_softskills, df_hardskills])\n",
    "df_skills = df_skills.drop_duplicates()\n",
    "df_skills"
   ]
  },
  {
   "cell_type": "code",
   "execution_count": 18,
   "metadata": {},
   "outputs": [
    {
     "name": "stderr",
     "output_type": "stream",
     "text": [
      "100%|██████████| 22523494/22523494 [02:02<00:00, 184535.97it/s]\n"
     ]
    }
   ],
   "source": [
    "#Creating all the possible grams for each sentence\n",
    "allgrams = []\n",
    "\n",
    "#This tokenizer immediately removes punctuation and special characters from the sentence\n",
    "tokenizer = RegexpTokenizer(r'\\w+')\n",
    "\n",
    "#,sentence,sentence_lemmatized,sentence_no_stopwords\n",
    "\n",
    "for sentence in tqdm(df_sentences['sentence_no_stopwords']):\n",
    "    tokenizedsentence = tokenizer.tokenize(str(sentence))\n",
    "    \n",
    "    #Getting all possible n grams of the sentence\n",
    "    #for n in range(1,len(tokenizedsentence)+1):\n",
    "    \n",
    "    #getting up to tri grams for each sentence\n",
    "    for n in range(1,4):\n",
    "        grams = ngrams(tokenizedsentence,n)\n",
    "        for gram in grams:\n",
    "            allgrams.append(str(gram))"
   ]
  },
  {
   "cell_type": "code",
   "execution_count": 19,
   "metadata": {},
   "outputs": [
    {
     "name": "stdout",
     "output_type": "stream",
     "text": [
      "29831589\n"
     ]
    }
   ],
   "source": [
    "allgrams = pd.DataFrame(allgrams)\n",
    "allgrams = allgrams.rename(columns={0:'allgrams'})\n",
    "print(allgrams.shape[0])"
   ]
  },
  {
   "cell_type": "code",
   "execution_count": 20,
   "metadata": {},
   "outputs": [
    {
     "name": "stderr",
     "output_type": "stream",
     "text": [
      "100%|██████████| 28860/28860 [00:00<00:00, 51744.54it/s]\n"
     ]
    }
   ],
   "source": [
    "#Initializing the keyword processor\n",
    "keyword_processor = KeywordProcessor(case_sensitive=False)\n",
    "\n",
    "#Adding all the skills to the processor\n",
    "for skill in tqdm(df_skills['skill']):\n",
    "    keyword_processor.add_keyword(skill)\n",
    "\n",
    "def searcher(row):\n",
    "    #check if the words are in the row and return a True or False instead of the actual word\n",
    "    boolean = bool(keyword_processor.extract_keywords(row))\n",
    "    return boolean"
   ]
  },
  {
   "cell_type": "code",
   "execution_count": 21,
   "metadata": {},
   "outputs": [
    {
     "name": "stderr",
     "output_type": "stream",
     "text": [
      "100%|██████████| 29831589/29831589 [02:39<00:00, 187274.90it/s]\n"
     ]
    }
   ],
   "source": [
    "tqdm.pandas()\n",
    "allgrams['contains_skill'] = allgrams['allgrams'].progress_apply(searcher)"
   ]
  },
  {
   "cell_type": "code",
   "execution_count": 22,
   "metadata": {},
   "outputs": [
    {
     "name": "stderr",
     "output_type": "stream",
     "text": [
      "<ipython-input-22-6ef50e2d158f>:5: FutureWarning: The default value of regex will change from True to False in a future version.\n",
      "  allgrams['allgrams'] = allgrams['allgrams'].str.replace(r\"[(),.']\", '')\n"
     ]
    }
   ],
   "source": [
    "#Only selecting the ngrams which contain a skill\n",
    "allgrams = allgrams[allgrams.contains_skill == True]\n",
    "#cleaning up\n",
    "allgrams['allgrams'] = allgrams['allgrams'].astype(str)\n",
    "allgrams['allgrams'] = allgrams['allgrams'].str.replace(r\"[(),.']\", '')\n",
    "allgrams['allgrams'] = allgrams['allgrams'].str.strip()\n",
    "allgrams = allgrams.drop(columns=['contains_skill'])"
   ]
  },
  {
   "cell_type": "code",
   "execution_count": 23,
   "metadata": {},
   "outputs": [],
   "source": [
    "#Some softskills match multiple times, therefore removing the duplicates\n",
    "allgrams = allgrams.drop_duplicates().reset_index(drop=True)\n",
    "\n",
    "#removing any nans\n",
    "allgrams.dropna(subset=['allgrams'],inplace=True)"
   ]
  },
  {
   "cell_type": "code",
   "execution_count": 24,
   "metadata": {},
   "outputs": [
    {
     "data": {
      "text/html": [
       "<div>\n",
       "<style scoped>\n",
       "    .dataframe tbody tr th:only-of-type {\n",
       "        vertical-align: middle;\n",
       "    }\n",
       "\n",
       "    .dataframe tbody tr th {\n",
       "        vertical-align: top;\n",
       "    }\n",
       "\n",
       "    .dataframe thead th {\n",
       "        text-align: right;\n",
       "    }\n",
       "</style>\n",
       "<table border=\"1\" class=\"dataframe\">\n",
       "  <thead>\n",
       "    <tr style=\"text-align: right;\">\n",
       "      <th></th>\n",
       "      <th>allgrams</th>\n",
       "    </tr>\n",
       "  </thead>\n",
       "  <tbody>\n",
       "    <tr>\n",
       "      <th>0</th>\n",
       "      <td>team</td>\n",
       "    </tr>\n",
       "    <tr>\n",
       "      <th>1</th>\n",
       "      <td>small team</td>\n",
       "    </tr>\n",
       "    <tr>\n",
       "      <th>2</th>\n",
       "      <td>team editors</td>\n",
       "    </tr>\n",
       "    <tr>\n",
       "      <th>3</th>\n",
       "      <td>work small team</td>\n",
       "    </tr>\n",
       "    <tr>\n",
       "      <th>4</th>\n",
       "      <td>small team editors</td>\n",
       "    </tr>\n",
       "    <tr>\n",
       "      <th>...</th>\n",
       "      <td>...</td>\n",
       "    </tr>\n",
       "    <tr>\n",
       "      <th>406668</th>\n",
       "      <td>think creatively step</td>\n",
       "    </tr>\n",
       "    <tr>\n",
       "      <th>406669</th>\n",
       "      <td>creatively step outside</td>\n",
       "    </tr>\n",
       "    <tr>\n",
       "      <th>406670</th>\n",
       "      <td>eager learn great</td>\n",
       "    </tr>\n",
       "    <tr>\n",
       "      <th>406671</th>\n",
       "      <td>figure problems</td>\n",
       "    </tr>\n",
       "    <tr>\n",
       "      <th>406672</th>\n",
       "      <td>able figure problems</td>\n",
       "    </tr>\n",
       "  </tbody>\n",
       "</table>\n",
       "<p>406673 rows × 1 columns</p>\n",
       "</div>"
      ],
      "text/plain": [
       "                       allgrams\n",
       "0                          team\n",
       "1                    small team\n",
       "2                  team editors\n",
       "3               work small team\n",
       "4            small team editors\n",
       "...                         ...\n",
       "406668    think creatively step\n",
       "406669  creatively step outside\n",
       "406670        eager learn great\n",
       "406671          figure problems\n",
       "406672     able figure problems\n",
       "\n",
       "[406673 rows x 1 columns]"
      ]
     },
     "execution_count": 24,
     "metadata": {},
     "output_type": "execute_result"
    }
   ],
   "source": [
    "allgrams = shuffle(allgrams)\n",
    "allgrams.to_csv(\"/Users/ivowings/Sync/Thesis/Datasources/To be annotated/emscad_trigrams_nostopwords_taxonomy.csv\", \n",
    "                quoting=csv.QUOTE_NONNUMERIC,\n",
    "                index=False)\n",
    "allgrams"
   ]
  },
  {
   "cell_type": "code",
   "execution_count": null,
   "metadata": {},
   "outputs": [],
   "source": []
  }
 ],
 "metadata": {
  "kernelspec": {
   "display_name": "Python 3",
   "language": "python",
   "name": "python3"
  },
  "language_info": {
   "codemirror_mode": {
    "name": "ipython",
    "version": 3
   },
   "file_extension": ".py",
   "mimetype": "text/x-python",
   "name": "python",
   "nbconvert_exporter": "python",
   "pygments_lexer": "ipython3",
   "version": "3.8.8"
  }
 },
 "nbformat": 4,
 "nbformat_minor": 4
}
