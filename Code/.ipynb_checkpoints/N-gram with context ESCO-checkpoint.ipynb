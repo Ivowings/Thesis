{
 "cells": [
  {
   "cell_type": "code",
   "execution_count": 1,
   "metadata": {},
   "outputs": [],
   "source": [
    "import pandas as pd\n",
    "import spacy \n",
    "from tqdm import tqdm\n",
    "from spacy.matcher import PhraseMatcher\n",
    "nlp = spacy.load(\"en_core_web_sm\")"
   ]
  },
  {
   "cell_type": "code",
   "execution_count": 2,
   "metadata": {},
   "outputs": [],
   "source": [
    "sentences_jobpostings = pd.read_csv(\"/Users/ivowings/Sync/Thesis/Datasources/Preprocessed/Sample/sentences.csv\")\n",
    "sentences_jobpostings = sentences_jobpostings['sentence'].tolist()\n",
    "trigrams = pd.read_csv(\"/Users/ivowings/Sync/Thesis/Datasources/Test data/trigrams_ESCO.csv\")\n",
    "trigrams = trigrams[['allgrams']]\n"
   ]
  },
  {
   "cell_type": "code",
   "execution_count": 3,
   "metadata": {},
   "outputs": [
    {
     "name": "stderr",
     "output_type": "stream",
     "text": [
      "100%|██████████| 47512/47512 [06:08<00:00, 128.89it/s]"
     ]
    },
    {
     "name": "stdout",
     "output_type": "stream",
     "text": [
      "CPU times: user 5min 33s, sys: 3.79 s, total: 5min 37s\n",
      "Wall time: 6min 8s\n"
     ]
    },
    {
     "name": "stderr",
     "output_type": "stream",
     "text": [
      "\n"
     ]
    }
   ],
   "source": [
    "%%time\n",
    "matcher = PhraseMatcher(nlp.vocab)\n",
    "\n",
    "#Adding all the trigrams to the matcher\n",
    "for gram in tqdm(trigrams['allgrams']):\n",
    "    matcher.add(\"NGRAM\", [nlp(gram)])\n",
    "    \n",
    "#Defining the number of context words\n",
    "leftcontextnumbers = 2\n",
    "rightcontextnumbers = 2"
   ]
  },
  {
   "cell_type": "code",
   "execution_count": 4,
   "metadata": {},
   "outputs": [
    {
     "name": "stderr",
     "output_type": "stream",
     "text": [
      "100%|██████████| 27200/27200 [04:49<00:00, 93.81it/s] "
     ]
    },
    {
     "name": "stdout",
     "output_type": "stream",
     "text": [
      "CPU times: user 4min 28s, sys: 4.5 s, total: 4min 33s\n",
      "Wall time: 4min 49s\n"
     ]
    },
    {
     "name": "stderr",
     "output_type": "stream",
     "text": [
      "\n"
     ]
    }
   ],
   "source": [
    "%%time\n",
    "leftcontextstorage = []\n",
    "recoveredgramstorage = []\n",
    "rightcontextstorage = []\n",
    "\n",
    "\n",
    "for sentence in tqdm(sentences_jobpostings):\n",
    "\n",
    "    #Intiatilizing the sentence and searching for matches\n",
    "    #print(sentence)\n",
    "    doc = nlp(sentence)\n",
    "    matches = matcher(doc)\n",
    "    \n",
    "    #print(sentence)\n",
    "    \n",
    "    for match_id, start, end in matches:\n",
    "\n",
    "        #Checking if there is any context to the left or right of the gram, if not skipping the gram\n",
    "        if start == 0 or end == len(doc):\n",
    "            continue\n",
    "\n",
    "        #Checking if there is enough context to the left of the gram\n",
    "        if start < leftcontextnumbers:\n",
    "            leftcontextnumbers = start\n",
    "        #Checking if there is enough context to the right of the gram\n",
    "        elif end+rightcontextnumbers > len(doc):\n",
    "            rightcontextnumbers = len(doc)-end\n",
    "\n",
    "        # Get the left context of the gram\n",
    "        leftcontext = doc[start-leftcontextnumbers:start]\n",
    "        #print('left_context :', leftcontext.text)\n",
    "        # Get the recovered gram by slicing the Doc \n",
    "        recoveredgram = doc[start:end]\n",
    "        #print('recovered_gram :', recoveredgram.text)\n",
    "        # Get the right context of the gram\n",
    "        rightcontext = doc[end:end+rightcontextnumbers]\n",
    "        #print('right_context :', rightcontext.text, '\\n')\n",
    "        \n",
    "        leftcontextstorage.append(leftcontext.text)\n",
    "        recoveredgramstorage.append(recoveredgram.text)\n",
    "        rightcontextstorage.append(rightcontext.text)"
   ]
  },
  {
   "cell_type": "code",
   "execution_count": 5,
   "metadata": {},
   "outputs": [],
   "source": [
    "df = pd.DataFrame(zip(leftcontextstorage,recoveredgramstorage,rightcontextstorage),\n",
    "                 columns=['left_context', 'recovered_gram', 'right_context'])\n",
    "df.to_csv(\"/Users/ivowings/Sync/Thesis/Datasources/Test data/trigrams_context_ESCO.csv\")"
   ]
  },
  {
   "cell_type": "code",
   "execution_count": 6,
   "metadata": {},
   "outputs": [
    {
     "data": {
      "text/html": [
       "<div>\n",
       "<style scoped>\n",
       "    .dataframe tbody tr th:only-of-type {\n",
       "        vertical-align: middle;\n",
       "    }\n",
       "\n",
       "    .dataframe tbody tr th {\n",
       "        vertical-align: top;\n",
       "    }\n",
       "\n",
       "    .dataframe thead th {\n",
       "        text-align: right;\n",
       "    }\n",
       "</style>\n",
       "<table border=\"1\" class=\"dataframe\">\n",
       "  <thead>\n",
       "    <tr style=\"text-align: right;\">\n",
       "      <th></th>\n",
       "      <th>left_context</th>\n",
       "      <th>recovered_gram</th>\n",
       "      <th>right_context</th>\n",
       "    </tr>\n",
       "  </thead>\n",
       "  <tbody>\n",
       "    <tr>\n",
       "      <th>0</th>\n",
       "      <td>you to</td>\n",
       "      <td>bring the right</td>\n",
       "      <td>skills and</td>\n",
       "    </tr>\n",
       "    <tr>\n",
       "      <th>1</th>\n",
       "      <td>to bring</td>\n",
       "      <td>the right</td>\n",
       "      <td>skills and</td>\n",
       "    </tr>\n",
       "    <tr>\n",
       "      <th>2</th>\n",
       "      <td>bring the</td>\n",
       "      <td>right</td>\n",
       "      <td>skills and</td>\n",
       "    </tr>\n",
       "    <tr>\n",
       "      <th>3</th>\n",
       "      <td>support you</td>\n",
       "      <td>need to continue</td>\n",
       "      <td>to grow</td>\n",
       "    </tr>\n",
       "    <tr>\n",
       "      <th>4</th>\n",
       "      <td>you need</td>\n",
       "      <td>to continue</td>\n",
       "      <td>to grow</td>\n",
       "    </tr>\n",
       "    <tr>\n",
       "      <th>...</th>\n",
       "      <td>...</td>\n",
       "      <td>...</td>\n",
       "      <td>...</td>\n",
       "    </tr>\n",
       "    <tr>\n",
       "      <th>44531</th>\n",
       "      <td>a</td>\n",
       "      <td>unique selling process</td>\n",
       "      <td>that</td>\n",
       "    </tr>\n",
       "    <tr>\n",
       "      <th>44532</th>\n",
       "      <td>unique</td>\n",
       "      <td>selling process</td>\n",
       "      <td>that</td>\n",
       "    </tr>\n",
       "    <tr>\n",
       "      <th>44533</th>\n",
       "      <td>unique</td>\n",
       "      <td>selling process that</td>\n",
       "      <td>gives</td>\n",
       "    </tr>\n",
       "    <tr>\n",
       "      <th>44534</th>\n",
       "      <td>selling</td>\n",
       "      <td>process</td>\n",
       "      <td>that</td>\n",
       "    </tr>\n",
       "    <tr>\n",
       "      <th>44535</th>\n",
       "      <td>selling</td>\n",
       "      <td>process that</td>\n",
       "      <td>gives</td>\n",
       "    </tr>\n",
       "  </tbody>\n",
       "</table>\n",
       "<p>44536 rows × 3 columns</p>\n",
       "</div>"
      ],
      "text/plain": [
       "      left_context          recovered_gram right_context\n",
       "0           you to         bring the right    skills and\n",
       "1         to bring               the right    skills and\n",
       "2        bring the                   right    skills and\n",
       "3      support you        need to continue       to grow\n",
       "4         you need             to continue       to grow\n",
       "...            ...                     ...           ...\n",
       "44531            a  unique selling process          that\n",
       "44532       unique         selling process          that\n",
       "44533       unique    selling process that         gives\n",
       "44534      selling                 process          that\n",
       "44535      selling            process that         gives\n",
       "\n",
       "[44536 rows x 3 columns]"
      ]
     },
     "execution_count": 6,
     "metadata": {},
     "output_type": "execute_result"
    }
   ],
   "source": [
    "df"
   ]
  },
  {
   "cell_type": "code",
   "execution_count": null,
   "metadata": {},
   "outputs": [],
   "source": []
  }
 ],
 "metadata": {
  "kernelspec": {
   "display_name": "Python 3",
   "language": "python",
   "name": "python3"
  },
  "language_info": {
   "codemirror_mode": {
    "name": "ipython",
    "version": 3
   },
   "file_extension": ".py",
   "mimetype": "text/x-python",
   "name": "python",
   "nbconvert_exporter": "python",
   "pygments_lexer": "ipython3",
   "version": "3.8.5"
  }
 },
 "nbformat": 4,
 "nbformat_minor": 4
}
