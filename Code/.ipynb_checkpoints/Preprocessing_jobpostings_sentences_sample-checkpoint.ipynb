{
 "cells": [
  {
   "cell_type": "code",
   "execution_count": 1,
   "metadata": {},
   "outputs": [],
   "source": [
    "import pandas as pd\n",
    "from flashtext import KeywordProcessor\n",
    "import spacy\n",
    "import sys\n",
    "from tqdm import tqdm\n",
    "import re\n",
    "from nltk.tokenize import sent_tokenize\n",
    "from bs4 import BeautifulSoup\n",
    "pd.set_option('display.max_columns', None)\n",
    "\n",
    "#for downloading spacy stuff\n",
    "#!{sys.executable} -m spacy download en_core_web_sm\n",
    "\n",
    "nlp = spacy.load(\"en_core_web_sm\")"
   ]
  },
  {
   "cell_type": "code",
   "execution_count": 10,
   "metadata": {},
   "outputs": [],
   "source": [
    "df = pd.read_csv(\"/Users/ivowings/Sync/Thesis/Datasources/Preprocessed/Sample/jobpostings_sample_anonymized.csv\")"
   ]
  },
  {
   "cell_type": "code",
   "execution_count": 13,
   "metadata": {},
   "outputs": [
    {
     "name": "stderr",
     "output_type": "stream",
     "text": [
      "<ipython-input-13-7428e7f617aa>:3: FutureWarning: The default value of regex will change from True to False in a future version.\n",
      "  df['job_description_clean'] = df['job_description_clean'].str.replace(r'\\n\\n', ' ')\n",
      "<ipython-input-13-7428e7f617aa>:4: FutureWarning: The default value of regex will change from True to False in a future version.\n",
      "  df['job_description_clean'] = df['job_description_clean'].str.replace(r'\\n', '. ')\n"
     ]
    }
   ],
   "source": [
    "# Lowercasing, removing newline symbols, stripping leading and ending whitespaces\n",
    "df['job_description_clean'] = df['job_description'].str.lower()\n",
    "df['job_description_clean'] = df['job_description_clean'].str.replace(r'\\n\\n', ' ')\n",
    "df['job_description_clean'] = df['job_description_clean'].str.replace(r'\\n', '. ')\n",
    "df['job_description_clean'] = df['job_description_clean'].str.strip()\n"
   ]
  },
  {
   "cell_type": "code",
   "execution_count": 15,
   "metadata": {},
   "outputs": [
    {
     "name": "stderr",
     "output_type": "stream",
     "text": [
      "100%|██████████| 1000/1000 [01:34<00:00, 10.55it/s]\n"
     ]
    }
   ],
   "source": [
    "#Splitting the jobvacancies into sentences\n",
    "jobpostingcomplete = []\n",
    "sentences = []\n",
    "    \n",
    "for index in tqdm(range(0,len(df))):\n",
    "    doc = nlp(str(df['job_description_clean'].iloc[index]))\n",
    "    for sentence in doc.sents:\n",
    "        jobpostingcomplete.append(' '.join([token.text for token in doc]))\n",
    "        sentences.append(sentence.string.strip())"
   ]
  },
  {
   "cell_type": "code",
   "execution_count": null,
   "metadata": {},
   "outputs": [],
   "source": [
    "#creating the df\n",
    "sentencesdf = pd.DataFrame(zip(jobpostingcomplete,sentences), \n",
    "                  columns=['jobposting', 'sentence'])"
   ]
  },
  {
   "cell_type": "code",
   "execution_count": 17,
   "metadata": {},
   "outputs": [
    {
     "name": "stderr",
     "output_type": "stream",
     "text": [
      "<timed exec>:7: FutureWarning: The default value of regex will change from True to False in a future version.\n"
     ]
    },
    {
     "name": "stdout",
     "output_type": "stream",
     "text": [
      "CPU times: user 3min 40s, sys: 3.78 s, total: 3min 44s\n",
      "Wall time: 3min 54s\n"
     ]
    }
   ],
   "source": [
    "%%time\n",
    "#Removing special characters from the sentences, replacing (whitespace dot) for dot, removing double whitespace, and trailing whitespaces\n",
    "#sentencesdf['sentence'] = sentencesdf['sentence'].str.replace(r' .', '.')\n",
    "sentencesdf['sentence'] = sentencesdf['sentence'].str.replace(r'[^A-Za-z0-9 ]+', ' ')\n",
    "sentencesdf['sentence'] = sentencesdf['sentence'].str.replace(r'  ', ' ')\n",
    "sentencesdf['sentence'] = sentencesdf['sentence'].str.strip()\n",
    "\n",
    "#Removing sentences which have less than 4 tokens\n",
    "sentencesdf['length'] = sentencesdf['sentence'].apply(nlp)\n",
    "sentencesdf['length'] = sentencesdf['length'].apply(len)\n",
    "sentencesdf = sentencesdf[sentencesdf.length>=4]\n",
    "sentencesdf = sentencesdf.drop(columns=['length'])"
   ]
  },
  {
   "cell_type": "code",
   "execution_count": 25,
   "metadata": {},
   "outputs": [
    {
     "name": "stdout",
     "output_type": "stream",
     "text": [
      "CPU times: user 3min 32s, sys: 2.99 s, total: 3min 35s\n",
      "Wall time: 3min 40s\n"
     ]
    }
   ],
   "source": [
    "%%time\n",
    "#Lemmatizing the sentences\n",
    "def lemmatizer(text):\n",
    "    doc = nlp(str(text))\n",
    "    text = ' '.join([token.lemma_ if token.lemma_ != '-PRON-' else token.text for token in doc])\n",
    "    return text\n",
    "\n",
    "sentencesdf['sentence_lemmatized'] = sentencesdf['sentence'].apply(lemmatizer)"
   ]
  },
  {
   "cell_type": "code",
   "execution_count": 26,
   "metadata": {},
   "outputs": [],
   "source": [
    "sentencesdf.to_csv(\"/Users/ivowings/Sync/Thesis/Datasources/Preprocessed/Sample/sentences.csv\")"
   ]
  },
  {
   "cell_type": "code",
   "execution_count": null,
   "metadata": {},
   "outputs": [],
   "source": []
  }
 ],
 "metadata": {
  "kernelspec": {
   "display_name": "Python 3",
   "language": "python",
   "name": "python3"
  },
  "language_info": {
   "codemirror_mode": {
    "name": "ipython",
    "version": 3
   },
   "file_extension": ".py",
   "mimetype": "text/x-python",
   "name": "python",
   "nbconvert_exporter": "python",
   "pygments_lexer": "ipython3",
   "version": "3.8.5"
  }
 },
 "nbformat": 4,
 "nbformat_minor": 2
}
