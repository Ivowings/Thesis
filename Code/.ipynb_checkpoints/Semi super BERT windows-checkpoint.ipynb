{
 "cells": [
  {
   "cell_type": "code",
   "execution_count": 13,
   "metadata": {},
   "outputs": [],
   "source": [
    "import pandas as pd\n",
    "from tqdm import tqdm\n",
    "tqdm.pandas()\n",
    "\n",
    "import matplotlib.pyplot as plt\n",
    "import numpy as np\n",
    "from sklearn.linear_model import LogisticRegression\n",
    "from sklearn.ensemble import RandomForestClassifier\n",
    "from sklearn.ensemble import GradientBoostingClassifier\n",
    "from sklearn.linear_model import SGDClassifier\n",
    "\n",
    "from sklearn.model_selection import train_test_split\n",
    "from sklearn.metrics import recall_score\n",
    "from sklearn.metrics import f1_score\n",
    "from sklearn.metrics import precision_score\n",
    "\n",
    "\n",
    "from bert_serving.client import BertClient\n",
    "bc = BertClient()\n",
    " \n",
    "import thesis_helper\n",
    "functions = thesis_helper.Thesis_Helper()\n"
   ]
  },
  {
   "cell_type": "code",
   "execution_count": 14,
   "metadata": {},
   "outputs": [],
   "source": [
    "def bert_embedder(text):\n",
    "    return pd.Series(bc.encode([text]).tolist())"
   ]
  },
  {
   "cell_type": "code",
   "execution_count": 15,
   "metadata": {},
   "outputs": [],
   "source": [
    "path_context = \"/Users/ivowings/Sync/Thesis/Datasources/Preprocessed/n-grams context/Annotated/sentence_trigrams_context_excelsubset.csv\"\n",
    "path_context2 = \"/Users/ivowings/Sync/Thesis/Datasources/Preprocessed/n-grams context/Annotated/sentence_trigrams_context_excelsubset2.csv\"\n",
    "path_trigrams = \"/Users/ivowings/Sync/Thesis/Datasources/Preprocessed/n-grams/Annotated/emscad_trigrams_taxonomy.csv\"\n",
    "\n",
    "path_trigrams_lemmatized = \"/Users/ivowings/Sync/Thesis/Datasources/Preprocessed/n-grams/Annotated/emscad_trigrams_lemmatized_taxonomy.csv\"\n",
    "path_context_lemmatized = \"/Users/ivowings/Sync/Thesis/Datasources/Preprocessed/n-grams context/Annotated/sentence_trigrams_context_lemmatized.csv\"\n",
    "\n",
    "pre_annotated__softskills = '/Users/ivowings/Sync/Thesis/Datasources/Skills/Pre annotated soft skills/annotated_soft_skills.csv'\n",
    "\n",
    "gazette = '/Users/ivowings/Desktop/gazette.csv'\n",
    "\n"
   ]
  },
  {
   "cell_type": "code",
   "execution_count": 16,
   "metadata": {},
   "outputs": [
    {
     "name": "stdout",
     "output_type": "stream",
     "text": [
      "Number of annotated rows  100000\n"
     ]
    },
    {
     "data": {
      "text/html": [
       "<div>\n",
       "<style scoped>\n",
       "    .dataframe tbody tr th:only-of-type {\n",
       "        vertical-align: middle;\n",
       "    }\n",
       "\n",
       "    .dataframe tbody tr th {\n",
       "        vertical-align: top;\n",
       "    }\n",
       "\n",
       "    .dataframe thead th {\n",
       "        text-align: right;\n",
       "    }\n",
       "</style>\n",
       "<table border=\"1\" class=\"dataframe\">\n",
       "  <thead>\n",
       "    <tr style=\"text-align: right;\">\n",
       "      <th></th>\n",
       "      <th>allgrams</th>\n",
       "      <th>label</th>\n",
       "    </tr>\n",
       "  </thead>\n",
       "  <tbody>\n",
       "    <tr>\n",
       "      <th>1408365</th>\n",
       "      <td>for a non technical audience to understand</td>\n",
       "      <td>0</td>\n",
       "    </tr>\n",
       "    <tr>\n",
       "      <th>33788</th>\n",
       "      <td>a well establish independent firm of charter c...</td>\n",
       "      <td>0</td>\n",
       "    </tr>\n",
       "    <tr>\n",
       "      <th>29989</th>\n",
       "      <td>time to join our innovative company operate in...</td>\n",
       "      <td>0</td>\n",
       "    </tr>\n",
       "    <tr>\n",
       "      <th>33790</th>\n",
       "      <td>study provide weekly report to the business an...</td>\n",
       "      <td>0</td>\n",
       "    </tr>\n",
       "    <tr>\n",
       "      <th>33791</th>\n",
       "      <td>edge hill be a dynamic and ambitious universit...</td>\n",
       "      <td>0</td>\n",
       "    </tr>\n",
       "    <tr>\n",
       "      <th>...</th>\n",
       "      <td>...</td>\n",
       "      <td>...</td>\n",
       "    </tr>\n",
       "    <tr>\n",
       "      <th>98443</th>\n",
       "      <td>creatively finding</td>\n",
       "      <td>-1</td>\n",
       "    </tr>\n",
       "    <tr>\n",
       "      <th>98444</th>\n",
       "      <td>if writing</td>\n",
       "      <td>-1</td>\n",
       "    </tr>\n",
       "    <tr>\n",
       "      <th>98445</th>\n",
       "      <td>employee surveys</td>\n",
       "      <td>-1</td>\n",
       "    </tr>\n",
       "    <tr>\n",
       "      <th>98446</th>\n",
       "      <td>thinking independently</td>\n",
       "      <td>-1</td>\n",
       "    </tr>\n",
       "    <tr>\n",
       "      <th>98447</th>\n",
       "      <td>dining entertainment</td>\n",
       "      <td>-1</td>\n",
       "    </tr>\n",
       "  </tbody>\n",
       "</table>\n",
       "<p>100000 rows × 2 columns</p>\n",
       "</div>"
      ],
      "text/plain": [
       "                                                  allgrams  label\n",
       "1408365         for a non technical audience to understand      0\n",
       "33788    a well establish independent firm of charter c...      0\n",
       "29989    time to join our innovative company operate in...      0\n",
       "33790    study provide weekly report to the business an...      0\n",
       "33791    edge hill be a dynamic and ambitious universit...      0\n",
       "...                                                    ...    ...\n",
       "98443                                   creatively finding     -1\n",
       "98444                                           if writing     -1\n",
       "98445                                     employee surveys     -1\n",
       "98446                               thinking independently     -1\n",
       "98447                                 dining entertainment     -1\n",
       "\n",
       "[100000 rows x 2 columns]"
      ]
     },
     "execution_count": 16,
     "metadata": {},
     "output_type": "execute_result"
    }
   ],
   "source": [
    "df_context = functions.load_context_df(path_context,';')\n",
    "df_context2 = functions.load_context_df(path_context2,';')\n",
    "\n",
    "df_trigrams = pd.read_csv(path_trigrams, sep=';')\n",
    "\n",
    "df_preannotated = pd.read_csv(pre_annotated__softskills)\n",
    "\n",
    "df_gazette = pd.read_csv(gazette)\n",
    "\n",
    "df = pd.concat([df_gazette,\n",
    "                df_preannotated,\n",
    "                df_trigrams,\n",
    "                df_context,\n",
    "                df_context2\n",
    "               ]).reset_index(drop=True)\n",
    "\n",
    "df = df.drop(columns=['length']).sort_values(by=['label'])\n",
    "#Replacing missing labels with -1\n",
    "df['label'] = df['label'].fillna(-1).astype(int)\n",
    "\n",
    "df = df.head(100000)\n",
    "print('Number of annotated rows ',df.shape[0])\n",
    "df"
   ]
  },
  {
   "cell_type": "code",
   "execution_count": null,
   "metadata": {},
   "outputs": [
    {
     "name": "stderr",
     "output_type": "stream",
     "text": [
      "  9%|▉         | 9379/100000 [19:46<3:19:19,  7.58it/s]"
     ]
    }
   ],
   "source": [
    "bert_embeddings_allgrams=pd.DataFrame(df['allgrams'].progress_apply(bert_embedder))\n",
    "bert_embeddings_allgrams = bert_embeddings_allgrams[0].apply(pd.Series)\n",
    "\n",
    "x = bert_embeddings_allgrams\n",
    "\n"
   ]
  },
  {
   "cell_type": "code",
   "execution_count": null,
   "metadata": {},
   "outputs": [],
   "source": [
    "# df['pos'] = df['allgrams'].progress_apply(functions.pos_tagger)\n",
    "# df['pos'] = df['pos'].progress_apply(functions.sequence_counter)\n",
    "\n",
    "# pos_dicts = df[['pos']]\n",
    "# pos_dicts = pos_dicts['pos'].apply(pd.Series)\n",
    "# pos_dicts = pos_dicts.fillna(0).astype(int)\n",
    "\n",
    "# df['dep'] = df['allgrams'].progress_apply(functions.dep_tagger)\n",
    "# df['dep'] = df['dep'].progress_apply(functions.sequence_counter)\n",
    "\n",
    "# dep_dicts = df[['dep']]\n",
    "# dep_dicts = dep_dicts['dep'].apply(pd.Series)\n",
    "# dep_dicts = dep_dicts.fillna(0).astype(int)\n",
    "\n",
    "\n",
    "# x = x.join(pos_dicts,lsuffix='_gram', rsuffix='_pos')\n",
    "# x = x.join(dep_dicts,lsuffix='_pos', rsuffix='_dep')\n",
    "\n",
    "# y = df['label'].fillna(-1).astype(int)\n",
    "\n",
    "# X_train, X_test, y_train, y_test = train_test_split(x, y, test_size=0.2, random_state=123)"
   ]
  },
  {
   "cell_type": "code",
   "execution_count": 4,
   "metadata": {},
   "outputs": [
    {
     "name": "stdout",
     "output_type": "stream",
     "text": [
      "End of iteration 1, added 26923 new labels.\n",
      "End of iteration 2, added 20412 new labels.\n",
      "End of iteration 3, added 12482 new labels.\n",
      "End of iteration 4, added 7310 new labels.\n",
      "End of iteration 5, added 4175 new labels.\n",
      "End of iteration 6, added 2607 new labels.\n",
      "End of iteration 7, added 1698 new labels.\n",
      "End of iteration 8, added 1166 new labels.\n",
      "End of iteration 9, added 790 new labels.\n",
      "End of iteration 10, added 494 new labels.\n",
      "End of iteration 1, added 95895 new labels.\n",
      "End of iteration 2, added 2159 new labels.\n",
      "End of iteration 3, added 712 new labels.\n",
      "End of iteration 4, added 181 new labels.\n",
      "End of iteration 5, added 68 new labels.\n",
      "End of iteration 6, added 56 new labels.\n",
      "End of iteration 7, added 16 new labels.\n",
      "End of iteration 8, added 33 new labels.\n",
      "End of iteration 9, added 57 new labels.\n",
      "End of iteration 10, added 18 new labels.\n",
      "CPU times: user 1h 13min 45s, sys: 2min 14s, total: 1h 16min\n",
      "Wall time: 1h 50min 41s\n"
     ]
    }
   ],
   "source": [
    "%%time\n",
    "\n",
    "# x = functions.load_object('semi_super_BERT_pos_x')\n",
    "# y = functions.load_object('semi_super_BERT_pos_y')\n",
    "\n",
    "\n",
    "# x_nopos = x.iloc[:, [x for x in range(0,768)]]\n",
    "# #removing the pos columns\n",
    "y = df['label']\n",
    "\n",
    "\n",
    "from sklearn.semi_supervised import SelfTrainingClassifier\n",
    "\n",
    "semi_super_BERT_LR_wgazette = SelfTrainingClassifier(functions.LR,verbose=True, threshold=0.99,max_iter=10)\n",
    "semi_super_BERT_LR_wgazette.fit(x, y)\n",
    "\n",
    "functions.store_object('semi_super_BERT_LR_wgazette',semi_super_BERT_LR_wgazette)\n",
    "\n",
    "# semi_super_BERT_ANN_nopos = SelfTrainingClassifier(functions.ANN,verbose=True, threshold=0.99,max_iter=10)\n",
    "# semi_super_BERT_ANN_nopos.fit(x_nopos, y), \n",
    "\n",
    "\n",
    "\n",
    "# functions.store_object('semi_super_BERT_ANN_nopos',semi_super_BERT_ANN_nopos)"
   ]
  },
  {
   "cell_type": "code",
   "execution_count": null,
   "metadata": {},
   "outputs": [],
   "source": [
    "functions.store_object('x_wgazette',x)"
   ]
  },
  {
   "cell_type": "code",
   "execution_count": null,
   "metadata": {},
   "outputs": [],
   "source": []
  }
 ],
 "metadata": {
  "kernelspec": {
   "display_name": "Python 3",
   "language": "python",
   "name": "python3"
  },
  "language_info": {
   "codemirror_mode": {
    "name": "ipython",
    "version": 3
   },
   "file_extension": ".py",
   "mimetype": "text/x-python",
   "name": "python",
   "nbconvert_exporter": "python",
   "pygments_lexer": "ipython3",
   "version": "3.8.8"
  }
 },
 "nbformat": 4,
 "nbformat_minor": 4
}
