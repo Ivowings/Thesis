{
 "cells": [
  {
   "cell_type": "code",
   "execution_count": 8,
   "id": "royal-coordinator",
   "metadata": {},
   "outputs": [],
   "source": [
    "import pandas as pd"
   ]
  },
  {
   "cell_type": "code",
   "execution_count": 9,
   "id": "vietnamese-kinase",
   "metadata": {},
   "outputs": [],
   "source": [
    "df = pd.read_csv('/Users/ivowings/Sync/Thesis/Datasources/Preprocessed/Combined/Taxonomy/Sorted/context_1.csv')"
   ]
  },
  {
   "cell_type": "code",
   "execution_count": 10,
   "id": "welcome-parks",
   "metadata": {},
   "outputs": [
    {
     "data": {
      "text/html": [
       "<div>\n",
       "<style scoped>\n",
       "    .dataframe tbody tr th:only-of-type {\n",
       "        vertical-align: middle;\n",
       "    }\n",
       "\n",
       "    .dataframe tbody tr th {\n",
       "        vertical-align: top;\n",
       "    }\n",
       "\n",
       "    .dataframe thead th {\n",
       "        text-align: right;\n",
       "    }\n",
       "</style>\n",
       "<table border=\"1\" class=\"dataframe\">\n",
       "  <thead>\n",
       "    <tr style=\"text-align: right;\">\n",
       "      <th></th>\n",
       "      <th>concatenated</th>\n",
       "    </tr>\n",
       "  </thead>\n",
       "  <tbody>\n",
       "    <tr>\n",
       "      <th>283537</th>\n",
       "      <td>e  | g hotels |  apartments and</td>\n",
       "    </tr>\n",
       "    <tr>\n",
       "      <th>74963</th>\n",
       "      <td>such  | as elasticsearch |  and</td>\n",
       "    </tr>\n",
       "    <tr>\n",
       "      <th>745331</th>\n",
       "      <td>technical support to our sales  | team creatin...</td>\n",
       "    </tr>\n",
       "    <tr>\n",
       "      <th>344713</th>\n",
       "      <td>web site internationalization localization fam...</td>\n",
       "    </tr>\n",
       "    <tr>\n",
       "      <th>761950</th>\n",
       "      <td>the ability to prioritise multi  | task and de...</td>\n",
       "    </tr>\n",
       "    <tr>\n",
       "      <th>...</th>\n",
       "      <td>...</td>\n",
       "    </tr>\n",
       "    <tr>\n",
       "      <th>76511</th>\n",
       "      <td>experience with responsive  | design jquery | ...</td>\n",
       "    </tr>\n",
       "    <tr>\n",
       "      <th>204553</th>\n",
       "      <td>calculate final  | profitability for |  closed...</td>\n",
       "    </tr>\n",
       "    <tr>\n",
       "      <th>59672</th>\n",
       "      <td>be highly  | motivated to |  learn with a</td>\n",
       "    </tr>\n",
       "    <tr>\n",
       "      <th>449579</th>\n",
       "      <td>service and  | coordinate efforts |  to accomp...</td>\n",
       "    </tr>\n",
       "    <tr>\n",
       "      <th>350199</th>\n",
       "      <td>phone and  | in writing |  website management</td>\n",
       "    </tr>\n",
       "  </tbody>\n",
       "</table>\n",
       "<p>3400 rows × 1 columns</p>\n",
       "</div>"
      ],
      "text/plain": [
       "                                             concatenated\n",
       "283537                    e  | g hotels |  apartments and\n",
       "74963                     such  | as elasticsearch |  and\n",
       "745331  technical support to our sales  | team creatin...\n",
       "344713  web site internationalization localization fam...\n",
       "761950  the ability to prioritise multi  | task and de...\n",
       "...                                                   ...\n",
       "76511   experience with responsive  | design jquery | ...\n",
       "204553  calculate final  | profitability for |  closed...\n",
       "59672           be highly  | motivated to |  learn with a\n",
       "449579  service and  | coordinate efforts |  to accomp...\n",
       "350199      phone and  | in writing |  website management\n",
       "\n",
       "[3400 rows x 1 columns]"
      ]
     },
     "execution_count": 10,
     "metadata": {},
     "output_type": "execute_result"
    }
   ],
   "source": [
    "df = df.sample(3400)\n",
    "df['concatenated'] = df['left_context'] + ' | ' + df['candidate_skill'] + ' | ' + df['right_context']\n",
    "df = df[['concatenated']]\n",
    "df"
   ]
  },
  {
   "cell_type": "code",
   "execution_count": 11,
   "id": "steady-spirit",
   "metadata": {},
   "outputs": [],
   "source": [
    "df.to_csv('/Users/ivowings/Sync/Thesis/Datasources/Preprocessed/Combined/Taxonomy/Sorted/Ready for annotation/context_1.csv',index=False)"
   ]
  },
  {
   "cell_type": "code",
   "execution_count": null,
   "id": "functioning-favorite",
   "metadata": {},
   "outputs": [],
   "source": []
  }
 ],
 "metadata": {
  "kernelspec": {
   "display_name": "Python 3",
   "language": "python",
   "name": "python3"
  },
  "language_info": {
   "codemirror_mode": {
    "name": "ipython",
    "version": 3
   },
   "file_extension": ".py",
   "mimetype": "text/x-python",
   "name": "python",
   "nbconvert_exporter": "python",
   "pygments_lexer": "ipython3",
   "version": "3.8.8"
  }
 },
 "nbformat": 4,
 "nbformat_minor": 5
}
