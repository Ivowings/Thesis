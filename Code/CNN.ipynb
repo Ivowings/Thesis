{
 "cells": [
  {
   "cell_type": "code",
   "execution_count": 1,
   "id": "competitive-course",
   "metadata": {},
   "outputs": [],
   "source": [
    "import pandas as pd\n",
    "import thesis_helper\n",
    "functions = thesis_helper.Thesis_Helper()"
   ]
  },
  {
   "cell_type": "code",
   "execution_count": 4,
   "id": "recognized-edward",
   "metadata": {},
   "outputs": [],
   "source": [
    "x = functions.load_object('x_elmo')\n",
    "y = functions.load_object('y_elmo')"
   ]
  },
  {
   "cell_type": "code",
   "execution_count": 5,
   "id": "atlantic-visibility",
   "metadata": {},
   "outputs": [],
   "source": [
    "from sklearn.model_selection import train_test_split\n",
    "X_train, X_test, y_train, y_test = train_test_split(x, y, test_size=0.2, random_state=123)"
   ]
  },
  {
   "cell_type": "code",
   "execution_count": 6,
   "id": "signed-clothing",
   "metadata": {},
   "outputs": [],
   "source": [
    "#https://stackoverflow.com/questions/50005092/how-to-build-1d-convolutional-neural-network-in-keras-python\n",
    "import tensorflow as tf\n",
    "from tensorflow.keras.models import Sequential\n",
    "from tensorflow.keras import datasets, layers, models\n",
    "#from keras import GlobalMaxPooling1D\n",
    "from keras.layers import Input, Flatten, Dense, Dropout, Convolution2D, Conv2D, MaxPooling2D, Lambda, GlobalMaxPooling2D, GlobalAveragePooling2D, BatchNormalization, Activation, AveragePooling2D, Concatenate\n",
    "from keras.layers import Dense, LSTM, GlobalMaxPooling1D, MaxPooling1D,Conv1D\n",
    "import matplotlib.pyplot as plt\n",
    "import numpy as np\n",
    "\n",
    "\n",
    "#reshape the data perhaps to have one row for each token\n",
    "\n",
    "X_train, X_test, y_train, y_test = train_test_split(X, y, test_size=0.3)\n",
    "num_classes = 4\n",
    "\n",
    "X_train = X_train.reshape(X_train.shape[0], 45, 6).astype('float32')\n",
    "X_test = X_test.reshape(X_test.shape[0], 45, 6).astype('float32') \n",
    "\n",
    "model = Sequential()\n",
    "model.add(Conv1D(filters=32, kernel_size=5, input_shape=(45, 6)))\n",
    "model.add(MaxPooling1D(pool_size=5 ))\n",
    "model.add(Flatten())\n",
    "model.add(Dense(1000, activation='relu'))\n",
    "model.add(Dense(num_classes, activation='softmax'))"
   ]
  },
  {
   "cell_type": "code",
   "execution_count": 12,
   "id": "informal-austria",
   "metadata": {},
   "outputs": [
    {
     "data": {
      "text/plain": [
       "270"
      ]
     },
     "execution_count": 12,
     "metadata": {},
     "output_type": "execute_result"
    }
   ],
   "source": [
    "X = np.random.randn(4000,270)\n",
    "y = np.ones((4000,1))\n",
    "y[0:999] = 2\n",
    "y[1000:1999] = 3\n",
    "y[2000:2999] = 0\n",
    "\n",
    "len(X[0])"
   ]
  },
  {
   "cell_type": "code",
   "execution_count": null,
   "id": "graphic-thunder",
   "metadata": {},
   "outputs": [],
   "source": [
    "model.compile(optimizer='adam',\n",
    "              loss=tf.keras.losses.SparseCategoricalCrossentropy(from_logits=True),\n",
    "              metrics=['accuracy'])\n",
    "\n",
    "history = model.fit(X_train, y_train, epochs=10, \n",
    "                    validation_data=(X_test, y_test))"
   ]
  },
  {
   "cell_type": "code",
   "execution_count": null,
   "id": "flying-survey",
   "metadata": {},
   "outputs": [],
   "source": []
  }
 ],
 "metadata": {
  "kernelspec": {
   "display_name": "Python 3",
   "language": "python",
   "name": "python3"
  },
  "language_info": {
   "codemirror_mode": {
    "name": "ipython",
    "version": 3
   },
   "file_extension": ".py",
   "mimetype": "text/x-python",
   "name": "python",
   "nbconvert_exporter": "python",
   "pygments_lexer": "ipython3",
   "version": "3.8.8"
  }
 },
 "nbformat": 4,
 "nbformat_minor": 5
}
