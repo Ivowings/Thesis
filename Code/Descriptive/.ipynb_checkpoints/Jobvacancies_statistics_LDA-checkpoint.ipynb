{
 "cells": [
  {
   "cell_type": "code",
   "execution_count": 1,
   "metadata": {},
   "outputs": [],
   "source": [
    "# from https://www.machinelearningplus.com/nlp/topic-modeling-gensim-python/"
   ]
  },
  {
   "cell_type": "code",
   "execution_count": 2,
   "metadata": {},
   "outputs": [],
   "source": [
    "import re\n",
    "import numpy as np\n",
    "import pandas as pd\n",
    "from pprint import pprint\n",
    "\n",
    "# Gensim\n",
    "import gensim\n",
    "import gensim.corpora as corpora\n",
    "from gensim.utils import simple_preprocess\n",
    "from gensim.models import CoherenceModel\n",
    "\n",
    "# spacy for lemmatization\n",
    "import spacy\n",
    "\n",
    "# Plotting tools\n",
    "import pyLDAvis\n",
    "import pyLDAvis.gensim  # don't skip this\n",
    "import matplotlib.pyplot as plt\n",
    "%matplotlib inline"
   ]
  },
  {
   "cell_type": "code",
   "execution_count": 3,
   "metadata": {},
   "outputs": [
    {
     "name": "stderr",
     "output_type": "stream",
     "text": [
      "/Users/ivowings/opt/anaconda3/envs/Thesis/lib/python3.8/site-packages/ipykernel/ipkernel.py:287: DeprecationWarning: `should_run_async` will not call `transform_cell` automatically in the future. Please pass the result to `transformed_cell` argument and any exception that happen during thetransform in `preprocessing_exc_tuple` in IPython 7.17 and above.\n",
      "  and should_run_async(code)\n"
     ]
    }
   ],
   "source": [
    "#df = pd.read_csv(\"/Users/ivowings/Sync/Thesis/Datasources/Preprocessed/jobpostings_anonymized_test.csv\")\n",
    "df = pd.read_csv('/Users/ivowings/Sync/Thesis/Datasources/Preprocessed/sentences/sentences_emscad.csv')"
   ]
  },
  {
   "cell_type": "code",
   "execution_count": 4,
   "metadata": {},
   "outputs": [
    {
     "name": "stderr",
     "output_type": "stream",
     "text": [
      "/Users/ivowings/opt/anaconda3/envs/Thesis/lib/python3.8/site-packages/ipykernel/ipkernel.py:287: DeprecationWarning: `should_run_async` will not call `transform_cell` automatically in the future. Please pass the result to `transformed_cell` argument and any exception that happen during thetransform in `preprocessing_exc_tuple` in IPython 7.17 and above.\n",
      "  and should_run_async(code)\n",
      "<>:4: DeprecationWarning: invalid escape sequence \\S\n",
      "<>:7: DeprecationWarning: invalid escape sequence \\s\n",
      "<>:4: DeprecationWarning: invalid escape sequence \\S\n",
      "<>:7: DeprecationWarning: invalid escape sequence \\s\n",
      "<ipython-input-4-3b36b2935652>:4: DeprecationWarning: invalid escape sequence \\S\n",
      "  df = [re.sub('\\S*@\\S*\\s?', '', sent) for sent in df]\n",
      "<ipython-input-4-3b36b2935652>:7: DeprecationWarning: invalid escape sequence \\s\n",
      "  df = [re.sub('\\s+', ' ', sent) for sent in df]\n"
     ]
    }
   ],
   "source": [
    "df = df['sentence'].values.tolist()\n",
    "\n",
    "# Remove Emails\n",
    "df = [re.sub('\\S*@\\S*\\s?', '', sent) for sent in df]\n",
    "\n",
    "# Remove new line characters\n",
    "df = [re.sub('\\s+', ' ', sent) for sent in df]\n",
    "\n",
    "# Remove distracting single quotes\n",
    "df = [re.sub(\"\\'\", \"\", sent) for sent in df]"
   ]
  },
  {
   "cell_type": "code",
   "execution_count": 5,
   "metadata": {},
   "outputs": [
    {
     "name": "stderr",
     "output_type": "stream",
     "text": [
      "/Users/ivowings/opt/anaconda3/envs/Thesis/lib/python3.8/site-packages/ipykernel/ipkernel.py:287: DeprecationWarning: `should_run_async` will not call `transform_cell` automatically in the future. Please pass the result to `transformed_cell` argument and any exception that happen during thetransform in `preprocessing_exc_tuple` in IPython 7.17 and above.\n",
      "  and should_run_async(code)\n"
     ]
    }
   ],
   "source": [
    "# NLTK Stop words\n",
    "from nltk.corpus import stopwords\n",
    "stop_words = stopwords.words('english')\n",
    "stop_words.extend(['from', 'subject', 're', 'edu', 'use'])"
   ]
  },
  {
   "cell_type": "code",
   "execution_count": 6,
   "metadata": {},
   "outputs": [
    {
     "name": "stderr",
     "output_type": "stream",
     "text": [
      "/Users/ivowings/opt/anaconda3/envs/Thesis/lib/python3.8/site-packages/ipykernel/ipkernel.py:287: DeprecationWarning: `should_run_async` will not call `transform_cell` automatically in the future. Please pass the result to `transformed_cell` argument and any exception that happen during thetransform in `preprocessing_exc_tuple` in IPython 7.17 and above.\n",
      "  and should_run_async(code)\n"
     ]
    },
    {
     "name": "stdout",
     "output_type": "stream",
     "text": [
      "[['food', 'fast', 'growing', 'james', 'beard', 'award', 'winning', 'online', 'food', 'community', 'and', 'crowd', 'sourced', 'and', 'curated', 'recipe', 'hub', 'is', 'currently', 'interviewing', 'full', 'and', 'part', 'time', 'unpaid', 'interns', 'to', 'work', 'in', 'small', 'team', 'of', 'editors', 'executives', 'and', 'developers', 'in', 'its', 'new', 'york', 'city', 'headquarters']]\n"
     ]
    }
   ],
   "source": [
    "def sent_to_words(sentences):\n",
    "    for sentence in sentences:\n",
    "        yield(gensim.utils.simple_preprocess(str(sentence), deacc=True))  # deacc=True removes punctuations\n",
    "\n",
    "data_words = list(sent_to_words(df))\n",
    "\n",
    "print(data_words[:1])"
   ]
  },
  {
   "cell_type": "code",
   "execution_count": 7,
   "metadata": {},
   "outputs": [
    {
     "name": "stderr",
     "output_type": "stream",
     "text": [
      "/Users/ivowings/opt/anaconda3/envs/Thesis/lib/python3.8/site-packages/ipykernel/ipkernel.py:287: DeprecationWarning: `should_run_async` will not call `transform_cell` automatically in the future. Please pass the result to `transformed_cell` argument and any exception that happen during thetransform in `preprocessing_exc_tuple` in IPython 7.17 and above.\n",
      "  and should_run_async(code)\n"
     ]
    },
    {
     "name": "stdout",
     "output_type": "stream",
     "text": [
      "['food', 'fast', 'growing', 'james_beard_award_winning', 'online', 'food', 'community', 'and', 'crowd_sourced', 'and', 'curated_recipe_hub', 'is', 'currently', 'interviewing', 'full', 'and', 'part', 'time', 'unpaid', 'interns', 'to', 'work', 'in', 'small', 'team', 'of', 'editors', 'executives', 'and', 'developers', 'in', 'its', 'new', 'york_city', 'headquarters']\n"
     ]
    }
   ],
   "source": [
    "# Build the bigram and trigram models\n",
    "bigram = gensim.models.Phrases(data_words, min_count=5, threshold=100) # higher threshold fewer phrases.\n",
    "trigram = gensim.models.Phrases(bigram[data_words], threshold=100)  \n",
    "\n",
    "# Faster way to get a sentence clubbed as a trigram/bigram\n",
    "bigram_mod = gensim.models.phrases.Phraser(bigram)\n",
    "trigram_mod = gensim.models.phrases.Phraser(trigram)\n",
    "\n",
    "# See trigram example\n",
    "print(trigram_mod[bigram_mod[data_words[0]]])"
   ]
  },
  {
   "cell_type": "code",
   "execution_count": 8,
   "metadata": {},
   "outputs": [
    {
     "name": "stderr",
     "output_type": "stream",
     "text": [
      "/Users/ivowings/opt/anaconda3/envs/Thesis/lib/python3.8/site-packages/ipykernel/ipkernel.py:287: DeprecationWarning: `should_run_async` will not call `transform_cell` automatically in the future. Please pass the result to `transformed_cell` argument and any exception that happen during thetransform in `preprocessing_exc_tuple` in IPython 7.17 and above.\n",
      "  and should_run_async(code)\n"
     ]
    }
   ],
   "source": [
    "# Define functions for stopwords, bigrams, trigrams and lemmatization\n",
    "def remove_stopwords(texts):\n",
    "    return [[word for word in simple_preprocess(str(doc)) if word not in stop_words] for doc in texts]\n",
    "\n",
    "def make_bigrams(texts):\n",
    "    return [bigram_mod[doc] for doc in texts]\n",
    "\n",
    "def make_trigrams(texts):\n",
    "    return [trigram_mod[bigram_mod[doc]] for doc in texts]\n",
    "\n",
    "def lemmatization(texts, allowed_postags=['NOUN', 'ADJ', 'VERB', 'ADV']):\n",
    "    \"\"\"https://spacy.io/api/annotation\"\"\"\n",
    "    texts_out = []\n",
    "    for sent in texts:\n",
    "        doc = nlp(\" \".join(sent)) \n",
    "        texts_out.append([token.lemma_ for token in doc if token.pos_ in allowed_postags])\n",
    "    return texts_out"
   ]
  },
  {
   "cell_type": "code",
   "execution_count": 9,
   "metadata": {},
   "outputs": [
    {
     "name": "stderr",
     "output_type": "stream",
     "text": [
      "/Users/ivowings/opt/anaconda3/envs/Thesis/lib/python3.8/site-packages/ipykernel/ipkernel.py:287: DeprecationWarning: `should_run_async` will not call `transform_cell` automatically in the future. Please pass the result to `transformed_cell` argument and any exception that happen during thetransform in `preprocessing_exc_tuple` in IPython 7.17 and above.\n",
      "  and should_run_async(code)\n"
     ]
    },
    {
     "name": "stdout",
     "output_type": "stream",
     "text": [
      "[['food', 'fast', 'grow', 'award_winne', 'online', 'food', 'community', 'crowd_source', 'hub', 'currently', 'interview', 'full', 'part', 'time', 'unpaid', 'intern', 'work', 'small', 'team', 'editor', 'executive', 'developer', 'headquarters']]\n"
     ]
    }
   ],
   "source": [
    "# Remove Stop Words\n",
    "data_words_nostops = remove_stopwords(data_words)\n",
    "\n",
    "# Form Bigrams\n",
    "data_words_bigrams = make_bigrams(data_words_nostops)\n",
    "\n",
    "# Initialize spacy 'en' model, keeping only tagger component (for efficiency)\n",
    "# python3 -m spacy download en\n",
    "nlp = spacy.load('en', disable=['parser', 'ner'])\n",
    "\n",
    "# Do lemmatization keeping only noun, adj, vb, adv\n",
    "data_lemmatized = lemmatization(data_words_bigrams, allowed_postags=['NOUN', 'ADJ', 'VERB', 'ADV'])\n",
    "\n",
    "print(data_lemmatized[:1])"
   ]
  },
  {
   "cell_type": "code",
   "execution_count": 10,
   "metadata": {},
   "outputs": [
    {
     "name": "stderr",
     "output_type": "stream",
     "text": [
      "/Users/ivowings/opt/anaconda3/envs/Thesis/lib/python3.8/site-packages/ipykernel/ipkernel.py:287: DeprecationWarning: `should_run_async` will not call `transform_cell` automatically in the future. Please pass the result to `transformed_cell` argument and any exception that happen during thetransform in `preprocessing_exc_tuple` in IPython 7.17 and above.\n",
      "  and should_run_async(code)\n"
     ]
    },
    {
     "name": "stdout",
     "output_type": "stream",
     "text": [
      "[[(0, 1), (1, 1), (2, 1), (3, 1), (4, 1), (5, 1), (6, 1), (7, 1), (8, 2), (9, 1), (10, 1), (11, 1), (12, 1), (13, 1), (14, 1), (15, 1), (16, 1), (17, 1), (18, 1), (19, 1), (20, 1), (21, 1)]]\n"
     ]
    }
   ],
   "source": [
    "# Create Dictionary\n",
    "id2word = corpora.Dictionary(data_lemmatized)\n",
    "\n",
    "# Create Corpus\n",
    "texts = data_lemmatized\n",
    "\n",
    "# Term Document Frequency\n",
    "corpus = [id2word.doc2bow(text) for text in texts]\n",
    "\n",
    "# View\n",
    "print(corpus[:1])"
   ]
  },
  {
   "cell_type": "code",
   "execution_count": 11,
   "metadata": {},
   "outputs": [
    {
     "name": "stderr",
     "output_type": "stream",
     "text": [
      "/Users/ivowings/opt/anaconda3/envs/Thesis/lib/python3.8/site-packages/ipykernel/ipkernel.py:287: DeprecationWarning: `should_run_async` will not call `transform_cell` automatically in the future. Please pass the result to `transformed_cell` argument and any exception that happen during thetransform in `preprocessing_exc_tuple` in IPython 7.17 and above.\n",
      "  and should_run_async(code)\n"
     ]
    },
    {
     "name": "stdout",
     "output_type": "stream",
     "text": [
      "[(0, '0.056*\"project\" + 0.053*\"company\" + 0.042*\"look\" + 0.037*\"candidate\" + 0.036*\"system\" + 0.034*\"manage\" + 0.030*\"high\" + 0.027*\"requirement\" + 0.020*\"quality\" + 0.018*\"key\"'), (1, '0.101*\"ability\" + 0.054*\"software\" + 0.045*\"user\" + 0.029*\"issue\" + 0.028*\"perform\" + 0.027*\"platform\" + 0.024*\"problem\" + 0.023*\"prove\" + 0.023*\"task\" + 0.022*\"day\"'), (2, '0.081*\"require\" + 0.069*\"support\" + 0.048*\"position\" + 0.046*\"maintain\" + 0.045*\"base\" + 0.033*\"degree\" + 0.033*\"datum\" + 0.027*\"training\" + 0.026*\"prefer\" + 0.024*\"apply\"'), (3, '0.063*\"help\" + 0.033*\"individual\" + 0.031*\"employee\" + 0.030*\"office\" + 0.029*\"mobile\" + 0.028*\"analysis\" + 0.023*\"designer\" + 0.023*\"prepare\" + 0.022*\"startup\" + 0.022*\"hour\"'), (4, '0.138*\"team\" + 0.048*\"time\" + 0.033*\"grow\" + 0.028*\"report\" + 0.027*\"join\" + 0.025*\"full\" + 0.022*\"learn\" + 0.018*\"start\" + 0.017*\"database\" + 0.017*\"relate\"'), (5, '0.116*\"experience\" + 0.101*\"work\" + 0.060*\"customer\" + 0.056*\"service\" + 0.033*\"provide\" + 0.033*\"year\" + 0.020*\"role\" + 0.020*\"technical\" + 0.019*\"lead\" + 0.017*\"level\"'), (6, '0.097*\"skill\" + 0.068*\"sale\" + 0.063*\"business\" + 0.046*\"strong\" + 0.039*\"environment\" + 0.037*\"communication\" + 0.037*\"technology\" + 0.029*\"excellent\" + 0.028*\"write\" + 0.021*\"follow\"'), (7, '0.069*\"knowledge\" + 0.060*\"web\" + 0.058*\"application\" + 0.044*\"create\" + 0.040*\"test\" + 0.032*\"developer\" + 0.025*\"demonstrate\" + 0.023*\"also\" + 0.021*\"code\" + 0.019*\"may\"'), (8, '0.048*\"design\" + 0.034*\"develop\" + 0.033*\"marketing\" + 0.028*\"job\" + 0.025*\"opportunity\" + 0.023*\"professional\" + 0.022*\"make\" + 0.021*\"drive\" + 0.017*\"program\" + 0.015*\"title\"'), (9, '0.044*\"product\" + 0.037*\"client\" + 0.034*\"management\" + 0.031*\"development\" + 0.030*\"new\" + 0.030*\"include\" + 0.026*\"must\" + 0.024*\"need\" + 0.020*\"good\" + 0.019*\"process\"')]\n"
     ]
    }
   ],
   "source": [
    "lda_model = gensim.models.ldamodel.LdaModel(corpus=corpus,\n",
    "                                               id2word=id2word,\n",
    "                                               num_topics=10, \n",
    "                                               random_state=100,\n",
    "                                               update_every=1,\n",
    "                                               chunksize=100,\n",
    "                                               passes=10,\n",
    "                                               alpha='auto',\n",
    "                                               per_word_topics=True)\n",
    "\n",
    "print(lda_model.print_topics())\n",
    "doc_lda = lda_model[corpus]"
   ]
  },
  {
   "cell_type": "code",
   "execution_count": 12,
   "metadata": {},
   "outputs": [
    {
     "name": "stderr",
     "output_type": "stream",
     "text": [
      "/Users/ivowings/opt/anaconda3/envs/Thesis/lib/python3.8/site-packages/ipykernel/ipkernel.py:287: DeprecationWarning: `should_run_async` will not call `transform_cell` automatically in the future. Please pass the result to `transformed_cell` argument and any exception that happen during thetransform in `preprocessing_exc_tuple` in IPython 7.17 and above.\n",
      "  and should_run_async(code)\n"
     ]
    },
    {
     "data": {
      "text/plain": [
       "[(0,\n",
       "  '0.056*\"project\" + 0.053*\"company\" + 0.042*\"look\" + 0.037*\"candidate\" + 0.036*\"system\" + 0.034*\"manage\" + 0.030*\"high\" + 0.027*\"requirement\" + 0.020*\"quality\" + 0.018*\"key\"'),\n",
       " (1,\n",
       "  '0.101*\"ability\" + 0.054*\"software\" + 0.045*\"user\" + 0.029*\"issue\" + 0.028*\"perform\" + 0.027*\"platform\" + 0.024*\"problem\" + 0.023*\"prove\" + 0.023*\"task\" + 0.022*\"day\"'),\n",
       " (2,\n",
       "  '0.081*\"require\" + 0.069*\"support\" + 0.048*\"position\" + 0.046*\"maintain\" + 0.045*\"base\" + 0.033*\"degree\" + 0.033*\"datum\" + 0.027*\"training\" + 0.026*\"prefer\" + 0.024*\"apply\"'),\n",
       " (3,\n",
       "  '0.063*\"help\" + 0.033*\"individual\" + 0.031*\"employee\" + 0.030*\"office\" + 0.029*\"mobile\" + 0.028*\"analysis\" + 0.023*\"designer\" + 0.023*\"prepare\" + 0.022*\"startup\" + 0.022*\"hour\"'),\n",
       " (4,\n",
       "  '0.138*\"team\" + 0.048*\"time\" + 0.033*\"grow\" + 0.028*\"report\" + 0.027*\"join\" + 0.025*\"full\" + 0.022*\"learn\" + 0.018*\"start\" + 0.017*\"database\" + 0.017*\"relate\"'),\n",
       " (5,\n",
       "  '0.116*\"experience\" + 0.101*\"work\" + 0.060*\"customer\" + 0.056*\"service\" + 0.033*\"provide\" + 0.033*\"year\" + 0.020*\"role\" + 0.020*\"technical\" + 0.019*\"lead\" + 0.017*\"level\"'),\n",
       " (6,\n",
       "  '0.097*\"skill\" + 0.068*\"sale\" + 0.063*\"business\" + 0.046*\"strong\" + 0.039*\"environment\" + 0.037*\"communication\" + 0.037*\"technology\" + 0.029*\"excellent\" + 0.028*\"write\" + 0.021*\"follow\"'),\n",
       " (7,\n",
       "  '0.069*\"knowledge\" + 0.060*\"web\" + 0.058*\"application\" + 0.044*\"create\" + 0.040*\"test\" + 0.032*\"developer\" + 0.025*\"demonstrate\" + 0.023*\"also\" + 0.021*\"code\" + 0.019*\"may\"'),\n",
       " (8,\n",
       "  '0.048*\"design\" + 0.034*\"develop\" + 0.033*\"marketing\" + 0.028*\"job\" + 0.025*\"opportunity\" + 0.023*\"professional\" + 0.022*\"make\" + 0.021*\"drive\" + 0.017*\"program\" + 0.015*\"title\"'),\n",
       " (9,\n",
       "  '0.044*\"product\" + 0.037*\"client\" + 0.034*\"management\" + 0.031*\"development\" + 0.030*\"new\" + 0.030*\"include\" + 0.026*\"must\" + 0.024*\"need\" + 0.020*\"good\" + 0.019*\"process\"')]"
      ]
     },
     "execution_count": 12,
     "metadata": {},
     "output_type": "execute_result"
    }
   ],
   "source": [
    "lda_model.show_topics(num_topics=10, num_words=10, log=False, formatted=True)"
   ]
  },
  {
   "cell_type": "code",
   "execution_count": 13,
   "metadata": {},
   "outputs": [
    {
     "name": "stdout",
     "output_type": "stream",
     "text": [
      "[   (   0,\n",
      "        '0.056*\"project\" + 0.053*\"company\" + 0.042*\"look\" + 0.037*\"candidate\" '\n",
      "        '+ 0.036*\"system\" + 0.034*\"manage\" + 0.030*\"high\" + '\n",
      "        '0.027*\"requirement\" + 0.020*\"quality\" + 0.018*\"key\"'),\n",
      "    (   1,\n",
      "        '0.101*\"ability\" + 0.054*\"software\" + 0.045*\"user\" + 0.029*\"issue\" + '\n",
      "        '0.028*\"perform\" + 0.027*\"platform\" + 0.024*\"problem\" + 0.023*\"prove\" '\n",
      "        '+ 0.023*\"task\" + 0.022*\"day\"'),\n",
      "    (   2,\n",
      "        '0.081*\"require\" + 0.069*\"support\" + 0.048*\"position\" + '\n",
      "        '0.046*\"maintain\" + 0.045*\"base\" + 0.033*\"degree\" + 0.033*\"datum\" + '\n",
      "        '0.027*\"training\" + 0.026*\"prefer\" + 0.024*\"apply\"'),\n",
      "    (   3,\n",
      "        '0.063*\"help\" + 0.033*\"individual\" + 0.031*\"employee\" + 0.030*\"office\" '\n",
      "        '+ 0.029*\"mobile\" + 0.028*\"analysis\" + 0.023*\"designer\" + '\n",
      "        '0.023*\"prepare\" + 0.022*\"startup\" + 0.022*\"hour\"'),\n",
      "    (   4,\n",
      "        '0.138*\"team\" + 0.048*\"time\" + 0.033*\"grow\" + 0.028*\"report\" + '\n",
      "        '0.027*\"join\" + 0.025*\"full\" + 0.022*\"learn\" + 0.018*\"start\" + '\n",
      "        '0.017*\"database\" + 0.017*\"relate\"'),\n",
      "    (   5,\n",
      "        '0.116*\"experience\" + 0.101*\"work\" + 0.060*\"customer\" + '\n",
      "        '0.056*\"service\" + 0.033*\"provide\" + 0.033*\"year\" + 0.020*\"role\" + '\n",
      "        '0.020*\"technical\" + 0.019*\"lead\" + 0.017*\"level\"'),\n",
      "    (   6,\n",
      "        '0.097*\"skill\" + 0.068*\"sale\" + 0.063*\"business\" + 0.046*\"strong\" + '\n",
      "        '0.039*\"environment\" + 0.037*\"communication\" + 0.037*\"technology\" + '\n",
      "        '0.029*\"excellent\" + 0.028*\"write\" + 0.021*\"follow\"'),\n",
      "    (   7,\n",
      "        '0.069*\"knowledge\" + 0.060*\"web\" + 0.058*\"application\" + '\n",
      "        '0.044*\"create\" + 0.040*\"test\" + 0.032*\"developer\" + '\n",
      "        '0.025*\"demonstrate\" + 0.023*\"also\" + 0.021*\"code\" + 0.019*\"may\"'),\n",
      "    (   8,\n",
      "        '0.048*\"design\" + 0.034*\"develop\" + 0.033*\"marketing\" + 0.028*\"job\" + '\n",
      "        '0.025*\"opportunity\" + 0.023*\"professional\" + 0.022*\"make\" + '\n",
      "        '0.021*\"drive\" + 0.017*\"program\" + 0.015*\"title\"'),\n",
      "    (   9,\n",
      "        '0.044*\"product\" + 0.037*\"client\" + 0.034*\"management\" + '\n",
      "        '0.031*\"development\" + 0.030*\"new\" + 0.030*\"include\" + 0.026*\"must\" + '\n",
      "        '0.024*\"need\" + 0.020*\"good\" + 0.019*\"process\"')]\n"
     ]
    },
    {
     "name": "stderr",
     "output_type": "stream",
     "text": [
      "/Users/ivowings/opt/anaconda3/envs/Thesis/lib/python3.8/site-packages/ipykernel/ipkernel.py:287: DeprecationWarning: `should_run_async` will not call `transform_cell` automatically in the future. Please pass the result to `transformed_cell` argument and any exception that happen during thetransform in `preprocessing_exc_tuple` in IPython 7.17 and above.\n",
      "  and should_run_async(code)\n"
     ]
    }
   ],
   "source": [
    "import pprint\n",
    "pp = pprint.PrettyPrinter(indent=4)\n",
    "pp.pprint(lda_model.print_topics())"
   ]
  },
  {
   "cell_type": "code",
   "execution_count": 14,
   "metadata": {},
   "outputs": [
    {
     "name": "stderr",
     "output_type": "stream",
     "text": [
      "/Users/ivowings/opt/anaconda3/envs/Thesis/lib/python3.8/site-packages/ipykernel/ipkernel.py:287: DeprecationWarning: `should_run_async` will not call `transform_cell` automatically in the future. Please pass the result to `transformed_cell` argument and any exception that happen during thetransform in `preprocessing_exc_tuple` in IPython 7.17 and above.\n",
      "  and should_run_async(code)\n"
     ]
    }
   ],
   "source": [
    "# %%time\n",
    "# kvalues = []\n",
    "# perplexity = []\n",
    "# coherence = []\n",
    "# # Build LDA model\n",
    "# kvalues.append(k)\n",
    "# lda_model = gensim.models.ldamodel.LdaModel(corpus=corpus,\n",
    "#                                            id2word=id2word,\n",
    "#                                            num_topics=k, \n",
    "#                                            random_state=100,\n",
    "#                                            update_every=1,\n",
    "#                                            chunksize=100,\n",
    "#                                            passes=10,\n",
    "#                                            alpha='auto',\n",
    "#                                            per_word_topics=True)\n",
    "\n",
    "# # Compute Perplexity\n",
    "# print('\\nPerplexity: ', lda_model.log_perplexity(corpus))  # a measure of how good the model is. lower the better.\n",
    "# perplexity.append(lda_model.log_perplexity(corpus))\n",
    "\n",
    "# # Compute Coherence Score\n",
    "# coherence_model_lda = CoherenceModel(model=lda_model, texts=data_lemmatized, dictionary=id2word, coherence='c_v')\n",
    "# coherence_lda = coherence_model_lda.get_coherence()\n",
    "# print('\\nCoherence Score: ', coherence_lda)\n",
    "# coherence.append(coherence_lda)\n",
    "\n",
    "# print(k, ' is finished.')"
   ]
  },
  {
   "cell_type": "code",
   "execution_count": 15,
   "metadata": {},
   "outputs": [
    {
     "name": "stderr",
     "output_type": "stream",
     "text": [
      "/Users/ivowings/opt/anaconda3/envs/Thesis/lib/python3.8/site-packages/ipykernel/ipkernel.py:287: DeprecationWarning: `should_run_async` will not call `transform_cell` automatically in the future. Please pass the result to `transformed_cell` argument and any exception that happen during thetransform in `preprocessing_exc_tuple` in IPython 7.17 and above.\n",
      "  and should_run_async(code)\n"
     ]
    }
   ],
   "source": [
    "#20 topics has the highest coherence score. Maybe try even more topics as the score only increased?"
   ]
  },
  {
   "cell_type": "code",
   "execution_count": 16,
   "metadata": {},
   "outputs": [
    {
     "name": "stderr",
     "output_type": "stream",
     "text": [
      "/Users/ivowings/opt/anaconda3/envs/Thesis/lib/python3.8/site-packages/ipykernel/ipkernel.py:287: DeprecationWarning: `should_run_async` will not call `transform_cell` automatically in the future. Please pass the result to `transformed_cell` argument and any exception that happen during thetransform in `preprocessing_exc_tuple` in IPython 7.17 and above.\n",
      "  and should_run_async(code)\n"
     ]
    }
   ],
   "source": [
    "# Print the Keyword in the 10 topics\n",
    "#print(lda_model.print_topics())\n",
    "#doc_lda = lda_model[corpus]"
   ]
  },
  {
   "cell_type": "code",
   "execution_count": 17,
   "metadata": {},
   "outputs": [
    {
     "name": "stderr",
     "output_type": "stream",
     "text": [
      "/Users/ivowings/opt/anaconda3/envs/Thesis/lib/python3.8/site-packages/ipykernel/ipkernel.py:287: DeprecationWarning: `should_run_async` will not call `transform_cell` automatically in the future. Please pass the result to `transformed_cell` argument and any exception that happen during thetransform in `preprocessing_exc_tuple` in IPython 7.17 and above.\n",
      "  and should_run_async(code)\n"
     ]
    }
   ],
   "source": [
    "# # Compute Perplexity\n",
    "# print('\\nPerplexity: ', lda_model.log_perplexity(corpus))  # a measure of how good the model is. lower the better.\n",
    "\n",
    "# # Compute Coherence Score\n",
    "# coherence_model_lda = CoherenceModel(model=lda_model, texts=data_lemmatized, dictionary=id2word, coherence='c_v')\n",
    "# coherence_lda = coherence_model_lda.get_coherence()\n",
    "# print('\\nCoherence Score: ', coherence_lda)"
   ]
  },
  {
   "cell_type": "code",
   "execution_count": 18,
   "metadata": {},
   "outputs": [
    {
     "name": "stderr",
     "output_type": "stream",
     "text": [
      "/Users/ivowings/opt/anaconda3/envs/Thesis/lib/python3.8/site-packages/ipykernel/ipkernel.py:287: DeprecationWarning: `should_run_async` will not call `transform_cell` automatically in the future. Please pass the result to `transformed_cell` argument and any exception that happen during thetransform in `preprocessing_exc_tuple` in IPython 7.17 and above.\n",
      "  and should_run_async(code)\n"
     ]
    },
    {
     "data": {
      "text/html": [
       "\n",
       "<link rel=\"stylesheet\" type=\"text/css\" href=\"https://cdn.jsdelivr.net/gh/bmabey/pyLDAvis@3.2.2/pyLDAvis/js/ldavis.v1.0.0.css\">\n",
       "\n",
       "\n",
       "<div id=\"ldavis_el683271407264027627844941002801\"></div>\n",
       "<script type=\"text/javascript\">\n",
       "\n",
       "var ldavis_el683271407264027627844941002801_data = {\"mdsDat\": {\"x\": [0.3314481881005918, 0.2719575085629869, -0.0063475329568137276, -0.04683906259673789, -0.06266666140813296, -0.09261083166992704, -0.10022015753601127, -0.09379673198369447, -0.10154452031136081, -0.09938019820090009], \"y\": [-0.3161276551230578, 0.369503556305729, -0.0004039273231811845, -0.012073916225263394, -0.007714156689988514, -0.01059026465239625, -0.01149114067138536, 0.00017909481035856614, -0.0010956249162292473, -0.010185965514585477], \"topics\": [1, 2, 3, 4, 5, 6, 7, 8, 9, 10], \"cluster\": [1, 1, 1, 1, 1, 1, 1, 1, 1, 1], \"Freq\": [18.395515961568563, 15.82116506052415, 12.1522708669194, 11.266323426315841, 10.478263566285786, 8.026624162956123, 6.615111021841488, 6.558458406989576, 5.817093641782649, 4.8691738848164245]}, \"tinfo\": {\"Term\": [\"experience\", \"work\", \"team\", \"skill\", \"ability\", \"customer\", \"service\", \"sale\", \"business\", \"require\", \"project\", \"product\", \"company\", \"support\", \"design\", \"client\", \"knowledge\", \"strong\", \"management\", \"look\", \"web\", \"provide\", \"year\", \"time\", \"software\", \"application\", \"development\", \"environment\", \"help\", \"new\", \"product\", \"client\", \"management\", \"development\", \"new\", \"include\", \"must\", \"need\", \"good\", \"process\", \"ensure\", \"build\", \"able\", \"manager\", \"market\", \"well\", \"understand\", \"use\", \"assist\", \"deliver\", \"tool\", \"take\", \"network\", \"seek\", \"website\", \"engineer\", \"success\", \"focus\", \"online\", \"qualification\", \"experience\", \"work\", \"customer\", \"service\", \"provide\", \"year\", \"role\", \"technical\", \"lead\", \"level\", \"people\", \"solution\", \"industry\", \"great\", \"want\", \"performance\", \"meet\", \"field\", \"highly\", \"minimum\", \"detail\", \"closing\", \"hand\", \"least\", \"care\", \"financial\", \"positive\", \"attitude\", \"passion\", \"engineering\", \"design\", \"develop\", \"marketing\", \"job\", \"opportunity\", \"professional\", \"make\", \"drive\", \"program\", \"title\", \"strategy\", \"close\", \"account\", \"creative\", \"offer\", \"area\", \"growth\", \"implement\", \"would\", \"love\", \"partner\", \"implementation\", \"idea\", \"career\", \"personal\", \"essential\", \"benefit\", \"relevant\", \"available\", \"app\", \"project\", \"company\", \"look\", \"candidate\", \"system\", \"manage\", \"high\", \"requirement\", \"quality\", \"key\", \"responsible\", \"plan\", \"relationship\", \"successful\", \"production\", \"staff\", \"hire\", \"operation\", \"content\", \"duty\", \"activity\", \"communicate\", \"home\", \"ideal\", \"establish\", \"standard\", \"leadership\", \"delivery\", \"quickly\", \"maintenance\", \"skill\", \"sale\", \"business\", \"strong\", \"environment\", \"communication\", \"technology\", \"excellent\", \"write\", \"follow\", \"information\", \"social\", \"medium\", \"change\", \"identify\", \"world\", \"organization\", \"understanding\", \"computer\", \"know\", \"desire\", \"verbal\", \"internal\", \"practice\", \"basic\", \"thing\", \"possess\", \"complex\", \"fast_pace\", \"face\", \"team\", \"time\", \"grow\", \"report\", \"join\", \"full\", \"learn\", \"start\", \"database\", \"relate\", \"brand\", \"part\", \"fast\", \"call\", \"digital\", \"direct\", \"complete\", \"pay\", \"effectively\", \"global\", \"currently\", \"organize\", \"way\", \"community\", \"event\", \"handle\", \"closely\", \"fun\", \"contribute\", \"package\", \"ability\", \"software\", \"user\", \"issue\", \"perform\", \"platform\", \"problem\", \"prove\", \"task\", \"day\", \"goal\", \"member\", \"multiple\", \"orient\", \"get\", \"end\", \"order\", \"phone\", \"current\", \"go\", \"leader\", \"result\", \"willing\", \"interest\", \"resolve\", \"initiative\", \"functional\", \"analyze\", \"hardware\", \"promote\", \"require\", \"support\", \"position\", \"maintain\", \"base\", \"degree\", \"datum\", \"training\", \"prefer\", \"apply\", \"value\", \"email\", \"person\", \"function\", \"right\", \"daily\", \"advertising\", \"travel\", \"language\", \"first\", \"innovative\", \"policy\", \"participate\", \"bachelor\", \"question\", \"analytic\", \"open\", \"track_record\", \"associate\", \"proficiency\", \"knowledge\", \"web\", \"application\", \"create\", \"test\", \"developer\", \"demonstrate\", \"also\", \"code\", \"may\", \"improve\", \"server\", \"data\", \"document\", \"background\", \"review\", \"feature\", \"operate\", \"architecture\", \"life\", \"contract\", \"evaluate\", \"trend\", \"additional\", \"file\", \"integrate\", \"request\", \"necessary\", \"date\", \"weekly\", \"help\", \"individual\", \"employee\", \"office\", \"mobile\", \"analysis\", \"designer\", \"prepare\", \"startup\", \"hour\", \"small\", \"meeting\", \"contact\", \"competitive\", \"location\", \"vision\", \"game\", \"think\", \"independently\", \"exciting\", \"general\", \"visual\", \"move\", \"future\", \"enjoy\", \"center\", \"store\", \"believe\", \"range\", \"run\"], \"Freq\": [44072.0, 38512.0, 26584.0, 24379.0, 16052.0, 22800.0, 21221.0, 17063.0, 15894.0, 12841.0, 15212.0, 19253.0, 14239.0, 10908.0, 13987.0, 16427.0, 9706.0, 11469.0, 14900.0, 11389.0, 8377.0, 12676.0, 12669.0, 9229.0, 8565.0, 8142.0, 13610.0, 9945.0, 7410.0, 13201.0, 19252.688014077783, 16426.81523913688, 14900.027387221668, 13609.827789080704, 13200.627433361286, 13114.308611382052, 11696.346214842897, 10402.766831587212, 8636.484703932949, 8463.723469587543, 7625.4708462632525, 7368.214984049778, 7066.75907978869, 6870.290325453408, 6701.563081337569, 6657.791485964666, 6114.481965477931, 5854.810323167829, 5400.452511870006, 5221.5179376971855, 5212.471945309438, 4772.421781139154, 4712.696314684734, 3888.806542194146, 3566.978822486564, 3447.0026304332505, 3397.404366268285, 3293.9744552178636, 3230.0147821070423, 3159.859522899157, 44071.64655490751, 38512.050927730575, 22799.803629422087, 21220.83994447371, 12675.874175012763, 12668.741099084458, 7526.368762848517, 7457.792450826872, 7328.41279617138, 6624.089931107102, 6522.142785426035, 5921.805087736625, 5714.567122743682, 4533.280215735259, 3894.1666042510055, 3542.3116544666304, 3435.6230612357626, 3408.6795073964995, 3382.614655539265, 3144.5193697338796, 2983.421762364999, 2881.765863873136, 2762.9667731641503, 2715.469210724701, 2647.866025716621, 2574.744379672213, 2561.0339713877042, 2541.674359715509, 2498.634792573593, 2496.778003163585, 13986.956295186943, 9799.736936070693, 9774.376877410974, 8313.461798342158, 7426.607614426951, 6702.34530556873, 6533.552212527752, 6026.517051049802, 5087.624997797318, 4490.278918288825, 4330.792823080576, 4289.950130737486, 4246.91009642991, 3721.283255615593, 3671.6005754485736, 3634.8243537065896, 3328.881905825843, 3224.4229794517623, 3125.2233586837838, 2998.3552999468525, 2720.26471937418, 2699.5464571655707, 2444.506739492317, 2376.176317015847, 2355.8741726996946, 2331.6304747952795, 2285.557324783693, 2247.5635023544282, 2235.8350467400533, 2138.7524835819004, 15211.996718559301, 14238.884224170853, 11388.60991854918, 9929.914587186158, 9627.774917826377, 9309.939576371213, 8238.210382964742, 7402.245282634025, 5552.359142314499, 4907.569992494334, 4906.714158522054, 4594.906492066227, 4300.061091615228, 3447.2091658332524, 3423.81729572595, 3386.8584891435817, 3355.095492994924, 3010.8135697867074, 3001.0393503727564, 2876.0043282705765, 2626.9533623132797, 2624.4708887126744, 2499.2895270751405, 2457.6170735971004, 2427.9858407832853, 2378.7766489249534, 2286.996529303415, 2185.5067815111165, 2182.7868846298757, 2178.460028264718, 24378.568900804898, 17062.42315541468, 15893.40061291004, 11468.861324794872, 9944.292748037462, 9359.872525224828, 9328.351930863768, 7204.204504730073, 6952.021446289295, 5172.57871958004, 4761.472017636699, 4552.670255452289, 4165.044195188441, 3926.251123904363, 3332.803729890188, 3076.9991493627085, 2775.352852759055, 2653.6213235627015, 2633.776987608313, 2538.1402228184575, 2510.7207974789303, 2477.229755313683, 2467.2967929338456, 2264.166316033659, 2151.1956178866767, 2062.8708875827697, 1984.0243467821351, 1934.232113999577, 1910.548842609602, 1862.6151243690435, 26583.31012386705, 9228.74454472849, 6418.9174164582, 5398.068886480314, 5248.740920540607, 4745.2561518526045, 4170.903855624767, 3509.9474364894077, 3370.1142042529946, 3369.766914864226, 3348.3715876339934, 3292.337199733091, 3225.38908100936, 2816.268699308866, 2681.008470204066, 2523.2691624586364, 2473.697017583736, 2395.787532587889, 2307.6166527898354, 2211.0035130831257, 2148.2465948710574, 2047.4176280241857, 2028.8074466477744, 2002.846306542425, 1999.0867011769499, 1910.340780615609, 1868.7356196949625, 1735.059583852698, 1590.2106084409156, 1554.999383109557, 16051.772650458495, 8564.080133841027, 7221.017495709393, 4606.7051806375275, 4389.399663174626, 4279.273893272117, 3859.7541488998113, 3732.4114961394343, 3599.5163482879093, 3557.763007399724, 3153.662547821359, 3011.9512584843956, 2951.817203323293, 2684.245309275362, 2537.3661106865416, 2444.189672784519, 2223.118591815033, 2122.485544109842, 2096.6932562799598, 1761.9072832475256, 1758.2116444389935, 1730.5225010288802, 1628.0851887101596, 1553.9134541238484, 1503.9775902535555, 1444.9617376791123, 1438.4585926146478, 1397.2508717750402, 1339.6464018242193, 1317.5998259976616, 12840.40433267105, 10907.313982379506, 7501.436392521061, 7308.209961009993, 7024.161372618051, 5263.788751068312, 5224.945709828774, 4235.295931169326, 4120.128649235377, 3747.279222625264, 2558.3055685539002, 2493.106952482543, 2441.3872212881142, 2361.2958841643326, 2314.020645248163, 2307.6575011975674, 2298.9825161535878, 2292.2819960698407, 2244.4198374198995, 2198.6543452363217, 2093.9937490470193, 2037.3775856291825, 1815.8779556516313, 1657.833220254112, 1631.2941962862872, 1617.8169270542717, 1575.7277614313293, 1509.7631827945022, 1287.7503652419264, 1268.4207895053758, 9705.375563721575, 8376.998342436917, 8141.2509889339635, 6159.243077484164, 5624.799485844487, 4465.047277770268, 3465.8996380604967, 3211.8459312026316, 2898.79949845256, 2599.4300046395847, 2597.8906878689604, 2549.206538149695, 2431.7223804523965, 2368.8586949696064, 2318.551332068048, 2064.4328790663953, 2052.483633004384, 1795.7138449556983, 1700.1738098671117, 1537.8871445034856, 1507.9608775845436, 1365.538120696816, 1263.634855440564, 1197.4358967721346, 1182.66387516968, 1182.0758186444093, 1135.0438029201555, 1104.8938556614062, 1074.9919499675916, 1028.8979716846782, 7409.145729589535, 3831.5817917072945, 3644.3569879519755, 3559.8323080645036, 3342.4000075756294, 3222.76188521085, 2727.4053048203336, 2721.726664443547, 2557.600043380671, 2519.5576455204528, 2290.028519400608, 2237.5766642727554, 2137.862853588691, 2005.5423326068565, 1822.4272261885128, 1821.3332842524976, 1635.6496169985444, 1621.735552296233, 1609.9416543664433, 1546.5767688286508, 1479.903123306358, 1437.748301977944, 1430.414899950537, 1427.937173807182, 1417.7268309805436, 1331.3981064968361, 1295.0693547215935, 1224.6745400838188, 1214.1659585016978, 1148.548307168836], \"Total\": [44072.0, 38512.0, 26584.0, 24379.0, 16052.0, 22800.0, 21221.0, 17063.0, 15894.0, 12841.0, 15212.0, 19253.0, 14239.0, 10908.0, 13987.0, 16427.0, 9706.0, 11469.0, 14900.0, 11389.0, 8377.0, 12676.0, 12669.0, 9229.0, 8565.0, 8142.0, 13610.0, 9945.0, 7410.0, 13201.0, 19253.622948946406, 16427.750115217415, 14900.96230511033, 13610.762718626196, 13201.562342538622, 13115.243541047794, 11697.281106294313, 10403.7017542534, 8637.419622826397, 8464.658394470614, 7626.405776596357, 7369.149922128776, 7067.693982383534, 6871.225254612656, 6702.497946751546, 6658.726412660086, 6115.416900326804, 5855.745257722896, 5401.387433735537, 5222.452852709981, 5213.406900173959, 4773.356743551405, 4713.631193537881, 3889.7414165906544, 3567.9137440036106, 3447.937550649881, 3398.339259218347, 3294.9094019929735, 3230.949749157035, 3160.794431089962, 44072.58555662655, 38512.98996548658, 22800.742600676018, 21221.778902221227, 12676.813179677187, 12669.68006277817, 7527.307782534181, 7458.73150124968, 7329.351836765736, 6625.028940139577, 6523.081781728329, 5922.744111191236, 5715.506106768973, 4534.219219138718, 3895.1056019306543, 3543.2507299284152, 3436.5620685130466, 3409.6185281576063, 3383.5537044908647, 3145.458337291815, 2984.3607365244734, 2882.7048213904227, 2763.9058695510585, 2716.4081907786103, 2648.805051969483, 2575.6834259418065, 2561.9729418544575, 2542.613340487052, 2499.5738378973033, 2497.7170180579787, 13987.889538499416, 9800.670156456956, 9775.31006201693, 8314.394968664355, 7427.540779544101, 6703.278450704707, 6534.4854290158155, 6027.450292071415, 5088.558204020391, 4491.21204374389, 4331.726038725709, 4290.883245224828, 4247.843308918091, 3722.216499046997, 3672.5337360576505, 3635.7575887745666, 3329.8150628626336, 3225.3561820656446, 3126.1565541456707, 2999.288515755401, 2721.1979870985356, 2700.4796889873824, 2445.4399935201204, 2377.1094935818574, 2356.8074205004546, 2332.56365305483, 2286.4904939240882, 2248.4967086028414, 2236.7682381171535, 2139.685727733458, 15212.931228528305, 14239.818724784764, 11389.54442548043, 9930.84908571768, 9628.709454185799, 9310.87406690533, 8239.144870552129, 7403.179757975806, 5553.293594634325, 4908.504493318033, 4907.648641361567, 4595.840984695017, 4300.995569791956, 3448.143658438042, 3424.7518586780006, 3387.792928188797, 3356.02998235657, 3011.748061479326, 3001.9738948264285, 2876.9388113554473, 2627.8878364256334, 2625.405415559572, 2500.223950541953, 2458.5515959766403, 2428.9202840633675, 2379.711133696228, 2287.9310476015226, 2186.441265797076, 2183.721428081078, 2179.394581806792, 24379.505879419557, 17063.36016124335, 15894.337629811907, 11469.798320918333, 9945.22979753235, 9360.809481455462, 9329.288988924473, 7205.141451981259, 6952.95841643617, 5173.515762755444, 4762.40902414838, 4553.607296230965, 4165.981205113211, 3927.188155910031, 3333.740781558531, 3077.936241045805, 2776.289921677833, 2654.558344247089, 2634.714061565713, 2539.077281198822, 2511.6578282395185, 2478.166662166628, 2468.2338497303067, 2265.103371539125, 2152.132657624852, 2063.8079729827014, 1984.9613431636913, 1935.1691514902418, 1911.4858165625697, 1863.5521444621168, 26584.243565410918, 9229.677955468893, 6419.850824188251, 5399.002386101903, 5249.674313402619, 4746.18954327123, 4171.83728629742, 3510.8808659622955, 3371.047703233008, 3370.7004310213497, 3349.3050759528965, 3293.2705959349883, 3226.3225204570394, 2817.2021157334234, 2681.9419372162856, 2524.202604371638, 2474.630493912626, 2396.720941724678, 2308.550123315792, 2211.9370176063667, 2149.179978235167, 2048.3510958813963, 2029.7408851800874, 2003.7797687442635, 2000.0201303137926, 1911.2741886187496, 1869.6690573272915, 1735.9930021348612, 1591.1440666911153, 1555.932825689229, 16052.707194224893, 8565.014699356063, 7221.9520862365825, 4607.639711960467, 4390.3342178477005, 4280.208515422149, 3860.6887223651484, 3733.346015746746, 3600.4509393878852, 3558.6975245263507, 3154.5970897871575, 3012.8858324766393, 2952.75175482343, 2685.1798341037643, 2538.300711518385, 2445.1242119982894, 2224.053122678334, 2123.4201285326385, 2097.6277851927057, 1762.8418549658506, 1759.1462298599877, 1731.4570288936127, 1629.0197688281949, 1554.8480778815813, 1504.91208082366, 1445.8963363663106, 1439.3931653820512, 1398.1854079211164, 1340.581066644628, 1318.53435942654, 12841.337525543438, 10908.24723302718, 7502.369568043209, 7309.14317751405, 7025.094594321897, 5264.721932139895, 5225.87893675703, 4236.229113128262, 4121.061815811489, 3748.2123905891262, 2559.2387981006327, 2494.040190591666, 2442.3204528940273, 2362.229131151533, 2314.9538773325885, 2308.590740889719, 2299.915811976167, 2293.215217913495, 2245.3530276325214, 2199.5876009407616, 2094.926931001597, 2038.3108351334645, 1816.8111979212392, 1658.76636574883, 1632.2273351325073, 1618.7501831261247, 1576.6610026141875, 1510.6964405508024, 1288.6835904947677, 1269.353989313725, 9706.313900002984, 8377.936638807843, 8142.189299400565, 6160.181423803911, 5625.737790406219, 4465.985595852604, 3466.8380100649906, 3212.784258567922, 2899.7378018160553, 2600.368349873339, 2598.829047495833, 2550.1448380211814, 2432.6607599695617, 2369.796976324679, 2319.4897201446884, 2065.3712070150295, 2053.4219839341463, 1796.6521576418136, 1701.1121165076083, 1538.8254911305846, 1508.8992173651486, 1366.476571034461, 1264.5732205221339, 1198.374271625594, 1183.6022403938864, 1183.0142214869754, 1135.98214317695, 1105.8321761378052, 1075.930395351859, 1029.836274214514, 7410.079114621091, 3832.5152090455563, 3645.290369627735, 3560.765660420216, 3343.333397533635, 3223.6953490666037, 2728.3387141774224, 2722.6600053463103, 2558.533433785023, 2520.490966110767, 2290.961895427889, 2238.5100346087015, 2138.7962120147577, 2006.475654636653, 1823.360579412884, 1822.266653791001, 1636.5830422643091, 1622.6689857774325, 1610.875043126402, 1547.5101358843983, 1480.836516751332, 1438.6817660798486, 1431.3482674168047, 1428.8705276097028, 1418.6601343145576, 1332.3315649182525, 1296.0027482806388, 1225.6078853995132, 1215.0994328383356, 1149.4816665649785], \"Category\": [\"Default\", \"Default\", \"Default\", \"Default\", \"Default\", \"Default\", \"Default\", \"Default\", \"Default\", \"Default\", \"Default\", \"Default\", \"Default\", \"Default\", \"Default\", \"Default\", \"Default\", \"Default\", \"Default\", \"Default\", \"Default\", \"Default\", \"Default\", \"Default\", \"Default\", \"Default\", \"Default\", \"Default\", \"Default\", \"Default\", \"Topic1\", \"Topic1\", \"Topic1\", \"Topic1\", \"Topic1\", \"Topic1\", \"Topic1\", \"Topic1\", \"Topic1\", \"Topic1\", \"Topic1\", \"Topic1\", \"Topic1\", \"Topic1\", \"Topic1\", \"Topic1\", \"Topic1\", \"Topic1\", \"Topic1\", \"Topic1\", \"Topic1\", \"Topic1\", \"Topic1\", \"Topic1\", \"Topic1\", \"Topic1\", \"Topic1\", \"Topic1\", \"Topic1\", \"Topic1\", \"Topic2\", \"Topic2\", \"Topic2\", \"Topic2\", \"Topic2\", \"Topic2\", \"Topic2\", \"Topic2\", \"Topic2\", \"Topic2\", \"Topic2\", \"Topic2\", \"Topic2\", \"Topic2\", \"Topic2\", \"Topic2\", \"Topic2\", \"Topic2\", \"Topic2\", \"Topic2\", \"Topic2\", \"Topic2\", \"Topic2\", \"Topic2\", \"Topic2\", \"Topic2\", \"Topic2\", \"Topic2\", \"Topic2\", \"Topic2\", \"Topic3\", \"Topic3\", \"Topic3\", \"Topic3\", \"Topic3\", \"Topic3\", \"Topic3\", \"Topic3\", \"Topic3\", \"Topic3\", \"Topic3\", \"Topic3\", \"Topic3\", \"Topic3\", \"Topic3\", \"Topic3\", \"Topic3\", \"Topic3\", \"Topic3\", \"Topic3\", \"Topic3\", \"Topic3\", \"Topic3\", \"Topic3\", \"Topic3\", \"Topic3\", \"Topic3\", \"Topic3\", \"Topic3\", \"Topic3\", \"Topic4\", \"Topic4\", \"Topic4\", \"Topic4\", \"Topic4\", \"Topic4\", \"Topic4\", \"Topic4\", \"Topic4\", \"Topic4\", \"Topic4\", \"Topic4\", \"Topic4\", \"Topic4\", \"Topic4\", \"Topic4\", \"Topic4\", \"Topic4\", \"Topic4\", \"Topic4\", \"Topic4\", \"Topic4\", \"Topic4\", \"Topic4\", \"Topic4\", \"Topic4\", \"Topic4\", \"Topic4\", \"Topic4\", \"Topic4\", \"Topic5\", \"Topic5\", \"Topic5\", \"Topic5\", \"Topic5\", \"Topic5\", \"Topic5\", \"Topic5\", \"Topic5\", \"Topic5\", \"Topic5\", \"Topic5\", \"Topic5\", \"Topic5\", \"Topic5\", \"Topic5\", \"Topic5\", \"Topic5\", \"Topic5\", \"Topic5\", \"Topic5\", \"Topic5\", \"Topic5\", \"Topic5\", \"Topic5\", \"Topic5\", \"Topic5\", \"Topic5\", \"Topic5\", \"Topic5\", \"Topic6\", \"Topic6\", \"Topic6\", \"Topic6\", \"Topic6\", \"Topic6\", \"Topic6\", \"Topic6\", \"Topic6\", \"Topic6\", \"Topic6\", \"Topic6\", \"Topic6\", \"Topic6\", \"Topic6\", \"Topic6\", \"Topic6\", \"Topic6\", \"Topic6\", \"Topic6\", \"Topic6\", \"Topic6\", \"Topic6\", \"Topic6\", \"Topic6\", \"Topic6\", \"Topic6\", \"Topic6\", \"Topic6\", \"Topic6\", \"Topic7\", \"Topic7\", \"Topic7\", \"Topic7\", \"Topic7\", \"Topic7\", \"Topic7\", \"Topic7\", \"Topic7\", \"Topic7\", \"Topic7\", \"Topic7\", \"Topic7\", \"Topic7\", \"Topic7\", \"Topic7\", \"Topic7\", \"Topic7\", \"Topic7\", \"Topic7\", \"Topic7\", \"Topic7\", \"Topic7\", \"Topic7\", \"Topic7\", \"Topic7\", \"Topic7\", \"Topic7\", \"Topic7\", \"Topic7\", \"Topic8\", \"Topic8\", \"Topic8\", \"Topic8\", \"Topic8\", \"Topic8\", \"Topic8\", \"Topic8\", \"Topic8\", \"Topic8\", \"Topic8\", \"Topic8\", \"Topic8\", \"Topic8\", \"Topic8\", \"Topic8\", \"Topic8\", \"Topic8\", \"Topic8\", \"Topic8\", \"Topic8\", \"Topic8\", \"Topic8\", \"Topic8\", \"Topic8\", \"Topic8\", \"Topic8\", \"Topic8\", \"Topic8\", \"Topic8\", \"Topic9\", \"Topic9\", \"Topic9\", \"Topic9\", \"Topic9\", \"Topic9\", \"Topic9\", \"Topic9\", \"Topic9\", \"Topic9\", \"Topic9\", \"Topic9\", \"Topic9\", \"Topic9\", \"Topic9\", \"Topic9\", \"Topic9\", \"Topic9\", \"Topic9\", \"Topic9\", \"Topic9\", \"Topic9\", \"Topic9\", \"Topic9\", \"Topic9\", \"Topic9\", \"Topic9\", \"Topic9\", \"Topic9\", \"Topic9\", \"Topic10\", \"Topic10\", \"Topic10\", \"Topic10\", \"Topic10\", \"Topic10\", \"Topic10\", \"Topic10\", \"Topic10\", \"Topic10\", \"Topic10\", \"Topic10\", \"Topic10\", \"Topic10\", \"Topic10\", \"Topic10\", \"Topic10\", \"Topic10\", \"Topic10\", \"Topic10\", \"Topic10\", \"Topic10\", \"Topic10\", \"Topic10\", \"Topic10\", \"Topic10\", \"Topic10\", \"Topic10\", \"Topic10\", \"Topic10\"], \"logprob\": [30.0, 29.0, 28.0, 27.0, 26.0, 25.0, 24.0, 23.0, 22.0, 21.0, 20.0, 19.0, 18.0, 17.0, 16.0, 15.0, 14.0, 13.0, 12.0, 11.0, 10.0, 9.0, 8.0, 7.0, 6.0, 5.0, 4.0, 3.0, 2.0, 1.0, -3.1344, -3.2932, -3.3907, -3.4813, -3.5118, -3.5184, -3.6328, -3.75, -3.9361, -3.9563, -4.0606, -4.0949, -4.1367, -4.1649, -4.1898, -4.1963, -4.2814, -4.3248, -4.4056, -4.4393, -4.441, -4.5292, -4.5418, -4.734, -4.8204, -4.8546, -4.8691, -4.9, -4.9196, -4.9416, -2.1555, -2.2904, -2.8146, -2.8864, -3.4016, -3.4022, -3.9229, -3.9321, -3.9496, -4.0506, -4.0661, -4.1627, -4.1983, -4.4299, -4.5819, -4.6766, -4.7071, -4.715, -4.7227, -4.7957, -4.8483, -4.8829, -4.925, -4.9424, -4.9676, -4.9956, -5.0009, -5.0085, -5.0256, -5.0263, -3.0394, -3.3951, -3.3977, -3.5596, -3.6724, -3.775, -3.8006, -3.8813, -4.0507, -4.1756, -4.2118, -4.2212, -4.2313, -4.3634, -4.3769, -4.3869, -4.4749, -4.5068, -4.538, -4.5794, -4.6768, -4.6844, -4.7837, -4.812, -4.8206, -4.8309, -4.8509, -4.8677, -4.8729, -4.9173, -2.8797, -2.9458, -3.1692, -3.3063, -3.3372, -3.3707, -3.493, -3.6, -3.8876, -4.011, -4.0112, -4.0769, -4.1432, -4.3642, -4.3711, -4.3819, -4.3913, -4.4996, -4.5028, -4.5454, -4.636, -4.6369, -4.6858, -4.7026, -4.7147, -4.7352, -4.7746, -4.82, -4.8212, -4.8232, -2.3356, -2.6924, -2.7634, -3.0897, -3.2323, -3.2929, -3.2962, -3.5546, -3.5903, -3.8859, -3.9687, -4.0136, -4.1026, -4.1616, -4.3255, -4.4053, -4.5085, -4.5534, -4.5609, -4.5979, -4.6087, -4.6222, -4.6262, -4.7121, -4.7633, -4.8052, -4.8442, -4.8696, -4.8819, -4.9073, -1.9825, -3.0404, -3.4035, -3.5767, -3.6048, -3.7056, -3.8346, -4.0072, -4.0478, -4.0479, -4.0543, -4.0712, -4.0917, -4.2273, -4.2766, -4.3372, -4.357, -4.389, -4.4265, -4.4693, -4.4981, -4.5462, -4.5553, -4.5682, -4.5701, -4.6155, -4.6375, -4.7117, -4.7989, -4.8213, -2.2935, -2.9218, -3.0923, -3.5418, -3.5902, -3.6156, -3.7187, -3.7523, -3.7885, -3.8002, -3.9208, -3.9668, -3.9869, -4.0819, -4.1382, -4.1756, -4.2704, -4.3168, -4.329, -4.5029, -4.505, -4.5209, -4.5819, -4.6286, -4.6612, -4.7013, -4.7058, -4.7348, -4.7769, -4.7935, -2.5081, -2.6713, -3.0456, -3.0717, -3.1114, -3.3999, -3.4073, -3.6173, -3.6449, -3.7397, -4.1214, -4.1472, -4.1682, -4.2015, -4.2218, -4.2245, -4.2283, -4.2312, -4.2523, -4.2729, -4.3217, -4.3491, -4.4642, -4.5552, -4.5714, -4.5797, -4.606, -4.6488, -4.8078, -4.823, -2.6681, -2.8153, -2.8438, -3.1228, -3.2136, -3.4445, -3.6978, -3.7739, -3.8765, -3.9855, -3.9861, -4.005, -4.0522, -4.0784, -4.0998, -4.2159, -4.2217, -4.3554, -4.4101, -4.5104, -4.53, -4.6292, -4.7068, -4.7606, -4.773, -4.7735, -4.8141, -4.841, -4.8685, -4.9123, -2.7602, -3.4196, -3.4697, -3.4932, -3.5562, -3.5927, -3.7596, -3.7616, -3.8238, -3.8388, -3.9343, -3.9575, -4.0031, -4.067, -4.1627, -4.1633, -4.2709, -4.2794, -4.2867, -4.3269, -4.3709, -4.3998, -4.4049, -4.4067, -4.4139, -4.4767, -4.5043, -4.5602, -4.5689, -4.6244], \"loglift\": [30.0, 29.0, 28.0, 27.0, 26.0, 25.0, 24.0, 23.0, 22.0, 21.0, 20.0, 19.0, 18.0, 17.0, 16.0, 15.0, 14.0, 13.0, 12.0, 11.0, 10.0, 9.0, 8.0, 7.0, 6.0, 5.0, 4.0, 3.0, 2.0, 1.0, 1.693, 1.693, 1.693, 1.693, 1.693, 1.693, 1.693, 1.693, 1.693, 1.693, 1.6929, 1.6929, 1.6929, 1.6929, 1.6929, 1.6929, 1.6929, 1.6929, 1.6929, 1.6929, 1.6929, 1.6929, 1.6929, 1.6928, 1.6928, 1.6928, 1.6928, 1.6928, 1.6928, 1.6928, 1.8438, 1.8438, 1.8438, 1.8438, 1.8437, 1.8437, 1.8437, 1.8437, 1.8437, 1.8437, 1.8437, 1.8437, 1.8437, 1.8436, 1.8436, 1.8436, 1.8435, 1.8435, 1.8435, 1.8435, 1.8435, 1.8435, 1.8435, 1.8435, 1.8435, 1.8435, 1.8435, 1.8435, 1.8434, 1.8434, 2.1076, 2.1076, 2.1076, 2.1075, 2.1075, 2.1075, 2.1075, 2.1075, 2.1075, 2.1074, 2.1074, 2.1074, 2.1074, 2.1074, 2.1074, 2.1074, 2.1074, 2.1074, 2.1074, 2.1073, 2.1073, 2.1073, 2.1073, 2.1073, 2.1073, 2.1073, 2.1072, 2.1072, 2.1072, 2.1072, 2.1833, 2.1833, 2.1833, 2.1833, 2.1833, 2.1833, 2.1832, 2.1832, 2.1832, 2.1832, 2.1832, 2.1831, 2.1831, 2.1831, 2.1831, 2.1831, 2.1831, 2.183, 2.183, 2.183, 2.183, 2.183, 2.183, 2.183, 2.183, 2.183, 2.1829, 2.1829, 2.1829, 2.1829, 2.2558, 2.2558, 2.2558, 2.2558, 2.2558, 2.2558, 2.2558, 2.2557, 2.2557, 2.2557, 2.2557, 2.2557, 2.2556, 2.2556, 2.2556, 2.2556, 2.2555, 2.2555, 2.2555, 2.2555, 2.2555, 2.2555, 2.2555, 2.2555, 2.2554, 2.2554, 2.2554, 2.2554, 2.2554, 2.2554, 2.5224, 2.5223, 2.5223, 2.5222, 2.5222, 2.5222, 2.5222, 2.5221, 2.5221, 2.5221, 2.5221, 2.5221, 2.5221, 2.5221, 2.5221, 2.522, 2.522, 2.522, 2.522, 2.522, 2.522, 2.522, 2.5219, 2.5219, 2.5219, 2.5219, 2.5219, 2.5219, 2.5218, 2.5218, 2.7158, 2.7157, 2.7157, 2.7156, 2.7156, 2.7156, 2.7156, 2.7156, 2.7156, 2.7156, 2.7155, 2.7155, 2.7155, 2.7155, 2.7154, 2.7154, 2.7154, 2.7154, 2.7154, 2.7153, 2.7153, 2.7153, 2.7152, 2.7152, 2.7152, 2.7152, 2.7152, 2.7151, 2.7151, 2.7151, 2.7243, 2.7243, 2.7243, 2.7243, 2.7243, 2.7242, 2.7242, 2.7242, 2.7242, 2.7242, 2.724, 2.724, 2.724, 2.724, 2.724, 2.724, 2.724, 2.724, 2.724, 2.724, 2.724, 2.724, 2.7239, 2.7239, 2.7238, 2.7238, 2.7238, 2.7238, 2.7237, 2.7237, 2.8443, 2.8443, 2.8443, 2.8442, 2.8442, 2.8442, 2.8441, 2.8441, 2.844, 2.844, 2.844, 2.844, 2.844, 2.844, 2.844, 2.8439, 2.8439, 2.8438, 2.8438, 2.8438, 2.8437, 2.8437, 2.8436, 2.8436, 2.8436, 2.8436, 2.8435, 2.8435, 2.8435, 2.8435, 3.0221, 3.022, 3.022, 3.022, 3.022, 3.022, 3.0219, 3.0219, 3.0219, 3.0219, 3.0218, 3.0218, 3.0218, 3.0218, 3.0217, 3.0217, 3.0217, 3.0217, 3.0217, 3.0216, 3.0216, 3.0216, 3.0216, 3.0216, 3.0216, 3.0215, 3.0215, 3.0215, 3.0215, 3.0214]}, \"token.table\": {\"Topic\": [7, 1, 3, 4, 9, 8, 9, 10, 8, 7, 3, 9, 8, 9, 3, 1, 8, 2, 3, 8, 9, 8, 5, 10, 3, 6, 1, 5, 6, 4, 2, 3, 10, 5, 1, 3, 6, 2, 9, 4, 5, 6, 4, 10, 6, 5, 5, 10, 4, 9, 6, 9, 3, 7, 6, 2, 8, 9, 6, 9, 8, 7, 8, 1, 4, 9, 3, 10, 5, 2, 3, 9, 1, 6, 6, 9, 3, 4, 6, 8, 10, 7, 1, 2, 10, 1, 5, 3, 4, 9, 6, 5, 10, 2, 5, 6, 5, 9, 2, 9, 2, 8, 1, 5, 6, 6, 8, 7, 10, 10, 10, 7, 6, 7, 7, 1, 2, 6, 3, 2, 6, 7, 10, 4, 2, 4, 4, 10, 3, 4, 5, 3, 3, 9, 1, 10, 10, 2, 5, 7, 8, 9, 7, 5, 7, 3, 6, 4, 5, 9, 8, 2, 7, 4, 6, 2, 2, 9, 10, 4, 3, 8, 4, 3, 4, 1, 1, 1, 3, 9, 5, 2, 10, 7, 2, 10, 10, 7, 1, 9, 1, 1, 1, 3, 10, 1, 8, 9, 4, 3, 7, 5, 6, 7, 6, 6, 8, 3, 2, 6, 2, 7, 2, 8, 3, 7, 4, 7, 8, 8, 2, 5, 5, 8, 10, 7, 1, 1, 4, 3, 8, 3, 4, 7, 7, 2, 1, 4, 8, 4, 10, 6, 4, 3, 6, 9, 8, 4, 7, 4, 7, 9, 8, 2, 10, 5, 1, 9, 2, 5, 10, 5, 7, 2, 4, 4, 6, 10, 10, 3, 5, 1, 4, 8, 4, 1, 7, 6, 2, 5, 9, 5, 10, 6, 3, 1, 8, 8, 8, 9, 1, 5, 1, 7, 8, 5, 10, 10, 2, 6, 9, 1, 9, 1, 7, 2, 5, 3, 5, 2], \"Freq\": [0.9999559454853105, 0.9999018092201978, 0.9998014736286717, 0.9996621482799506, 0.9988532200180418, 0.999601806304649, 0.9997558944190447, 0.999784300626669, 0.999536566460999, 0.9991521811668176, 0.9996795194151319, 0.9998539337078969, 0.9996765416516497, 0.9993462414988311, 0.9997916283591333, 0.9997431338239372, 0.9994695435715875, 0.9997587755569101, 0.9996565410291233, 0.9995379905424572, 0.999788867292476, 0.9998441879597206, 0.999473704550303, 0.9995040131458398, 0.9997854817566958, 0.9996103442584952, 0.9998439545753679, 0.9999158423683288, 0.9995732944659136, 0.9999145001892233, 0.999696069754592, 0.999533259370318, 0.9990005754173255, 0.999697453785543, 0.9999543385300997, 0.999794157711979, 0.9996421520029604, 0.9997554999786337, 0.9997455625761773, 0.9994646862723591, 0.9999135244171922, 0.9996108510743413, 0.9999425045500517, 0.9997629402402397, 0.9997452169468625, 0.9993958401572589, 0.9997289794835312, 0.9996277289017603, 0.9996755818469618, 0.9994040573718908, 0.9992809785643769, 0.9998082160698474, 0.9996731788579981, 0.9997007165917913, 0.9994509635083536, 0.9999674308556952, 0.9997441119037446, 0.9997283797311838, 0.9996892054562136, 0.9991352643666557, 0.9998318107312346, 0.9998039944329229, 0.9998628736428627, 0.999913287353136, 0.9997981808137365, 0.9997582782747397, 0.9999364065253041, 0.9995093299191681, 0.9997380900247946, 0.9995440442209885, 0.9999316213640234, 0.9997793105617001, 0.9999439620951475, 0.9996487853807665, 0.9995235705844076, 0.9996636942604615, 0.9999252931090934, 0.9996736769820262, 0.9997617018100513, 0.9995829294990554, 0.9996460173273202, 0.9995402229495038, 0.9997280836337351, 0.9997129306271307, 0.9995346776168652, 0.9998156698400875, 0.9998763429747338, 0.9997583546952334, 0.9996211139289315, 0.9996512409765649, 0.9994899399769378, 0.9998415781301636, 0.9996703505375706, 0.9999867138126988, 0.9997037139723953, 0.9995900842371915, 0.9997458434907756, 0.9993075052545108, 0.9998185931497913, 0.9994911800828579, 0.9997346622900457, 0.9997328585865322, 0.9997239978761105, 0.9999003071065993, 0.9997493687809168, 0.9994279918561653, 0.999479673188632, 0.9990321161614788, 0.9993907582297473, 0.9996437441613091, 0.9994351052652543, 0.9994875660269555, 0.9995763814254618, 0.9995224444192319, 0.9998107239149207, 0.9998356427164143, 0.9997311071477155, 0.9998674697883874, 0.9997552227834741, 0.9996722502162472, 0.9993333302849287, 0.9995665561307066, 0.9998543720513102, 0.9998610449785608, 0.9998363541591996, 0.9996930950074985, 0.9995104636359924, 0.9998052101287533, 0.9998200759285502, 0.9997756418951943, 0.9997777926938324, 0.9995795248682345, 0.999822368970469, 0.9996809919080165, 0.9999051835336568, 0.999456790189819, 0.9998655689495138, 0.9999114502268883, 0.9997041362593521, 0.9993800825524165, 0.9995575354023666, 0.9991426802243335, 0.9994545590057025, 0.9995001082533401, 0.9998611627643528, 0.9998322224684282, 0.9998715513835025, 0.9998972205650988, 0.9995757194131903, 0.9998646345032192, 0.9993974098434097, 0.9998155584837727, 0.9993484169533314, 0.9995930613370108, 0.9997993003465955, 0.9994815982430805, 0.9998446889592674, 0.9994635576708714, 0.9992538067191723, 0.9999521995384458, 0.9995703928619629, 0.9998435962347041, 0.9993601058668157, 0.9999257127403391, 0.9999061240761019, 0.9999354199352615, 0.999821683241743, 0.9999257072877155, 0.9998659825613082, 0.9994737861374887, 0.9997644720259403, 0.9998364445332746, 0.9997721544237836, 0.9997059853821573, 0.9998542860077397, 0.999601177215943, 0.9990580437706904, 0.9997454053419147, 0.999890478284426, 0.9992474661564726, 0.9999325476383334, 0.9998660918701603, 0.9999574033342394, 0.9998546681675351, 0.9997849730947681, 0.9997060464474006, 0.9995807579352242, 0.9996370150788289, 0.9997516188392734, 0.9999271926522989, 0.9995264849262836, 0.99953537933205, 0.999340398292015, 0.999560612630566, 0.9994004717467055, 0.999614184167995, 0.9995535045566829, 0.9995597574655665, 0.9997704257067332, 0.9996991966348159, 0.9998341609434732, 0.9996961010753403, 0.999647010605868, 0.9994593449469489, 0.9996574092166245, 0.9993312069931164, 0.999817011794399, 0.9997176503392781, 0.9993569012582035, 0.9998174486032996, 0.9996202372638044, 0.9995156867074504, 0.9995128824790124, 0.9997423441193201, 0.9997575880407343, 0.9998216063467747, 0.9999222184239538, 0.9999676451051287, 0.9997804633126643, 0.9998092797853902, 0.9989333240962539, 0.999890302125276, 0.999938787041477, 0.9995947322701758, 0.9996394612926129, 0.9999358529887866, 0.9997486609435439, 0.9997670581228454, 0.9992480611578487, 0.9996696336484128, 0.9990951910529927, 0.9997922001567082, 0.9997685257341468, 0.9997790930264915, 0.999814338644398, 0.9991354237539304, 0.9998958421939477, 0.9998406417222904, 0.9993939308247424, 0.9998678305215047, 0.9997360437562203, 0.9993360965765513, 0.9995879497462439, 0.9998262615835618, 0.9995809706418217, 0.9999202876086248, 0.9998093918049431, 0.9995510694121712, 0.9999632970343901, 0.9999792498083406, 0.9995801346893597, 0.9998666340350719, 0.9998815297589461, 0.9998743637784672, 0.9997659454973771, 0.9997011680593672, 0.9997491040009829, 0.9997915079873574, 0.9992262761155645, 0.999832390433001, 0.9999303979986398, 0.9996059077342812, 0.9996683263369136, 0.9998856614632456, 0.9999263188707506, 0.9997157674097504, 0.999874754747259, 0.9999532217116557, 0.9999019268558524, 0.9998618341734292, 0.9998688544625246, 0.9996085037981834, 0.9995877250484874, 0.9999265461403785, 0.9997301299221492, 0.999730138045831, 0.9995389937169982, 0.9997098567864394, 0.9994700811751107, 0.999546708318007, 0.9997683068301151, 0.9997896658597469, 0.9998727305082281, 0.9998681677439543, 0.9995159505625063, 0.9995292236860259, 0.9993049020633912, 0.9995261175223578, 0.9997161561088084, 0.9996349853395097, 0.9998882017317361, 0.9997438996373872, 0.9991879542064568, 0.9998909081684593, 0.9993739984942427, 0.9999742952835532, 0.9996958218193996, 0.9996300395947423, 0.9998621570303218, 0.9999463236029007], \"Term\": [\"ability\", \"able\", \"account\", \"activity\", \"additional\", \"advertising\", \"also\", \"analysis\", \"analytic\", \"analyze\", \"app\", \"application\", \"apply\", \"architecture\", \"area\", \"assist\", \"associate\", \"attitude\", \"available\", \"bachelor\", \"background\", \"base\", \"basic\", \"believe\", \"benefit\", \"brand\", \"build\", \"business\", \"call\", \"candidate\", \"care\", \"career\", \"center\", \"change\", \"client\", \"close\", \"closely\", \"closing\", \"code\", \"communicate\", \"communication\", \"community\", \"company\", \"competitive\", \"complete\", \"complex\", \"computer\", \"contact\", \"content\", \"contract\", \"contribute\", \"create\", \"creative\", \"current\", \"currently\", \"customer\", \"daily\", \"data\", \"database\", \"date\", \"datum\", \"day\", \"degree\", \"deliver\", \"delivery\", \"demonstrate\", \"design\", \"designer\", \"desire\", \"detail\", \"develop\", \"developer\", \"development\", \"digital\", \"direct\", \"document\", \"drive\", \"duty\", \"effectively\", \"email\", \"employee\", \"end\", \"engineer\", \"engineering\", \"enjoy\", \"ensure\", \"environment\", \"essential\", \"establish\", \"evaluate\", \"event\", \"excellent\", \"exciting\", \"experience\", \"face\", \"fast\", \"fast_pace\", \"feature\", \"field\", \"file\", \"financial\", \"first\", \"focus\", \"follow\", \"full\", \"fun\", \"function\", \"functional\", \"future\", \"game\", \"general\", \"get\", \"global\", \"go\", \"goal\", \"good\", \"great\", \"grow\", \"growth\", \"hand\", \"handle\", \"hardware\", \"help\", \"high\", \"highly\", \"hire\", \"home\", \"hour\", \"idea\", \"ideal\", \"identify\", \"implement\", \"implementation\", \"improve\", \"include\", \"independently\", \"individual\", \"industry\", \"information\", \"initiative\", \"innovative\", \"integrate\", \"interest\", \"internal\", \"issue\", \"job\", \"join\", \"key\", \"know\", \"knowledge\", \"language\", \"lead\", \"leader\", \"leadership\", \"learn\", \"least\", \"level\", \"life\", \"location\", \"look\", \"love\", \"maintain\", \"maintenance\", \"make\", \"manage\", \"management\", \"manager\", \"market\", \"marketing\", \"may\", \"medium\", \"meet\", \"meeting\", \"member\", \"minimum\", \"mobile\", \"move\", \"multiple\", \"must\", \"necessary\", \"need\", \"network\", \"new\", \"offer\", \"office\", \"online\", \"open\", \"operate\", \"operation\", \"opportunity\", \"order\", \"organization\", \"organize\", \"orient\", \"package\", \"part\", \"participate\", \"partner\", \"passion\", \"pay\", \"people\", \"perform\", \"performance\", \"person\", \"personal\", \"phone\", \"plan\", \"platform\", \"policy\", \"position\", \"positive\", \"possess\", \"practice\", \"prefer\", \"prepare\", \"problem\", \"process\", \"product\", \"production\", \"professional\", \"proficiency\", \"program\", \"project\", \"promote\", \"prove\", \"provide\", \"qualification\", \"quality\", \"question\", \"quickly\", \"range\", \"relate\", \"relationship\", \"relevant\", \"report\", \"request\", \"require\", \"requirement\", \"resolve\", \"responsible\", \"result\", \"review\", \"right\", \"role\", \"run\", \"sale\", \"seek\", \"server\", \"service\", \"skill\", \"small\", \"social\", \"software\", \"solution\", \"staff\", \"standard\", \"start\", \"startup\", \"store\", \"strategy\", \"strong\", \"success\", \"successful\", \"support\", \"system\", \"take\", \"task\", \"team\", \"technical\", \"technology\", \"test\", \"thing\", \"think\", \"time\", \"title\", \"tool\", \"track_record\", \"training\", \"travel\", \"trend\", \"understand\", \"understanding\", \"use\", \"user\", \"value\", \"verbal\", \"vision\", \"visual\", \"want\", \"way\", \"web\", \"website\", \"weekly\", \"well\", \"willing\", \"work\", \"world\", \"would\", \"write\", \"year\"]}, \"R\": 30, \"lambda.step\": 0.01, \"plot.opts\": {\"xlab\": \"PC1\", \"ylab\": \"PC2\"}, \"topic.order\": [10, 6, 9, 1, 7, 5, 2, 3, 8, 4]};\n",
       "\n",
       "function LDAvis_load_lib(url, callback){\n",
       "  var s = document.createElement('script');\n",
       "  s.src = url;\n",
       "  s.async = true;\n",
       "  s.onreadystatechange = s.onload = callback;\n",
       "  s.onerror = function(){console.warn(\"failed to load library \" + url);};\n",
       "  document.getElementsByTagName(\"head\")[0].appendChild(s);\n",
       "}\n",
       "\n",
       "if(typeof(LDAvis) !== \"undefined\"){\n",
       "   // already loaded: just create the visualization\n",
       "   !function(LDAvis){\n",
       "       new LDAvis(\"#\" + \"ldavis_el683271407264027627844941002801\", ldavis_el683271407264027627844941002801_data);\n",
       "   }(LDAvis);\n",
       "}else if(typeof define === \"function\" && define.amd){\n",
       "   // require.js is available: use it to load d3/LDAvis\n",
       "   require.config({paths: {d3: \"https://d3js.org/d3.v5\"}});\n",
       "   require([\"d3\"], function(d3){\n",
       "      window.d3 = d3;\n",
       "      LDAvis_load_lib(\"https://cdn.jsdelivr.net/gh/bmabey/pyLDAvis@3.2.2/pyLDAvis/js/ldavis.v3.0.0.js\", function(){\n",
       "        new LDAvis(\"#\" + \"ldavis_el683271407264027627844941002801\", ldavis_el683271407264027627844941002801_data);\n",
       "      });\n",
       "    });\n",
       "}else{\n",
       "    // require.js not available: dynamically load d3 & LDAvis\n",
       "    LDAvis_load_lib(\"https://d3js.org/d3.v5.js\", function(){\n",
       "         LDAvis_load_lib(\"https://cdn.jsdelivr.net/gh/bmabey/pyLDAvis@3.2.2/pyLDAvis/js/ldavis.v3.0.0.js\", function(){\n",
       "                 new LDAvis(\"#\" + \"ldavis_el683271407264027627844941002801\", ldavis_el683271407264027627844941002801_data);\n",
       "            })\n",
       "         });\n",
       "}\n",
       "</script>"
      ],
      "text/plain": [
       "PreparedData(topic_coordinates=              x         y  topics  cluster       Freq\n",
       "topic                                                \n",
       "9      0.331448 -0.316128       1        1  18.395516\n",
       "5      0.271958  0.369504       2        1  15.821165\n",
       "8     -0.006348 -0.000404       3        1  12.152271\n",
       "0     -0.046839 -0.012074       4        1  11.266323\n",
       "6     -0.062667 -0.007714       5        1  10.478264\n",
       "4     -0.092611 -0.010590       6        1   8.026624\n",
       "1     -0.100220 -0.011491       7        1   6.615111\n",
       "2     -0.093797  0.000179       8        1   6.558458\n",
       "7     -0.101545 -0.001096       9        1   5.817094\n",
       "3     -0.099380 -0.010186      10        1   4.869174, topic_info=            Term          Freq         Total Category  logprob  loglift\n",
       "58    experience  44072.000000  44072.000000  Default  30.0000  30.0000\n",
       "21          work  38512.000000  38512.000000  Default  29.0000  29.0000\n",
       "18          team  26584.000000  26584.000000  Default  28.0000  28.0000\n",
       "85         skill  24379.000000  24379.000000  Default  27.0000  27.0000\n",
       "256      ability  16052.000000  16052.000000  Default  26.0000  26.0000\n",
       "...          ...           ...           ...      ...      ...      ...\n",
       "797       center   1331.398106   1332.331565  Topic10  -4.4767   3.0215\n",
       "1369       store   1295.069355   1296.002748  Topic10  -4.5043   3.0215\n",
       "1070     believe   1224.674540   1225.607885  Topic10  -4.5602   3.0215\n",
       "932        range   1214.165959   1215.099433  Topic10  -4.5689   3.0215\n",
       "103          run   1148.548307   1149.481667  Topic10  -4.6244   3.0214\n",
       "\n",
       "[330 rows x 6 columns], token_table=      Topic      Freq        Term\n",
       "term                             \n",
       "256       7  0.999956     ability\n",
       "222       1  0.999902        able\n",
       "120       3  0.999801     account\n",
       "278       4  0.999662    activity\n",
       "540       9  0.998853  additional\n",
       "...     ...       ...         ...\n",
       "21        2  0.999974        work\n",
       "135       5  0.999696       world\n",
       "722       3  0.999630       would\n",
       "468       5  0.999862       write\n",
       "445       2  0.999946        year\n",
       "\n",
       "[300 rows x 3 columns], R=30, lambda_step=0.01, plot_opts={'xlab': 'PC1', 'ylab': 'PC2'}, topic_order=[10, 6, 9, 1, 7, 5, 2, 3, 8, 4])"
      ]
     },
     "execution_count": 18,
     "metadata": {},
     "output_type": "execute_result"
    }
   ],
   "source": [
    "# Visualize the topics\n",
    "pyLDAvis.enable_notebook()\n",
    "vis = pyLDAvis.gensim.prepare(lda_model, corpus, id2word)\n",
    "vis"
   ]
  },
  {
   "cell_type": "code",
   "execution_count": 19,
   "metadata": {},
   "outputs": [
    {
     "name": "stderr",
     "output_type": "stream",
     "text": [
      "/Users/ivowings/opt/anaconda3/envs/Thesis/lib/python3.8/site-packages/ipykernel/ipkernel.py:287: DeprecationWarning: `should_run_async` will not call `transform_cell` automatically in the future. Please pass the result to `transformed_cell` argument and any exception that happen during thetransform in `preprocessing_exc_tuple` in IPython 7.17 and above.\n",
      "  and should_run_async(code)\n"
     ]
    },
    {
     "ename": "ValueError",
     "evalue": "too many values to unpack (expected 2)",
     "output_type": "error",
     "traceback": [
      "\u001b[0;31m---------------------------------------------------------------------------\u001b[0m",
      "\u001b[0;31mValueError\u001b[0m                                Traceback (most recent call last)",
      "\u001b[0;32m<ipython-input-19-45df1ab5d989>\u001b[0m in \u001b[0;36m<module>\u001b[0;34m\u001b[0m\n\u001b[0;32m----> 1\u001b[0;31m \u001b[0mhm\u001b[0m \u001b[0;34m=\u001b[0m \u001b[0mnp\u001b[0m\u001b[0;34m.\u001b[0m\u001b[0marray\u001b[0m\u001b[0;34m(\u001b[0m\u001b[0;34m[\u001b[0m\u001b[0;34m[\u001b[0m\u001b[0my\u001b[0m \u001b[0;32mfor\u001b[0m \u001b[0;34m(\u001b[0m\u001b[0mx\u001b[0m\u001b[0;34m,\u001b[0m\u001b[0my\u001b[0m\u001b[0;34m)\u001b[0m \u001b[0;32min\u001b[0m \u001b[0mlda_model\u001b[0m\u001b[0;34m[\u001b[0m\u001b[0mcorpus\u001b[0m\u001b[0;34m[\u001b[0m\u001b[0mi\u001b[0m\u001b[0;34m]\u001b[0m\u001b[0;34m]\u001b[0m\u001b[0;34m]\u001b[0m \u001b[0;32mfor\u001b[0m \u001b[0mi\u001b[0m \u001b[0;32min\u001b[0m \u001b[0mrange\u001b[0m\u001b[0;34m(\u001b[0m\u001b[0mlen\u001b[0m\u001b[0;34m(\u001b[0m\u001b[0mcorpus\u001b[0m\u001b[0;34m)\u001b[0m\u001b[0;34m)\u001b[0m\u001b[0;34m]\u001b[0m\u001b[0;34m)\u001b[0m\u001b[0;34m\u001b[0m\u001b[0;34m\u001b[0m\u001b[0m\n\u001b[0m",
      "\u001b[0;32m<ipython-input-19-45df1ab5d989>\u001b[0m in \u001b[0;36m<listcomp>\u001b[0;34m(.0)\u001b[0m\n\u001b[0;32m----> 1\u001b[0;31m \u001b[0mhm\u001b[0m \u001b[0;34m=\u001b[0m \u001b[0mnp\u001b[0m\u001b[0;34m.\u001b[0m\u001b[0marray\u001b[0m\u001b[0;34m(\u001b[0m\u001b[0;34m[\u001b[0m\u001b[0;34m[\u001b[0m\u001b[0my\u001b[0m \u001b[0;32mfor\u001b[0m \u001b[0;34m(\u001b[0m\u001b[0mx\u001b[0m\u001b[0;34m,\u001b[0m\u001b[0my\u001b[0m\u001b[0;34m)\u001b[0m \u001b[0;32min\u001b[0m \u001b[0mlda_model\u001b[0m\u001b[0;34m[\u001b[0m\u001b[0mcorpus\u001b[0m\u001b[0;34m[\u001b[0m\u001b[0mi\u001b[0m\u001b[0;34m]\u001b[0m\u001b[0;34m]\u001b[0m\u001b[0;34m]\u001b[0m \u001b[0;32mfor\u001b[0m \u001b[0mi\u001b[0m \u001b[0;32min\u001b[0m \u001b[0mrange\u001b[0m\u001b[0;34m(\u001b[0m\u001b[0mlen\u001b[0m\u001b[0;34m(\u001b[0m\u001b[0mcorpus\u001b[0m\u001b[0;34m)\u001b[0m\u001b[0;34m)\u001b[0m\u001b[0;34m]\u001b[0m\u001b[0;34m)\u001b[0m\u001b[0;34m\u001b[0m\u001b[0;34m\u001b[0m\u001b[0m\n\u001b[0m",
      "\u001b[0;32m<ipython-input-19-45df1ab5d989>\u001b[0m in \u001b[0;36m<listcomp>\u001b[0;34m(.0)\u001b[0m\n\u001b[0;32m----> 1\u001b[0;31m \u001b[0mhm\u001b[0m \u001b[0;34m=\u001b[0m \u001b[0mnp\u001b[0m\u001b[0;34m.\u001b[0m\u001b[0marray\u001b[0m\u001b[0;34m(\u001b[0m\u001b[0;34m[\u001b[0m\u001b[0;34m[\u001b[0m\u001b[0my\u001b[0m \u001b[0;32mfor\u001b[0m \u001b[0;34m(\u001b[0m\u001b[0mx\u001b[0m\u001b[0;34m,\u001b[0m\u001b[0my\u001b[0m\u001b[0;34m)\u001b[0m \u001b[0;32min\u001b[0m \u001b[0mlda_model\u001b[0m\u001b[0;34m[\u001b[0m\u001b[0mcorpus\u001b[0m\u001b[0;34m[\u001b[0m\u001b[0mi\u001b[0m\u001b[0;34m]\u001b[0m\u001b[0;34m]\u001b[0m\u001b[0;34m]\u001b[0m \u001b[0;32mfor\u001b[0m \u001b[0mi\u001b[0m \u001b[0;32min\u001b[0m \u001b[0mrange\u001b[0m\u001b[0;34m(\u001b[0m\u001b[0mlen\u001b[0m\u001b[0;34m(\u001b[0m\u001b[0mcorpus\u001b[0m\u001b[0;34m)\u001b[0m\u001b[0;34m)\u001b[0m\u001b[0;34m]\u001b[0m\u001b[0;34m)\u001b[0m\u001b[0;34m\u001b[0m\u001b[0;34m\u001b[0m\u001b[0m\n\u001b[0m",
      "\u001b[0;31mValueError\u001b[0m: too many values to unpack (expected 2)"
     ]
    }
   ],
   "source": [
    "hm = np.array([[y for (x,y) in lda_model[corpus[i]]] for i in range(len(corpus))])\n"
   ]
  },
  {
   "cell_type": "code",
   "execution_count": 109,
   "metadata": {},
   "outputs": [
    {
     "name": "stderr",
     "output_type": "stream",
     "text": [
      "/Users/ivowings/opt/anaconda3/envs/Thesis/lib/python3.8/site-packages/ipykernel/ipkernel.py:287: DeprecationWarning: `should_run_async` will not call `transform_cell` automatically in the future. Please pass the result to `transformed_cell` argument and any exception that happen during thetransform in `preprocessing_exc_tuple` in IPython 7.17 and above.\n",
      "  and should_run_async(code)\n"
     ]
    },
    {
     "name": "stdout",
     "output_type": "stream",
     "text": [
      "[t-SNE] Computing 91 nearest neighbors...\n",
      "[t-SNE] Indexed 546 samples in 0.000s...\n",
      "[t-SNE] Computed neighbors for 546 samples in 0.015s...\n",
      "[t-SNE] Computed conditional probabilities for sample 546 / 546\n",
      "[t-SNE] Mean sigma: 0.000000\n",
      "[t-SNE] KL divergence after 250 iterations with early exaggeration: 49.158073\n",
      "[t-SNE] KL divergence after 1000 iterations: -0.375371\n"
     ]
    }
   ],
   "source": [
    "# Get topic weights and dominant topics ------------\n",
    "from sklearn.manifold import TSNE\n",
    "from bokeh.plotting import figure, output_file, show\n",
    "from bokeh.models import Label\n",
    "from bokeh.io import output_notebook\n",
    "import matplotlib.colors as mcolors\n",
    "\n",
    "# Get topic weights\n",
    "topic_weights = []\n",
    "for i, row_list in enumerate(lda_model[corpus]):\n",
    "    topic_weights.append([w for i, w in row_list[0]])\n",
    "\n",
    "# Array of topic weights    \n",
    "arr = pd.DataFrame(topic_weights).fillna(0).values\n",
    "\n",
    "# Keep the well separated points (optional)\n",
    "arr = arr[np.amax(arr, axis=1) > 0.35]\n",
    "\n",
    "# Dominant topic number in each doc\n",
    "topic_num = np.argmax(arr, axis=1)\n",
    "\n",
    "# tSNE Dimension Reduction\n",
    "tsne_model = TSNE(n_components=2, verbose=1, random_state=0, angle=.99, init='pca')\n",
    "tsne_lda = tsne_model.fit_transform(arr)\n",
    "\n"
   ]
  },
  {
   "cell_type": "code",
   "execution_count": 135,
   "metadata": {},
   "outputs": [
    {
     "name": "stderr",
     "output_type": "stream",
     "text": [
      "/Users/ivowings/opt/anaconda3/envs/Thesis/lib/python3.8/site-packages/ipykernel/ipkernel.py:287: DeprecationWarning: `should_run_async` will not call `transform_cell` automatically in the future. Please pass the result to `transformed_cell` argument and any exception that happen during thetransform in `preprocessing_exc_tuple` in IPython 7.17 and above.\n",
      "  and should_run_async(code)\n",
      "<ipython-input-135-9a82f224ecad>:2: SettingWithCopyWarning: \n",
      "A value is trying to be set on a copy of a slice from a DataFrame\n",
      "\n",
      "See the caveats in the documentation: https://pandas.pydata.org/pandas-docs/stable/user_guide/indexing.html#returning-a-view-versus-a-copy\n",
      "  test.topic[test.topic==1] = 101\n",
      "<ipython-input-135-9a82f224ecad>:3: SettingWithCopyWarning: \n",
      "A value is trying to be set on a copy of a slice from a DataFrame\n",
      "\n",
      "See the caveats in the documentation: https://pandas.pydata.org/pandas-docs/stable/user_guide/indexing.html#returning-a-view-versus-a-copy\n",
      "  test.topic[test.topic==2] = 102\n",
      "<ipython-input-135-9a82f224ecad>:4: SettingWithCopyWarning: \n",
      "A value is trying to be set on a copy of a slice from a DataFrame\n",
      "\n",
      "See the caveats in the documentation: https://pandas.pydata.org/pandas-docs/stable/user_guide/indexing.html#returning-a-view-versus-a-copy\n",
      "  test.topic[test.topic==3] = 103\n",
      "<ipython-input-135-9a82f224ecad>:5: SettingWithCopyWarning: \n",
      "A value is trying to be set on a copy of a slice from a DataFrame\n",
      "\n",
      "See the caveats in the documentation: https://pandas.pydata.org/pandas-docs/stable/user_guide/indexing.html#returning-a-view-versus-a-copy\n",
      "  test.topic[test.topic==4] = 104\n",
      "<ipython-input-135-9a82f224ecad>:6: SettingWithCopyWarning: \n",
      "A value is trying to be set on a copy of a slice from a DataFrame\n",
      "\n",
      "See the caveats in the documentation: https://pandas.pydata.org/pandas-docs/stable/user_guide/indexing.html#returning-a-view-versus-a-copy\n",
      "  test.topic[test.topic==7] = 107\n",
      "<ipython-input-135-9a82f224ecad>:7: SettingWithCopyWarning: \n",
      "A value is trying to be set on a copy of a slice from a DataFrame\n",
      "\n",
      "See the caveats in the documentation: https://pandas.pydata.org/pandas-docs/stable/user_guide/indexing.html#returning-a-view-versus-a-copy\n",
      "  test.topic[test.topic==0] = 1\n",
      "<ipython-input-135-9a82f224ecad>:8: SettingWithCopyWarning: \n",
      "A value is trying to be set on a copy of a slice from a DataFrame\n",
      "\n",
      "See the caveats in the documentation: https://pandas.pydata.org/pandas-docs/stable/user_guide/indexing.html#returning-a-view-versus-a-copy\n",
      "  test.topic[test.topic==5] = 2\n",
      "<ipython-input-135-9a82f224ecad>:9: SettingWithCopyWarning: \n",
      "A value is trying to be set on a copy of a slice from a DataFrame\n",
      "\n",
      "See the caveats in the documentation: https://pandas.pydata.org/pandas-docs/stable/user_guide/indexing.html#returning-a-view-versus-a-copy\n",
      "  test.topic[test.topic==6] = 3\n",
      "<ipython-input-135-9a82f224ecad>:10: SettingWithCopyWarning: \n",
      "A value is trying to be set on a copy of a slice from a DataFrame\n",
      "\n",
      "See the caveats in the documentation: https://pandas.pydata.org/pandas-docs/stable/user_guide/indexing.html#returning-a-view-versus-a-copy\n",
      "  test.topic[test.topic==8] = 4\n",
      "<ipython-input-135-9a82f224ecad>:11: SettingWithCopyWarning: \n",
      "A value is trying to be set on a copy of a slice from a DataFrame\n",
      "\n",
      "See the caveats in the documentation: https://pandas.pydata.org/pandas-docs/stable/user_guide/indexing.html#returning-a-view-versus-a-copy\n",
      "  test.topic[test.topic==9] = 5\n"
     ]
    },
    {
     "data": {
      "text/html": [
       "\n",
       "    <div class=\"bk-root\">\n",
       "        <a href=\"https://bokeh.org\" target=\"_blank\" class=\"bk-logo bk-logo-small bk-logo-notebook\"></a>\n",
       "        <span id=\"11346\">Loading BokehJS ...</span>\n",
       "    </div>"
      ]
     },
     "metadata": {},
     "output_type": "display_data"
    },
    {
     "data": {
      "application/javascript": [
       "\n",
       "(function(root) {\n",
       "  function now() {\n",
       "    return new Date();\n",
       "  }\n",
       "\n",
       "  var force = true;\n",
       "\n",
       "  if (typeof root._bokeh_onload_callbacks === \"undefined\" || force === true) {\n",
       "    root._bokeh_onload_callbacks = [];\n",
       "    root._bokeh_is_loading = undefined;\n",
       "  }\n",
       "\n",
       "  var JS_MIME_TYPE = 'application/javascript';\n",
       "  var HTML_MIME_TYPE = 'text/html';\n",
       "  var EXEC_MIME_TYPE = 'application/vnd.bokehjs_exec.v0+json';\n",
       "  var CLASS_NAME = 'output_bokeh rendered_html';\n",
       "\n",
       "  /**\n",
       "   * Render data to the DOM node\n",
       "   */\n",
       "  function render(props, node) {\n",
       "    var script = document.createElement(\"script\");\n",
       "    node.appendChild(script);\n",
       "  }\n",
       "\n",
       "  /**\n",
       "   * Handle when an output is cleared or removed\n",
       "   */\n",
       "  function handleClearOutput(event, handle) {\n",
       "    var cell = handle.cell;\n",
       "\n",
       "    var id = cell.output_area._bokeh_element_id;\n",
       "    var server_id = cell.output_area._bokeh_server_id;\n",
       "    // Clean up Bokeh references\n",
       "    if (id != null && id in Bokeh.index) {\n",
       "      Bokeh.index[id].model.document.clear();\n",
       "      delete Bokeh.index[id];\n",
       "    }\n",
       "\n",
       "    if (server_id !== undefined) {\n",
       "      // Clean up Bokeh references\n",
       "      var cmd = \"from bokeh.io.state import curstate; print(curstate().uuid_to_server['\" + server_id + \"'].get_sessions()[0].document.roots[0]._id)\";\n",
       "      cell.notebook.kernel.execute(cmd, {\n",
       "        iopub: {\n",
       "          output: function(msg) {\n",
       "            var id = msg.content.text.trim();\n",
       "            if (id in Bokeh.index) {\n",
       "              Bokeh.index[id].model.document.clear();\n",
       "              delete Bokeh.index[id];\n",
       "            }\n",
       "          }\n",
       "        }\n",
       "      });\n",
       "      // Destroy server and session\n",
       "      var cmd = \"import bokeh.io.notebook as ion; ion.destroy_server('\" + server_id + \"')\";\n",
       "      cell.notebook.kernel.execute(cmd);\n",
       "    }\n",
       "  }\n",
       "\n",
       "  /**\n",
       "   * Handle when a new output is added\n",
       "   */\n",
       "  function handleAddOutput(event, handle) {\n",
       "    var output_area = handle.output_area;\n",
       "    var output = handle.output;\n",
       "\n",
       "    // limit handleAddOutput to display_data with EXEC_MIME_TYPE content only\n",
       "    if ((output.output_type != \"display_data\") || (!Object.prototype.hasOwnProperty.call(output.data, EXEC_MIME_TYPE))) {\n",
       "      return\n",
       "    }\n",
       "\n",
       "    var toinsert = output_area.element.find(\".\" + CLASS_NAME.split(' ')[0]);\n",
       "\n",
       "    if (output.metadata[EXEC_MIME_TYPE][\"id\"] !== undefined) {\n",
       "      toinsert[toinsert.length - 1].firstChild.textContent = output.data[JS_MIME_TYPE];\n",
       "      // store reference to embed id on output_area\n",
       "      output_area._bokeh_element_id = output.metadata[EXEC_MIME_TYPE][\"id\"];\n",
       "    }\n",
       "    if (output.metadata[EXEC_MIME_TYPE][\"server_id\"] !== undefined) {\n",
       "      var bk_div = document.createElement(\"div\");\n",
       "      bk_div.innerHTML = output.data[HTML_MIME_TYPE];\n",
       "      var script_attrs = bk_div.children[0].attributes;\n",
       "      for (var i = 0; i < script_attrs.length; i++) {\n",
       "        toinsert[toinsert.length - 1].firstChild.setAttribute(script_attrs[i].name, script_attrs[i].value);\n",
       "        toinsert[toinsert.length - 1].firstChild.textContent = bk_div.children[0].textContent\n",
       "      }\n",
       "      // store reference to server id on output_area\n",
       "      output_area._bokeh_server_id = output.metadata[EXEC_MIME_TYPE][\"server_id\"];\n",
       "    }\n",
       "  }\n",
       "\n",
       "  function register_renderer(events, OutputArea) {\n",
       "\n",
       "    function append_mime(data, metadata, element) {\n",
       "      // create a DOM node to render to\n",
       "      var toinsert = this.create_output_subarea(\n",
       "        metadata,\n",
       "        CLASS_NAME,\n",
       "        EXEC_MIME_TYPE\n",
       "      );\n",
       "      this.keyboard_manager.register_events(toinsert);\n",
       "      // Render to node\n",
       "      var props = {data: data, metadata: metadata[EXEC_MIME_TYPE]};\n",
       "      render(props, toinsert[toinsert.length - 1]);\n",
       "      element.append(toinsert);\n",
       "      return toinsert\n",
       "    }\n",
       "\n",
       "    /* Handle when an output is cleared or removed */\n",
       "    events.on('clear_output.CodeCell', handleClearOutput);\n",
       "    events.on('delete.Cell', handleClearOutput);\n",
       "\n",
       "    /* Handle when a new output is added */\n",
       "    events.on('output_added.OutputArea', handleAddOutput);\n",
       "\n",
       "    /**\n",
       "     * Register the mime type and append_mime function with output_area\n",
       "     */\n",
       "    OutputArea.prototype.register_mime_type(EXEC_MIME_TYPE, append_mime, {\n",
       "      /* Is output safe? */\n",
       "      safe: true,\n",
       "      /* Index of renderer in `output_area.display_order` */\n",
       "      index: 0\n",
       "    });\n",
       "  }\n",
       "\n",
       "  // register the mime type if in Jupyter Notebook environment and previously unregistered\n",
       "  if (root.Jupyter !== undefined) {\n",
       "    var events = require('base/js/events');\n",
       "    var OutputArea = require('notebook/js/outputarea').OutputArea;\n",
       "\n",
       "    if (OutputArea.prototype.mime_types().indexOf(EXEC_MIME_TYPE) == -1) {\n",
       "      register_renderer(events, OutputArea);\n",
       "    }\n",
       "  }\n",
       "\n",
       "  \n",
       "  if (typeof (root._bokeh_timeout) === \"undefined\" || force === true) {\n",
       "    root._bokeh_timeout = Date.now() + 5000;\n",
       "    root._bokeh_failed_load = false;\n",
       "  }\n",
       "\n",
       "  var NB_LOAD_WARNING = {'data': {'text/html':\n",
       "     \"<div style='background-color: #fdd'>\\n\"+\n",
       "     \"<p>\\n\"+\n",
       "     \"BokehJS does not appear to have successfully loaded. If loading BokehJS from CDN, this \\n\"+\n",
       "     \"may be due to a slow or bad network connection. Possible fixes:\\n\"+\n",
       "     \"</p>\\n\"+\n",
       "     \"<ul>\\n\"+\n",
       "     \"<li>re-rerun `output_notebook()` to attempt to load from CDN again, or</li>\\n\"+\n",
       "     \"<li>use INLINE resources instead, as so:</li>\\n\"+\n",
       "     \"</ul>\\n\"+\n",
       "     \"<code>\\n\"+\n",
       "     \"from bokeh.resources import INLINE\\n\"+\n",
       "     \"output_notebook(resources=INLINE)\\n\"+\n",
       "     \"</code>\\n\"+\n",
       "     \"</div>\"}};\n",
       "\n",
       "  function display_loaded() {\n",
       "    var el = document.getElementById(\"11346\");\n",
       "    if (el != null) {\n",
       "      el.textContent = \"BokehJS is loading...\";\n",
       "    }\n",
       "    if (root.Bokeh !== undefined) {\n",
       "      if (el != null) {\n",
       "        el.textContent = \"BokehJS \" + root.Bokeh.version + \" successfully loaded.\";\n",
       "      }\n",
       "    } else if (Date.now() < root._bokeh_timeout) {\n",
       "      setTimeout(display_loaded, 100)\n",
       "    }\n",
       "  }\n",
       "\n",
       "\n",
       "  function run_callbacks() {\n",
       "    try {\n",
       "      root._bokeh_onload_callbacks.forEach(function(callback) {\n",
       "        if (callback != null)\n",
       "          callback();\n",
       "      });\n",
       "    } finally {\n",
       "      delete root._bokeh_onload_callbacks\n",
       "    }\n",
       "    console.debug(\"Bokeh: all callbacks have finished\");\n",
       "  }\n",
       "\n",
       "  function load_libs(css_urls, js_urls, callback) {\n",
       "    if (css_urls == null) css_urls = [];\n",
       "    if (js_urls == null) js_urls = [];\n",
       "\n",
       "    root._bokeh_onload_callbacks.push(callback);\n",
       "    if (root._bokeh_is_loading > 0) {\n",
       "      console.debug(\"Bokeh: BokehJS is being loaded, scheduling callback at\", now());\n",
       "      return null;\n",
       "    }\n",
       "    if (js_urls == null || js_urls.length === 0) {\n",
       "      run_callbacks();\n",
       "      return null;\n",
       "    }\n",
       "    console.debug(\"Bokeh: BokehJS not loaded, scheduling load and callback at\", now());\n",
       "    root._bokeh_is_loading = css_urls.length + js_urls.length;\n",
       "\n",
       "    function on_load() {\n",
       "      root._bokeh_is_loading--;\n",
       "      if (root._bokeh_is_loading === 0) {\n",
       "        console.debug(\"Bokeh: all BokehJS libraries/stylesheets loaded\");\n",
       "        run_callbacks()\n",
       "      }\n",
       "    }\n",
       "\n",
       "    function on_error(url) {\n",
       "      console.error(\"failed to load \" + url);\n",
       "    }\n",
       "\n",
       "    for (let i = 0; i < css_urls.length; i++) {\n",
       "      const url = css_urls[i];\n",
       "      const element = document.createElement(\"link\");\n",
       "      element.onload = on_load;\n",
       "      element.onerror = on_error.bind(null, url);\n",
       "      element.rel = \"stylesheet\";\n",
       "      element.type = \"text/css\";\n",
       "      element.href = url;\n",
       "      console.debug(\"Bokeh: injecting link tag for BokehJS stylesheet: \", url);\n",
       "      document.body.appendChild(element);\n",
       "    }\n",
       "\n",
       "    const hashes = {\"https://cdn.bokeh.org/bokeh/release/bokeh-2.3.1.min.js\": \"YF85VygJKMVnHE+lLv2AM93Vbstr0yo2TbIu5v8se5Rq3UQAUmcuh4aaJwNlpKwa\", \"https://cdn.bokeh.org/bokeh/release/bokeh-widgets-2.3.1.min.js\": \"KKuas3gevv3PvrlkyCMzffFeaMq5we/a2QsP5AUoS3mJ0jmaCL7jirFJN3GoE/lM\", \"https://cdn.bokeh.org/bokeh/release/bokeh-tables-2.3.1.min.js\": \"MK/uFc3YT18pkvvXRl66tTHjP0/dxoSH2e/eiNMFIguKlun2+WVqaPTWmUy/zvh4\"};\n",
       "\n",
       "    for (let i = 0; i < js_urls.length; i++) {\n",
       "      const url = js_urls[i];\n",
       "      const element = document.createElement('script');\n",
       "      element.onload = on_load;\n",
       "      element.onerror = on_error.bind(null, url);\n",
       "      element.async = false;\n",
       "      element.src = url;\n",
       "      if (url in hashes) {\n",
       "        element.crossOrigin = \"anonymous\";\n",
       "        element.integrity = \"sha384-\" + hashes[url];\n",
       "      }\n",
       "      console.debug(\"Bokeh: injecting script tag for BokehJS library: \", url);\n",
       "      document.head.appendChild(element);\n",
       "    }\n",
       "  };\n",
       "\n",
       "  function inject_raw_css(css) {\n",
       "    const element = document.createElement(\"style\");\n",
       "    element.appendChild(document.createTextNode(css));\n",
       "    document.body.appendChild(element);\n",
       "  }\n",
       "\n",
       "  \n",
       "  var js_urls = [\"https://cdn.bokeh.org/bokeh/release/bokeh-2.3.1.min.js\", \"https://cdn.bokeh.org/bokeh/release/bokeh-widgets-2.3.1.min.js\", \"https://cdn.bokeh.org/bokeh/release/bokeh-tables-2.3.1.min.js\"];\n",
       "  var css_urls = [];\n",
       "  \n",
       "\n",
       "  var inline_js = [\n",
       "    function(Bokeh) {\n",
       "      Bokeh.set_log_level(\"info\");\n",
       "    },\n",
       "    function(Bokeh) {\n",
       "    \n",
       "    \n",
       "    }\n",
       "  ];\n",
       "\n",
       "  function run_inline_js() {\n",
       "    \n",
       "    if (root.Bokeh !== undefined || force === true) {\n",
       "      \n",
       "    for (var i = 0; i < inline_js.length; i++) {\n",
       "      inline_js[i].call(root, root.Bokeh);\n",
       "    }\n",
       "    if (force === true) {\n",
       "        display_loaded();\n",
       "      }} else if (Date.now() < root._bokeh_timeout) {\n",
       "      setTimeout(run_inline_js, 100);\n",
       "    } else if (!root._bokeh_failed_load) {\n",
       "      console.log(\"Bokeh: BokehJS failed to load within specified timeout.\");\n",
       "      root._bokeh_failed_load = true;\n",
       "    } else if (force !== true) {\n",
       "      var cell = $(document.getElementById(\"11346\")).parents('.cell').data().cell;\n",
       "      cell.output_area.append_execute_result(NB_LOAD_WARNING)\n",
       "    }\n",
       "\n",
       "  }\n",
       "\n",
       "  if (root._bokeh_is_loading === 0) {\n",
       "    console.debug(\"Bokeh: BokehJS loaded, going straight to plotting\");\n",
       "    run_inline_js();\n",
       "  } else {\n",
       "    load_libs(css_urls, js_urls, function() {\n",
       "      console.debug(\"Bokeh: BokehJS plotting callback run at\", now());\n",
       "      run_inline_js();\n",
       "    });\n",
       "  }\n",
       "}(window));"
      ],
      "application/vnd.bokehjs_load.v0+json": "\n(function(root) {\n  function now() {\n    return new Date();\n  }\n\n  var force = true;\n\n  if (typeof root._bokeh_onload_callbacks === \"undefined\" || force === true) {\n    root._bokeh_onload_callbacks = [];\n    root._bokeh_is_loading = undefined;\n  }\n\n  \n\n  \n  if (typeof (root._bokeh_timeout) === \"undefined\" || force === true) {\n    root._bokeh_timeout = Date.now() + 5000;\n    root._bokeh_failed_load = false;\n  }\n\n  var NB_LOAD_WARNING = {'data': {'text/html':\n     \"<div style='background-color: #fdd'>\\n\"+\n     \"<p>\\n\"+\n     \"BokehJS does not appear to have successfully loaded. If loading BokehJS from CDN, this \\n\"+\n     \"may be due to a slow or bad network connection. Possible fixes:\\n\"+\n     \"</p>\\n\"+\n     \"<ul>\\n\"+\n     \"<li>re-rerun `output_notebook()` to attempt to load from CDN again, or</li>\\n\"+\n     \"<li>use INLINE resources instead, as so:</li>\\n\"+\n     \"</ul>\\n\"+\n     \"<code>\\n\"+\n     \"from bokeh.resources import INLINE\\n\"+\n     \"output_notebook(resources=INLINE)\\n\"+\n     \"</code>\\n\"+\n     \"</div>\"}};\n\n  function display_loaded() {\n    var el = document.getElementById(\"11346\");\n    if (el != null) {\n      el.textContent = \"BokehJS is loading...\";\n    }\n    if (root.Bokeh !== undefined) {\n      if (el != null) {\n        el.textContent = \"BokehJS \" + root.Bokeh.version + \" successfully loaded.\";\n      }\n    } else if (Date.now() < root._bokeh_timeout) {\n      setTimeout(display_loaded, 100)\n    }\n  }\n\n\n  function run_callbacks() {\n    try {\n      root._bokeh_onload_callbacks.forEach(function(callback) {\n        if (callback != null)\n          callback();\n      });\n    } finally {\n      delete root._bokeh_onload_callbacks\n    }\n    console.debug(\"Bokeh: all callbacks have finished\");\n  }\n\n  function load_libs(css_urls, js_urls, callback) {\n    if (css_urls == null) css_urls = [];\n    if (js_urls == null) js_urls = [];\n\n    root._bokeh_onload_callbacks.push(callback);\n    if (root._bokeh_is_loading > 0) {\n      console.debug(\"Bokeh: BokehJS is being loaded, scheduling callback at\", now());\n      return null;\n    }\n    if (js_urls == null || js_urls.length === 0) {\n      run_callbacks();\n      return null;\n    }\n    console.debug(\"Bokeh: BokehJS not loaded, scheduling load and callback at\", now());\n    root._bokeh_is_loading = css_urls.length + js_urls.length;\n\n    function on_load() {\n      root._bokeh_is_loading--;\n      if (root._bokeh_is_loading === 0) {\n        console.debug(\"Bokeh: all BokehJS libraries/stylesheets loaded\");\n        run_callbacks()\n      }\n    }\n\n    function on_error(url) {\n      console.error(\"failed to load \" + url);\n    }\n\n    for (let i = 0; i < css_urls.length; i++) {\n      const url = css_urls[i];\n      const element = document.createElement(\"link\");\n      element.onload = on_load;\n      element.onerror = on_error.bind(null, url);\n      element.rel = \"stylesheet\";\n      element.type = \"text/css\";\n      element.href = url;\n      console.debug(\"Bokeh: injecting link tag for BokehJS stylesheet: \", url);\n      document.body.appendChild(element);\n    }\n\n    const hashes = {\"https://cdn.bokeh.org/bokeh/release/bokeh-2.3.1.min.js\": \"YF85VygJKMVnHE+lLv2AM93Vbstr0yo2TbIu5v8se5Rq3UQAUmcuh4aaJwNlpKwa\", \"https://cdn.bokeh.org/bokeh/release/bokeh-widgets-2.3.1.min.js\": \"KKuas3gevv3PvrlkyCMzffFeaMq5we/a2QsP5AUoS3mJ0jmaCL7jirFJN3GoE/lM\", \"https://cdn.bokeh.org/bokeh/release/bokeh-tables-2.3.1.min.js\": \"MK/uFc3YT18pkvvXRl66tTHjP0/dxoSH2e/eiNMFIguKlun2+WVqaPTWmUy/zvh4\"};\n\n    for (let i = 0; i < js_urls.length; i++) {\n      const url = js_urls[i];\n      const element = document.createElement('script');\n      element.onload = on_load;\n      element.onerror = on_error.bind(null, url);\n      element.async = false;\n      element.src = url;\n      if (url in hashes) {\n        element.crossOrigin = \"anonymous\";\n        element.integrity = \"sha384-\" + hashes[url];\n      }\n      console.debug(\"Bokeh: injecting script tag for BokehJS library: \", url);\n      document.head.appendChild(element);\n    }\n  };\n\n  function inject_raw_css(css) {\n    const element = document.createElement(\"style\");\n    element.appendChild(document.createTextNode(css));\n    document.body.appendChild(element);\n  }\n\n  \n  var js_urls = [\"https://cdn.bokeh.org/bokeh/release/bokeh-2.3.1.min.js\", \"https://cdn.bokeh.org/bokeh/release/bokeh-widgets-2.3.1.min.js\", \"https://cdn.bokeh.org/bokeh/release/bokeh-tables-2.3.1.min.js\"];\n  var css_urls = [];\n  \n\n  var inline_js = [\n    function(Bokeh) {\n      Bokeh.set_log_level(\"info\");\n    },\n    function(Bokeh) {\n    \n    \n    }\n  ];\n\n  function run_inline_js() {\n    \n    if (root.Bokeh !== undefined || force === true) {\n      \n    for (var i = 0; i < inline_js.length; i++) {\n      inline_js[i].call(root, root.Bokeh);\n    }\n    if (force === true) {\n        display_loaded();\n      }} else if (Date.now() < root._bokeh_timeout) {\n      setTimeout(run_inline_js, 100);\n    } else if (!root._bokeh_failed_load) {\n      console.log(\"Bokeh: BokehJS failed to load within specified timeout.\");\n      root._bokeh_failed_load = true;\n    } else if (force !== true) {\n      var cell = $(document.getElementById(\"11346\")).parents('.cell').data().cell;\n      cell.output_area.append_execute_result(NB_LOAD_WARNING)\n    }\n\n  }\n\n  if (root._bokeh_is_loading === 0) {\n    console.debug(\"Bokeh: BokehJS loaded, going straight to plotting\");\n    run_inline_js();\n  } else {\n    load_libs(css_urls, js_urls, function() {\n      console.debug(\"Bokeh: BokehJS plotting callback run at\", now());\n      run_inline_js();\n    });\n  }\n}(window));"
     },
     "metadata": {},
     "output_type": "display_data"
    },
    {
     "data": {
      "text/html": [
       "\n",
       "\n",
       "\n",
       "\n",
       "\n",
       "\n",
       "  <div class=\"bk-root\" id=\"eb9cf479-9121-4e08-b72c-e85709ddb422\" data-root-id=\"11347\"></div>\n"
      ]
     },
     "metadata": {},
     "output_type": "display_data"
    },
    {
     "data": {
      "application/javascript": [
       "(function(root) {\n",
       "  function embed_document(root) {\n",
       "    \n",
       "  var docs_json = {\"82b3dd4c-30f4-4bce-8760-3f377ec77e21\":{\"defs\":[],\"roots\":{\"references\":[{\"attributes\":{\"below\":[{\"id\":\"11358\"}],\"center\":[{\"id\":\"11361\"},{\"id\":\"11365\"},{\"id\":\"11395\"}],\"height\":700,\"left\":[{\"id\":\"11362\"}],\"renderers\":[{\"id\":\"11383\"}],\"title\":{\"id\":\"11348\"},\"toolbar\":{\"id\":\"11373\"},\"width\":900,\"x_range\":{\"id\":\"11350\"},\"x_scale\":{\"id\":\"11354\"},\"y_range\":{\"id\":\"11352\"},\"y_scale\":{\"id\":\"11356\"}},\"id\":\"11347\",\"subtype\":\"Figure\",\"type\":\"Plot\"},{\"attributes\":{\"formatter\":{\"id\":\"11389\"},\"major_label_policy\":{\"id\":\"11390\"},\"ticker\":{\"id\":\"11363\"}},\"id\":\"11362\",\"type\":\"LinearAxis\"},{\"attributes\":{\"axis\":{\"id\":\"11362\"},\"dimension\":1,\"ticker\":null},\"id\":\"11365\",\"type\":\"Grid\"},{\"attributes\":{},\"id\":\"11371\",\"type\":\"HelpTool\"},{\"attributes\":{\"text\":\"t-SNE Clustering of 5 LDA Topics\"},\"id\":\"11348\",\"type\":\"Title\"},{\"attributes\":{},\"id\":\"11363\",\"type\":\"BasicTicker\"},{\"attributes\":{\"fill_color\":{\"field\":\"colors\"},\"line_color\":{\"field\":\"colors\"},\"x\":{\"field\":\"x\"},\"y\":{\"field\":\"y\"}},\"id\":\"11381\",\"type\":\"Scatter\"},{\"attributes\":{\"active_multi\":null,\"tools\":[{\"id\":\"11366\"},{\"id\":\"11367\"},{\"id\":\"11368\"},{\"id\":\"11369\"},{\"id\":\"11370\"},{\"id\":\"11371\"}]},\"id\":\"11373\",\"type\":\"Toolbar\"},{\"attributes\":{},\"id\":\"11367\",\"type\":\"WheelZoomTool\"},{\"attributes\":{},\"id\":\"11366\",\"type\":\"PanTool\"},{\"attributes\":{\"items\":[{\"id\":\"11396\"},{\"id\":\"11397\"},{\"id\":\"11398\"},{\"id\":\"11399\"},{\"id\":\"11400\"}]},\"id\":\"11395\",\"type\":\"Legend\"},{\"attributes\":{\"overlay\":{\"id\":\"11372\"}},\"id\":\"11368\",\"type\":\"BoxZoomTool\"},{\"attributes\":{},\"id\":\"11369\",\"type\":\"SaveTool\"},{\"attributes\":{},\"id\":\"11370\",\"type\":\"ResetTool\"},{\"attributes\":{\"fill_alpha\":{\"value\":0.1},\"fill_color\":{\"field\":\"colors\"},\"line_alpha\":{\"value\":0.1},\"line_color\":{\"field\":\"colors\"},\"x\":{\"field\":\"x\"},\"y\":{\"field\":\"y\"}},\"id\":\"11382\",\"type\":\"Scatter\"},{\"attributes\":{\"source\":{\"id\":\"11345\"}},\"id\":\"11384\",\"type\":\"CDSView\"},{\"attributes\":{\"data_source\":{\"id\":\"11345\"},\"glyph\":{\"id\":\"11381\"},\"hover_glyph\":null,\"muted_glyph\":null,\"nonselection_glyph\":{\"id\":\"11382\"},\"view\":{\"id\":\"11384\"}},\"id\":\"11383\",\"type\":\"GlyphRenderer\"},{\"attributes\":{},\"id\":\"11389\",\"type\":\"BasicTickFormatter\"},{\"attributes\":{},\"id\":\"11390\",\"type\":\"AllLabels\"},{\"attributes\":{},\"id\":\"11359\",\"type\":\"BasicTicker\"},{\"attributes\":{},\"id\":\"11350\",\"type\":\"DataRange1d\"},{\"attributes\":{\"formatter\":{\"id\":\"11386\"},\"major_label_policy\":{\"id\":\"11387\"},\"ticker\":{\"id\":\"11359\"}},\"id\":\"11358\",\"type\":\"LinearAxis\"},{\"attributes\":{},\"id\":\"11354\",\"type\":\"LinearScale\"},{\"attributes\":{\"index\":3,\"label\":{\"value\":\"3\"},\"renderers\":[{\"id\":\"11383\"}]},\"id\":\"11398\",\"type\":\"LegendItem\"},{\"attributes\":{\"data\":{\"colors\":[\"#8c564b\",\"#17becf\",\"#17becf\",\"#e377c2\",\"#bcbd22\",\"#8c564b\",\"#8c564b\",\"#8c564b\",\"#1f77b4\",\"#bcbd22\",\"#17becf\",\"#8c564b\",\"#17becf\",\"#17becf\",\"#8c564b\",\"#17becf\",\"#8c564b\",\"#e377c2\",\"#bcbd22\",\"#8c564b\",\"#8c564b\",\"#8c564b\",\"#8c564b\",\"#bcbd22\",\"#bcbd22\",\"#17becf\",\"#17becf\",\"#17becf\",\"#8c564b\",\"#17becf\",\"#17becf\",\"#bcbd22\",\"#8c564b\",\"#e377c2\",\"#bcbd22\",\"#17becf\",\"#17becf\",\"#8c564b\",\"#17becf\",\"#8c564b\",\"#e377c2\",\"#bcbd22\",\"#8c564b\",\"#17becf\",\"#17becf\",\"#17becf\",\"#e377c2\",\"#bcbd22\",\"#8c564b\",\"#8c564b\",\"#8c564b\",\"#17becf\",\"#17becf\",\"#e377c2\",\"#bcbd22\",\"#8c564b\",\"#8c564b\",\"#8c564b\",\"#17becf\",\"#e377c2\",\"#bcbd22\",\"#8c564b\",\"#8c564b\",\"#e377c2\",\"#bcbd22\",\"#17becf\",\"#8c564b\",\"#17becf\",\"#e377c2\",\"#bcbd22\",\"#8c564b\",\"#8c564b\",\"#8c564b\",\"#17becf\",\"#e377c2\",\"#bcbd22\",\"#8c564b\",\"#17becf\",\"#17becf\",\"#17becf\",\"#e377c2\",\"#bcbd22\",\"#17becf\",\"#8c564b\",\"#17becf\",\"#e377c2\",\"#bcbd22\",\"#1f77b4\",\"#8c564b\",\"#bcbd22\",\"#8c564b\",\"#1f77b4\",\"#17becf\",\"#8c564b\",\"#17becf\",\"#8c564b\",\"#8c564b\",\"#17becf\",\"#8c564b\",\"#8c564b\",\"#17becf\",\"#e377c2\",\"#bcbd22\",\"#8c564b\",\"#8c564b\",\"#8c564b\",\"#17becf\",\"#8c564b\",\"#17becf\",\"#17becf\",\"#17becf\",\"#8c564b\",\"#17becf\",\"#8c564b\",\"#17becf\",\"#8c564b\",\"#8c564b\",\"#17becf\",\"#17becf\",\"#17becf\",\"#17becf\",\"#17becf\",\"#8c564b\",\"#8c564b\",\"#17becf\",\"#17becf\",\"#17becf\",\"#e377c2\",\"#e377c2\",\"#17becf\",\"#e377c2\",\"#e377c2\",\"#17becf\",\"#17becf\",\"#8c564b\",\"#17becf\",\"#17becf\",\"#8c564b\",\"#bcbd22\",\"#8c564b\",\"#e377c2\",\"#bcbd22\",\"#e377c2\",\"#bcbd22\",\"#8c564b\",\"#8c564b\",\"#8c564b\",\"#e377c2\",\"#bcbd22\",\"#8c564b\",\"#8c564b\",\"#8c564b\",\"#e377c2\",\"#bcbd22\",\"#8c564b\",\"#e377c2\",\"#bcbd22\",\"#8c564b\",\"#8c564b\",\"#8c564b\",\"#e377c2\",\"#bcbd22\",\"#8c564b\",\"#8c564b\",\"#8c564b\",\"#8c564b\",\"#e377c2\",\"#bcbd22\",\"#8c564b\",\"#8c564b\",\"#8c564b\",\"#17becf\",\"#17becf\",\"#bcbd22\",\"#17becf\",\"#e377c2\",\"#bcbd22\",\"#e377c2\",\"#bcbd22\",\"#17becf\",\"#17becf\",\"#e377c2\",\"#8c564b\",\"#e377c2\",\"#bcbd22\",\"#8c564b\",\"#e377c2\",\"#bcbd22\",\"#17becf\",\"#17becf\",\"#17becf\",\"#17becf\",\"#17becf\",\"#17becf\",\"#8c564b\",\"#17becf\",\"#8c564b\",\"#17becf\",\"#17becf\",\"#e377c2\",\"#e377c2\",\"#bcbd22\",\"#8c564b\",\"#8c564b\",\"#8c564b\",\"#17becf\",\"#17becf\",\"#bcbd22\",\"#17becf\",\"#17becf\",\"#e377c2\",\"#bcbd22\",\"#17becf\",\"#8c564b\",\"#17becf\",\"#8c564b\",\"#8c564b\",\"#17becf\",\"#17becf\",\"#17becf\",\"#17becf\",\"#17becf\",\"#17becf\",\"#17becf\",\"#17becf\",\"#8c564b\",\"#8c564b\",\"#17becf\",\"#e377c2\",\"#bcbd22\",\"#8c564b\",\"#8c564b\",\"#8c564b\",\"#e377c2\",\"#bcbd22\",\"#8c564b\",\"#8c564b\",\"#8c564b\",\"#17becf\",\"#8c564b\",\"#8c564b\",\"#17becf\",\"#17becf\",\"#17becf\",\"#17becf\",\"#17becf\",\"#8c564b\",\"#17becf\",\"#e377c2\",\"#bcbd22\",\"#8c564b\",\"#8c564b\",\"#8c564b\",\"#e377c2\",\"#bcbd22\",\"#17becf\",\"#e377c2\",\"#bcbd22\",\"#e377c2\",\"#bcbd22\",\"#8c564b\",\"#8c564b\",\"#8c564b\",\"#8c564b\",\"#17becf\",\"#17becf\",\"#e377c2\",\"#bcbd22\",\"#8c564b\",\"#8c564b\",\"#8c564b\",\"#17becf\",\"#17becf\",\"#17becf\",\"#8c564b\",\"#e377c2\",\"#bcbd22\",\"#8c564b\",\"#8c564b\",\"#8c564b\",\"#8c564b\",\"#17becf\",\"#17becf\",\"#17becf\",\"#17becf\",\"#bcbd22\",\"#8c564b\",\"#17becf\",\"#8c564b\",\"#e377c2\",\"#bcbd22\",\"#8c564b\",\"#8c564b\",\"#8c564b\",\"#17becf\",\"#17becf\",\"#17becf\",\"#e377c2\",\"#bcbd22\",\"#17becf\",\"#8c564b\",\"#e377c2\",\"#bcbd22\",\"#8c564b\",\"#8c564b\",\"#8c564b\",\"#17becf\",\"#e377c2\",\"#bcbd22\",\"#17becf\",\"#8c564b\",\"#8c564b\",\"#17becf\",\"#17becf\",\"#17becf\",\"#17becf\",\"#17becf\",\"#17becf\",\"#8c564b\",\"#17becf\",\"#8c564b\",\"#8c564b\",\"#17becf\",\"#17becf\",\"#17becf\",\"#17becf\",\"#17becf\",\"#8c564b\",\"#17becf\",\"#17becf\",\"#17becf\",\"#17becf\",\"#17becf\",\"#17becf\",\"#8c564b\",\"#17becf\",\"#17becf\",\"#8c564b\",\"#17becf\",\"#17becf\",\"#17becf\",\"#1f77b4\",\"#17becf\",\"#17becf\",\"#8c564b\",\"#e377c2\",\"#bcbd22\",\"#17becf\",\"#8c564b\",\"#8c564b\",\"#e377c2\",\"#bcbd22\",\"#17becf\",\"#8c564b\",\"#17becf\",\"#8c564b\",\"#17becf\",\"#17becf\",\"#8c564b\",\"#8c564b\",\"#8c564b\",\"#8c564b\",\"#8c564b\",\"#8c564b\",\"#8c564b\",\"#8c564b\",\"#17becf\",\"#17becf\",\"#e377c2\",\"#bcbd22\",\"#8c564b\",\"#8c564b\",\"#17becf\",\"#17becf\",\"#1f77b4\",\"#17becf\",\"#17becf\",\"#8c564b\",\"#8c564b\",\"#8c564b\",\"#17becf\",\"#17becf\",\"#17becf\",\"#bcbd22\",\"#17becf\",\"#17becf\",\"#e377c2\",\"#bcbd22\",\"#8c564b\",\"#8c564b\",\"#8c564b\",\"#17becf\",\"#8c564b\",\"#17becf\",\"#17becf\",\"#17becf\",\"#17becf\",\"#17becf\",\"#17becf\",\"#8c564b\",\"#17becf\",\"#17becf\",\"#17becf\",\"#e377c2\",\"#bcbd22\",\"#17becf\",\"#e377c2\",\"#17becf\",\"#8c564b\",\"#17becf\",\"#8c564b\",\"#17becf\",\"#17becf\",\"#8c564b\",\"#17becf\",\"#e377c2\",\"#bcbd22\",\"#17becf\",\"#17becf\",\"#17becf\",\"#17becf\",\"#17becf\",\"#17becf\",\"#17becf\",\"#17becf\",\"#8c564b\",\"#e377c2\",\"#bcbd22\",\"#17becf\",\"#1f77b4\",\"#17becf\",\"#17becf\",\"#17becf\",\"#17becf\",\"#17becf\",\"#e377c2\",\"#bcbd22\",\"#8c564b\",\"#17becf\",\"#17becf\",\"#17becf\",\"#17becf\",\"#17becf\",\"#8c564b\",\"#17becf\",\"#8c564b\",\"#17becf\",\"#17becf\",\"#17becf\",\"#bcbd22\",\"#8c564b\",\"#17becf\",\"#17becf\",\"#17becf\",\"#8c564b\",\"#8c564b\",\"#17becf\",\"#17becf\",\"#17becf\",\"#e377c2\",\"#bcbd22\",\"#17becf\",\"#17becf\",\"#8c564b\",\"#17becf\",\"#17becf\",\"#17becf\",\"#17becf\",\"#8c564b\",\"#17becf\",\"#17becf\",\"#17becf\",\"#17becf\",\"#17becf\",\"#17becf\",\"#17becf\",\"#8c564b\",\"#17becf\",\"#17becf\",\"#17becf\",\"#1f77b4\",\"#17becf\",\"#17becf\",\"#17becf\",\"#8c564b\",\"#17becf\",\"#17becf\",\"#8c564b\",\"#17becf\",\"#8c564b\",\"#17becf\",\"#17becf\",\"#17becf\",\"#17becf\",\"#17becf\",\"#17becf\",\"#17becf\",\"#8c564b\",\"#17becf\",\"#17becf\",\"#17becf\",\"#17becf\",\"#8c564b\",\"#17becf\",\"#17becf\",\"#8c564b\",\"#17becf\",\"#17becf\",\"#17becf\",\"#17becf\",\"#17becf\",\"#17becf\",\"#17becf\",\"#17becf\",\"#17becf\",\"#17becf\",\"#8c564b\",\"#17becf\",\"#8c564b\",\"#1f77b4\",\"#17becf\",\"#8c564b\",\"#1f77b4\",\"#17becf\",\"#17becf\",\"#17becf\",\"#8c564b\",\"#17becf\",\"#e377c2\",\"#8c564b\",\"#17becf\",\"#17becf\",\"#17becf\",\"#8c564b\",\"#e377c2\",\"#bcbd22\",\"#8c564b\",\"#8c564b\",\"#8c564b\",\"#17becf\",\"#1f77b4\",\"#17becf\",\"#17becf\",\"#17becf\",\"#17becf\",\"#17becf\"],\"index\":[0,1,2,3,4,5,6,7,8,9,10,11,12,13,14,15,16,17,18,19,20,21,22,23,24,25,26,27,28,29,30,31,32,33,34,35,36,37,38,39,40,41,42,43,44,45,46,47,48,49,50,51,52,53,54,55,56,57,58,59,60,61,62,63,64,65,66,67,68,69,70,71,72,73,74,75,76,77,78,79,80,81,82,83,84,85,86,87,88,89,90,91,92,93,94,95,96,97,98,99,100,101,102,103,104,105,106,107,108,109,110,111,112,113,114,115,116,117,118,119,120,121,122,123,124,125,126,127,128,129,130,131,132,133,134,135,136,137,138,139,140,141,142,143,144,145,146,147,148,149,150,151,152,153,154,155,156,157,158,159,160,161,162,163,164,165,166,167,168,169,170,171,172,173,174,175,176,177,178,179,180,181,182,183,184,185,186,187,188,189,190,191,192,193,194,195,196,197,198,199,200,201,202,203,204,205,206,207,208,209,210,211,212,213,214,215,216,217,218,219,220,221,222,223,224,225,226,227,228,229,230,231,232,233,234,235,236,237,238,239,240,241,242,243,244,245,246,247,248,249,250,251,252,253,254,255,256,257,258,259,260,261,262,263,264,265,266,267,268,269,270,271,272,273,274,275,276,277,278,279,280,281,282,283,284,285,286,287,288,289,290,291,292,293,294,295,296,297,298,299,300,301,302,303,304,305,306,307,308,309,310,311,312,313,314,315,316,317,318,319,320,321,322,323,324,325,326,327,328,329,330,331,332,333,334,335,336,337,338,339,340,341,342,343,344,345,346,347,348,349,350,351,352,353,354,355,356,357,358,359,360,361,362,363,364,365,366,367,368,369,370,371,372,373,374,375,376,377,378,379,380,381,382,383,384,385,386,387,388,389,390,391,392,393,394,395,396,397,398,399,400,401,402,403,404,405,406,407,408,409,410,411,412,413,414,415,416,417,418,419,420,421,422,423,424,425,426,427,428,429,430,431,432,433,434,435,436,437,438,439,440,441,442,443,444,445,446,447,448,449,450,451,452,453,454,455,456,457,458,459,460,461,462,463,464,465,466,467,468,469,470,471,472,473,474,475,476,477,478,479,480,481,482,483,484,485,486,487,488,489,490,491,492,493,494,495,496,497,498,499,500,501,502,503,504,505,506,507,508,509,510,511,512,513,514,515,516,517,518,519,520,521,522,523,524,525,526,527,528,529,530,531,532,533,534,535,536,537,538,539,540,541,542,543,544,545],\"topic\":[2,5,5,3,4,2,2,2,1,4,5,2,5,5,2,5,2,3,4,2,2,2,2,4,4,5,5,5,2,5,5,4,2,3,4,5,5,2,5,2,3,4,2,5,5,5,3,4,2,2,2,5,5,3,4,2,2,2,5,3,4,2,2,3,4,5,2,5,3,4,2,2,2,5,3,4,2,5,5,5,3,4,5,2,5,3,4,1,2,4,2,1,5,2,5,2,2,5,2,2,5,3,4,2,2,2,5,2,5,5,5,2,5,2,5,2,2,5,5,5,5,5,2,2,5,5,5,3,3,5,3,3,5,5,2,5,5,2,4,2,3,4,3,4,2,2,2,3,4,2,2,2,3,4,2,3,4,2,2,2,3,4,2,2,2,2,3,4,2,2,2,5,5,4,5,3,4,3,4,5,5,3,2,3,4,2,3,4,5,5,5,5,5,5,2,5,2,5,5,3,3,4,2,2,2,5,5,4,5,5,3,4,5,2,5,2,2,5,5,5,5,5,5,5,5,2,2,5,3,4,2,2,2,3,4,2,2,2,5,2,2,5,5,5,5,5,2,5,3,4,2,2,2,3,4,5,3,4,3,4,2,2,2,2,5,5,3,4,2,2,2,5,5,5,2,3,4,2,2,2,2,5,5,5,5,4,2,5,2,3,4,2,2,2,5,5,5,3,4,5,2,3,4,2,2,2,5,3,4,5,2,2,5,5,5,5,5,5,2,5,2,2,5,5,5,5,5,2,5,5,5,5,5,5,2,5,5,2,5,5,5,1,5,5,2,3,4,5,2,2,3,4,5,2,5,2,5,5,2,2,2,2,2,2,2,2,5,5,3,4,2,2,5,5,1,5,5,2,2,2,5,5,5,4,5,5,3,4,2,2,2,5,2,5,5,5,5,5,5,2,5,5,5,3,4,5,3,5,2,5,2,5,5,2,5,3,4,5,5,5,5,5,5,5,5,2,3,4,5,1,5,5,5,5,5,3,4,2,5,5,5,5,5,2,5,2,5,5,5,4,2,5,5,5,2,2,5,5,5,3,4,5,5,2,5,5,5,5,2,5,5,5,5,5,5,5,2,5,5,5,1,5,5,5,2,5,5,2,5,2,5,5,5,5,5,5,5,2,5,5,5,5,2,5,5,2,5,5,5,5,5,5,5,5,5,5,2,5,2,1,5,2,1,5,5,5,2,5,3,2,5,5,5,2,3,4,2,2,2,5,1,5,5,5,5,5],\"x\":{\"__ndarray__\":\"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\",\"dtype\":\"float64\",\"order\":\"little\",\"shape\":[546]},\"y\":{\"__ndarray__\":\"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\",\"dtype\":\"float64\",\"order\":\"little\",\"shape\":[546]}},\"selected\":{\"id\":\"11392\"},\"selection_policy\":{\"id\":\"11393\"}},\"id\":\"11345\",\"type\":\"ColumnDataSource\"},{\"attributes\":{},\"id\":\"11386\",\"type\":\"BasicTickFormatter\"},{\"attributes\":{\"index\":8,\"label\":{\"value\":\"1\"},\"renderers\":[{\"id\":\"11383\"}]},\"id\":\"11396\",\"type\":\"LegendItem\"},{\"attributes\":{},\"id\":\"11387\",\"type\":\"AllLabels\"},{\"attributes\":{\"index\":1,\"label\":{\"value\":\"5\"},\"renderers\":[{\"id\":\"11383\"}]},\"id\":\"11400\",\"type\":\"LegendItem\"},{\"attributes\":{\"bottom_units\":\"screen\",\"fill_alpha\":0.5,\"fill_color\":\"lightgrey\",\"left_units\":\"screen\",\"level\":\"overlay\",\"line_alpha\":1.0,\"line_color\":\"black\",\"line_dash\":[4,4],\"line_width\":2,\"right_units\":\"screen\",\"syncable\":false,\"top_units\":\"screen\"},\"id\":\"11372\",\"type\":\"BoxAnnotation\"},{\"attributes\":{},\"id\":\"11392\",\"type\":\"Selection\"},{\"attributes\":{\"index\":0,\"label\":{\"value\":\"2\"},\"renderers\":[{\"id\":\"11383\"}]},\"id\":\"11397\",\"type\":\"LegendItem\"},{\"attributes\":{},\"id\":\"11393\",\"type\":\"UnionRenderers\"},{\"attributes\":{\"index\":4,\"label\":{\"value\":\"4\"},\"renderers\":[{\"id\":\"11383\"}]},\"id\":\"11399\",\"type\":\"LegendItem\"},{\"attributes\":{},\"id\":\"11356\",\"type\":\"LinearScale\"},{\"attributes\":{\"axis\":{\"id\":\"11358\"},\"ticker\":null},\"id\":\"11361\",\"type\":\"Grid\"},{\"attributes\":{},\"id\":\"11352\",\"type\":\"DataRange1d\"}],\"root_ids\":[\"11347\"]},\"title\":\"Bokeh Application\",\"version\":\"2.3.1\"}};\n",
       "  var render_items = [{\"docid\":\"82b3dd4c-30f4-4bce-8760-3f377ec77e21\",\"root_ids\":[\"11347\"],\"roots\":{\"11347\":\"eb9cf479-9121-4e08-b72c-e85709ddb422\"}}];\n",
       "  root.Bokeh.embed.embed_items_notebook(docs_json, render_items);\n",
       "\n",
       "  }\n",
       "  if (root.Bokeh !== undefined) {\n",
       "    embed_document(root);\n",
       "  } else {\n",
       "    var attempts = 0;\n",
       "    var timer = setInterval(function(root) {\n",
       "      if (root.Bokeh !== undefined) {\n",
       "        clearInterval(timer);\n",
       "        embed_document(root);\n",
       "      } else {\n",
       "        attempts++;\n",
       "        if (attempts > 100) {\n",
       "          clearInterval(timer);\n",
       "          console.log(\"Bokeh: ERROR: Unable to run BokehJS code because BokehJS library is missing\");\n",
       "        }\n",
       "      }\n",
       "    }, 10, root)\n",
       "  }\n",
       "})(window);"
      ],
      "application/vnd.bokehjs_exec.v0+json": ""
     },
     "metadata": {
      "application/vnd.bokehjs_exec.v0+json": {
       "id": "11347"
      }
     },
     "output_type": "display_data"
    }
   ],
   "source": [
    "test = pd.DataFrame(zip(tsne_lda[:,0], tsne_lda[:,1],mycolors[topic_num], topic_num), columns=['x', 'y', 'colors', 'topic'])\n",
    "test.topic[test.topic==1] = 101\n",
    "test.topic[test.topic==2] = 102\n",
    "test.topic[test.topic==3] = 103\n",
    "test.topic[test.topic==4] = 104\n",
    "test.topic[test.topic==7] = 107\n",
    "test.topic[test.topic==0] = 1\n",
    "test.topic[test.topic==5] = 2\n",
    "test.topic[test.topic==6] = 3\n",
    "test.topic[test.topic==8] = 4\n",
    "test.topic[test.topic==9] = 5\n",
    "source = ColumnDataSource(test)\n",
    "\n",
    "# Plot the Topic Clusters using Bokeh\n",
    "output_notebook()\n",
    "n_topics = 5\n",
    "mycolors = np.array([color for name, color in mcolors.TABLEAU_COLORS.items()])\n",
    "plot = figure(title=\"t-SNE Clustering of {} LDA Topics\".format(n_topics), \n",
    "              plot_width=900, plot_height=700)\n",
    "\n",
    "\n",
    "#plot.scatter(x=tsne_lda[:,0], y=tsne_lda[:,1], color=mycolors[topic_num], )\n",
    "plot.scatter('x', 'y', color='colors', legend_group='topic', source=source)\n",
    "\n",
    "show(plot)"
   ]
  },
  {
   "cell_type": "code",
   "execution_count": null,
   "metadata": {},
   "outputs": [],
   "source": [
    "0 = 1\n",
    "5 = 2\n",
    "6 = 3 \n",
    "8 = 4\n",
    "9 = 5"
   ]
  },
  {
   "cell_type": "code",
   "execution_count": 134,
   "metadata": {},
   "outputs": [
    {
     "name": "stderr",
     "output_type": "stream",
     "text": [
      "/Users/ivowings/opt/anaconda3/envs/Thesis/lib/python3.8/site-packages/ipykernel/ipkernel.py:287: DeprecationWarning: `should_run_async` will not call `transform_cell` automatically in the future. Please pass the result to `transformed_cell` argument and any exception that happen during thetransform in `preprocessing_exc_tuple` in IPython 7.17 and above.\n",
      "  and should_run_async(code)\n",
      "<ipython-input-134-7d3b023ff9c8>:1: SettingWithCopyWarning: \n",
      "A value is trying to be set on a copy of a slice from a DataFrame\n",
      "\n",
      "See the caveats in the documentation: https://pandas.pydata.org/pandas-docs/stable/user_guide/indexing.html#returning-a-view-versus-a-copy\n",
      "  test.topic[test.topic==5] = 101\n"
     ]
    },
    {
     "data": {
      "text/html": [
       "<div>\n",
       "<style scoped>\n",
       "    .dataframe tbody tr th:only-of-type {\n",
       "        vertical-align: middle;\n",
       "    }\n",
       "\n",
       "    .dataframe tbody tr th {\n",
       "        vertical-align: top;\n",
       "    }\n",
       "\n",
       "    .dataframe thead th {\n",
       "        text-align: right;\n",
       "    }\n",
       "</style>\n",
       "<table border=\"1\" class=\"dataframe\">\n",
       "  <thead>\n",
       "    <tr style=\"text-align: right;\">\n",
       "      <th></th>\n",
       "      <th>x</th>\n",
       "      <th>y</th>\n",
       "      <th>colors</th>\n",
       "      <th>topic</th>\n",
       "    </tr>\n",
       "  </thead>\n",
       "  <tbody>\n",
       "    <tr>\n",
       "      <th>0</th>\n",
       "      <td>32.517124</td>\n",
       "      <td>2.876311</td>\n",
       "      <td>#8c564b</td>\n",
       "      <td>101</td>\n",
       "    </tr>\n",
       "    <tr>\n",
       "      <th>1</th>\n",
       "      <td>-41.846146</td>\n",
       "      <td>26.065390</td>\n",
       "      <td>#17becf</td>\n",
       "      <td>9</td>\n",
       "    </tr>\n",
       "    <tr>\n",
       "      <th>2</th>\n",
       "      <td>-42.685997</td>\n",
       "      <td>24.100712</td>\n",
       "      <td>#17becf</td>\n",
       "      <td>9</td>\n",
       "    </tr>\n",
       "    <tr>\n",
       "      <th>3</th>\n",
       "      <td>20.179747</td>\n",
       "      <td>67.825050</td>\n",
       "      <td>#e377c2</td>\n",
       "      <td>6</td>\n",
       "    </tr>\n",
       "    <tr>\n",
       "      <th>4</th>\n",
       "      <td>-59.179291</td>\n",
       "      <td>100.325211</td>\n",
       "      <td>#bcbd22</td>\n",
       "      <td>8</td>\n",
       "    </tr>\n",
       "    <tr>\n",
       "      <th>...</th>\n",
       "      <td>...</td>\n",
       "      <td>...</td>\n",
       "      <td>...</td>\n",
       "      <td>...</td>\n",
       "    </tr>\n",
       "    <tr>\n",
       "      <th>541</th>\n",
       "      <td>-1.473694</td>\n",
       "      <td>27.603361</td>\n",
       "      <td>#17becf</td>\n",
       "      <td>9</td>\n",
       "    </tr>\n",
       "    <tr>\n",
       "      <th>542</th>\n",
       "      <td>-50.876007</td>\n",
       "      <td>-15.140911</td>\n",
       "      <td>#17becf</td>\n",
       "      <td>9</td>\n",
       "    </tr>\n",
       "    <tr>\n",
       "      <th>543</th>\n",
       "      <td>-0.536225</td>\n",
       "      <td>23.093500</td>\n",
       "      <td>#17becf</td>\n",
       "      <td>9</td>\n",
       "    </tr>\n",
       "    <tr>\n",
       "      <th>544</th>\n",
       "      <td>-50.053154</td>\n",
       "      <td>12.895881</td>\n",
       "      <td>#17becf</td>\n",
       "      <td>9</td>\n",
       "    </tr>\n",
       "    <tr>\n",
       "      <th>545</th>\n",
       "      <td>-16.601662</td>\n",
       "      <td>-32.427830</td>\n",
       "      <td>#17becf</td>\n",
       "      <td>9</td>\n",
       "    </tr>\n",
       "  </tbody>\n",
       "</table>\n",
       "<p>546 rows × 4 columns</p>\n",
       "</div>"
      ],
      "text/plain": [
       "             x           y   colors  topic\n",
       "0    32.517124    2.876311  #8c564b    101\n",
       "1   -41.846146   26.065390  #17becf      9\n",
       "2   -42.685997   24.100712  #17becf      9\n",
       "3    20.179747   67.825050  #e377c2      6\n",
       "4   -59.179291  100.325211  #bcbd22      8\n",
       "..         ...         ...      ...    ...\n",
       "541  -1.473694   27.603361  #17becf      9\n",
       "542 -50.876007  -15.140911  #17becf      9\n",
       "543  -0.536225   23.093500  #17becf      9\n",
       "544 -50.053154   12.895881  #17becf      9\n",
       "545 -16.601662  -32.427830  #17becf      9\n",
       "\n",
       "[546 rows x 4 columns]"
      ]
     },
     "execution_count": 134,
     "metadata": {},
     "output_type": "execute_result"
    }
   ],
   "source": [
    "test.topic[test.topic==5] = 101\n",
    "test"
   ]
  },
  {
   "cell_type": "code",
   "execution_count": 115,
   "metadata": {},
   "outputs": [
    {
     "name": "stderr",
     "output_type": "stream",
     "text": [
      "/Users/ivowings/opt/anaconda3/envs/Thesis/lib/python3.8/site-packages/ipykernel/ipkernel.py:287: DeprecationWarning: `should_run_async` will not call `transform_cell` automatically in the future. Please pass the result to `transformed_cell` argument and any exception that happen during thetransform in `preprocessing_exc_tuple` in IPython 7.17 and above.\n",
      "  and should_run_async(code)\n"
     ]
    }
   ],
   "source": [
    "test[test.topic==1] = 101\n",
    "test[test.topic==2] = 102\n",
    "test[test.topic==3] = 103\n",
    "test[test.topic==4] = 104\n",
    "test[test.topic==7] = 107\n",
    "test[test.topic==0] = 1\n",
    "test[test.topic==5] = 2\n",
    "test[test.topic==6] = 3\n",
    "test[test.topic==8] = 4\n",
    "test[test.topic==9] = 5"
   ]
  },
  {
   "cell_type": "code",
   "execution_count": 118,
   "metadata": {},
   "outputs": [
    {
     "name": "stderr",
     "output_type": "stream",
     "text": [
      "/Users/ivowings/opt/anaconda3/envs/Thesis/lib/python3.8/site-packages/ipykernel/ipkernel.py:287: DeprecationWarning: `should_run_async` will not call `transform_cell` automatically in the future. Please pass the result to `transformed_cell` argument and any exception that happen during thetransform in `preprocessing_exc_tuple` in IPython 7.17 and above.\n",
      "  and should_run_async(code)\n"
     ]
    }
   ],
   "source": [
    "from bokeh.models import ColumnDataSource\n",
    "data = {'x_values': test['x'],\n",
    "        'y_values': test['y'],\n",
    "       'colors' : test['colors'],\n",
    "       'legend' : test['topic']}\n",
    "\n",
    "source = ColumnDataSource(data=data)"
   ]
  },
  {
   "cell_type": "code",
   "execution_count": 61,
   "metadata": {},
   "outputs": [
    {
     "name": "stderr",
     "output_type": "stream",
     "text": [
      "/Users/ivowings/opt/anaconda3/envs/Thesis/lib/python3.8/site-packages/ipykernel/ipkernel.py:287: DeprecationWarning: `should_run_async` will not call `transform_cell` automatically in the future. Please pass the result to `transformed_cell` argument and any exception that happen during thetransform in `preprocessing_exc_tuple` in IPython 7.17 and above.\n",
      "  and should_run_async(code)\n"
     ]
    },
    {
     "name": "stdout",
     "output_type": "stream",
     "text": [
      "[t-SNE] Computing 91 nearest neighbors...\n",
      "[t-SNE] Indexed 546 samples in 0.001s...\n",
      "[t-SNE] Computed neighbors for 546 samples in 0.017s...\n",
      "[t-SNE] Computed conditional probabilities for sample 546 / 546\n",
      "[t-SNE] Mean sigma: 0.000000\n",
      "[t-SNE] KL divergence after 250 iterations with early exaggeration: 50.024807\n",
      "[t-SNE] KL divergence after 1000 iterations: -0.258912\n"
     ]
    }
   ],
   "source": [
    "from sklearn.manifold import TSNE\n",
    "tsne_model = TSNE(n_components=2, verbose=1, random_state=7, angle=.99, init='pca')\n",
    "# 13-D -> 2-D\n",
    "tsne_lda = tsne_model.fit_transform(arr) # doc_topic is document-topic matrix from LDA or GuidedLDA "
   ]
  },
  {
   "cell_type": "code",
   "execution_count": null,
   "metadata": {},
   "outputs": [],
   "source": []
  }
 ],
 "metadata": {
  "kernelspec": {
   "display_name": "Python 3",
   "language": "python",
   "name": "python3"
  },
  "language_info": {
   "codemirror_mode": {
    "name": "ipython",
    "version": 3
   },
   "file_extension": ".py",
   "mimetype": "text/x-python",
   "name": "python",
   "nbconvert_exporter": "python",
   "pygments_lexer": "ipython3",
   "version": "3.8.8"
  }
 },
 "nbformat": 4,
 "nbformat_minor": 2
}
