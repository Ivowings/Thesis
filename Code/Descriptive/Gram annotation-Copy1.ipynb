{
 "cells": [
  {
   "cell_type": "code",
   "execution_count": 1,
   "id": "thrown-aerospace",
   "metadata": {},
   "outputs": [],
   "source": [
    "import pandas as pd\n",
    "import spacy\n",
    "import csv\n",
    "from tqdm import tqdm\n",
    "tqdm.pandas()\n",
    "nlp = spacy.load(\"en_core_web_lg\")"
   ]
  },
  {
   "cell_type": "code",
   "execution_count": 2,
   "id": "intelligent-acceptance",
   "metadata": {},
   "outputs": [],
   "source": [
    "path = \"/Users/ivowings/Sync/Thesis/Datasources/Preprocessed/n-grams/Annotated/emscad_trigrams_taxonomy.csv\"\n",
    "df = pd.read_csv(path,sep=';')\n"
   ]
  },
  {
   "cell_type": "code",
   "execution_count": null,
   "id": "quick-template",
   "metadata": {},
   "outputs": [
    {
     "name": "stderr",
     "output_type": "stream",
     "text": [
      " 15%|█▌        | 48901/323600 [06:56<34:44, 131.79it/s] "
     ]
    }
   ],
   "source": [
    "df['length'] = df['allgrams'].progress_apply(nlp)\n",
    "df['length'] = df['length'].progress_apply(len)\n",
    "df"
   ]
  },
  {
   "cell_type": "code",
   "execution_count": null,
   "id": "juvenile-windsor",
   "metadata": {},
   "outputs": [],
   "source": [
    "df = df.sort_values(by=['length'])\n",
    "df"
   ]
  },
  {
   "cell_type": "code",
   "execution_count": null,
   "id": "durable-diamond",
   "metadata": {},
   "outputs": [],
   "source": [
    "if sum(df[df.label.notnull()]['label']) > 0:\n",
    "    df.to_csv(path,\n",
    "              index=False, \n",
    "                       quoting=csv.QUOTE_NONNUMERIC)\n",
    "    print('Writing complete.')\n",
    "    df"
   ]
  },
  {
   "cell_type": "code",
   "execution_count": null,
   "id": "entertaining-salon",
   "metadata": {},
   "outputs": [],
   "source": [
    "#train the classifier\n",
    "#make predictions on the rest dataset\n",
    "#keep the labels with accuracy above 85%\n",
    "#repeat"
   ]
  }
 ],
 "metadata": {
  "kernelspec": {
   "display_name": "Python 3",
   "language": "python",
   "name": "python3"
  },
  "language_info": {
   "codemirror_mode": {
    "name": "ipython",
    "version": 3
   },
   "file_extension": ".py",
   "mimetype": "text/x-python",
   "name": "python",
   "nbconvert_exporter": "python",
   "pygments_lexer": "ipython3",
   "version": "3.8.8"
  }
 },
 "nbformat": 4,
 "nbformat_minor": 5
}
