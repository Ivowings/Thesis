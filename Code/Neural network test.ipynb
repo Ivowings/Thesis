{
 "cells": [
  {
   "cell_type": "code",
   "execution_count": 3,
   "metadata": {},
   "outputs": [
    {
     "name": "stdout",
     "output_type": "stream",
     "text": [
      "3076    0.542645\n",
      "770     0.532710\n",
      "692     1.152576\n",
      "3461    0.826534\n",
      "550     1.032509\n",
      "          ...   \n",
      "5218   -0.309476\n",
      "4060    0.658159\n",
      "1346    0.193914\n",
      "3454    1.015658\n",
      "3582   -0.623251\n",
      "Name: 0, Length: 5775, dtype: float64\n",
      "0\n",
      "Shape of training data: \n",
      "(5775, 3075)\n",
      "(5775,)\n",
      "Shape of test data: \n",
      "(1444, 3075)\n",
      "(1444,)\n"
     ]
    }
   ],
   "source": [
    "# Importing libraries\n",
    "from keras.datasets import imdb\n",
    "from keras.models import Sequential\n",
    "from keras.layers import Dense\n",
    "from keras.layers import Flatten\n",
    "from keras.layers.convolutional import Conv1D\n",
    "from keras.layers.convolutional import MaxPooling1D\n",
    "from keras.layers.embeddings import Embedding\n",
    "from keras.preprocessing import sequence\n",
    "\n",
    "import thesis_helper\n",
    "functions = thesis_helper.Thesis_Helper()\n",
    "\n",
    "from sklearn.model_selection import train_test_split\n",
    "\n",
    "x = functions.load_object('x_bert_embeddings')\n",
    "y = functions.load_object('y_bert_embeddings')\n",
    "\n",
    "X_train, X_test, y_train, y_test = train_test_split(x, y, test_size=0.2, random_state=123)\n",
    "\n",
    "# Looking at the nature of training data\n",
    "print(X_train[0])\n",
    "print(y_train[0])\n",
    "print('Shape of training data: ')\n",
    "print(X_train.shape)\n",
    "print(y_train.shape)\n",
    "print('Shape of test data: ')\n",
    "print(X_test.shape)\n",
    "print(y_test.shape)"
   ]
  },
  {
   "cell_type": "code",
   "execution_count": null,
   "metadata": {},
   "outputs": [],
   "source": []
  }
 ],
 "metadata": {
  "kernelspec": {
   "display_name": "Python 3",
   "language": "python",
   "name": "python3"
  },
  "language_info": {
   "codemirror_mode": {
    "name": "ipython",
    "version": 3
   },
   "file_extension": ".py",
   "mimetype": "text/x-python",
   "name": "python",
   "nbconvert_exporter": "python",
   "pygments_lexer": "ipython3",
   "version": "3.8.8"
  }
 },
 "nbformat": 4,
 "nbformat_minor": 4
}
