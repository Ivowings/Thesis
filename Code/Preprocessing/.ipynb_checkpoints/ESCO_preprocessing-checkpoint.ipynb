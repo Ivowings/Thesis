{
 "cells": [
  {
   "cell_type": "code",
   "execution_count": 1,
   "id": "maritime-provincial",
   "metadata": {},
   "outputs": [],
   "source": [
    "import pandas as pd\n",
    "import spacy\n",
    "from tqdm import tqdm\n",
    "\n",
    "nlp = spacy.load(\"en_core_web_lg\")"
   ]
  },
  {
   "cell_type": "code",
   "execution_count": 2,
   "id": "measured-surge",
   "metadata": {},
   "outputs": [],
   "source": [
    "#Function to remove stopwords\n",
    "def stop_word_remover(text):\n",
    "    doc = nlp(str(text))\n",
    "    text = ' '.join([token.text for token in doc if token.is_stop == False])\n",
    "    return text\n",
    "\n",
    "#Function to lemmatize\n",
    "def lemmatizer(text):\n",
    "    doc = nlp(str(text))\n",
    "    text = ' '.join([token.lemma_ if token.lemma_ != '-PRON-' else token.text for token in doc])\n",
    "    return text"
   ]
  },
  {
   "cell_type": "code",
   "execution_count": 3,
   "id": "foster-shooting",
   "metadata": {},
   "outputs": [],
   "source": [
    "df = pd.read_excel(\"/Users/ivowings/Sync/Thesis/Datasources/Skills/ESCO/Competences.xlsx\")\n",
    "df = df[['preferredLabel', 'altLabels']]"
   ]
  },
  {
   "cell_type": "code",
   "execution_count": 4,
   "id": "african-kentucky",
   "metadata": {},
   "outputs": [],
   "source": [
    "preferredlabel = df['preferredLabel'].tolist()"
   ]
  },
  {
   "cell_type": "code",
   "execution_count": 5,
   "id": "level-length",
   "metadata": {
    "scrolled": true
   },
   "outputs": [
    {
     "name": "stderr",
     "output_type": "stream",
     "text": [
      "<ipython-input-5-63b3598779fc>:1: FutureWarning: The default value of regex will change from True to False in a future version.\n",
      "  df['altLabels'] = df['altLabels'].str.replace(r'\\n', ':')\n"
     ]
    }
   ],
   "source": [
    "df['altLabels'] = df['altLabels'].str.replace(r'\\n', ':')"
   ]
  },
  {
   "cell_type": "code",
   "execution_count": 6,
   "id": "asian-hungary",
   "metadata": {},
   "outputs": [],
   "source": [
    "altlabel = df['altLabels'].str.split(':', expand=True).values.flatten()"
   ]
  },
  {
   "cell_type": "code",
   "execution_count": 7,
   "id": "banner-excellence",
   "metadata": {},
   "outputs": [],
   "source": [
    "altlabel = [i for i in altlabel if i] \n",
    "altlabel = [x for x in altlabel if str(x) != 'nan']"
   ]
  },
  {
   "cell_type": "code",
   "execution_count": 8,
   "id": "little-fetish",
   "metadata": {},
   "outputs": [],
   "source": [
    "esco = pd.DataFrame(altlabel, columns=['label'])"
   ]
  },
  {
   "cell_type": "code",
   "execution_count": 9,
   "id": "normal-guyana",
   "metadata": {},
   "outputs": [],
   "source": [
    "#Removing trailing whitespace\n",
    "esco['label'] = esco['label'].str.strip()\n",
    "#Removing extra whitespacing between terms\n",
    "esco['label'] = esco['label'].str.replace(' /  +/g', ' ',regex=True)"
   ]
  },
  {
   "cell_type": "code",
   "execution_count": 10,
   "id": "inner-balloon",
   "metadata": {},
   "outputs": [
    {
     "name": "stderr",
     "output_type": "stream",
     "text": [
      "100%|██████████| 83605/83605 [11:14<00:00, 123.87it/s]\n",
      "100%|██████████| 83605/83605 [11:39<00:00, 119.47it/s]\n"
     ]
    }
   ],
   "source": [
    "tqdm.pandas()\n",
    "esco['label_lemmatized'] = esco['label'].progress_apply(lemmatizer)\n",
    "esco['no_stopwords'] = esco['label'].progress_apply(stop_word_remover)\n",
    "esco.drop_duplicates(subset=None, keep=\"first\", inplace=True)\n",
    "esco = esco.reset_index(drop=True)"
   ]
  },
  {
   "cell_type": "code",
   "execution_count": 11,
   "id": "valuable-latest",
   "metadata": {},
   "outputs": [],
   "source": [
    "esco.to_csv(\"/Users/ivowings/Sync/Thesis/Datasources/Skills/ESCO/esco.csv\", index=False)"
   ]
  },
  {
   "cell_type": "code",
   "execution_count": null,
   "id": "talented-fairy",
   "metadata": {},
   "outputs": [],
   "source": []
  }
 ],
 "metadata": {
  "kernelspec": {
   "display_name": "Python 3",
   "language": "python",
   "name": "python3"
  },
  "language_info": {
   "codemirror_mode": {
    "name": "ipython",
    "version": 3
   },
   "file_extension": ".py",
   "mimetype": "text/x-python",
   "name": "python",
   "nbconvert_exporter": "python",
   "pygments_lexer": "ipython3",
   "version": "3.8.8"
  }
 },
 "nbformat": 4,
 "nbformat_minor": 5
}
