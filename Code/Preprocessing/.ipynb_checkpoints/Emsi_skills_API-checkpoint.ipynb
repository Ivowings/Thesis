{
 "cells": [
  {
   "cell_type": "code",
   "execution_count": 1,
   "metadata": {},
   "outputs": [],
   "source": [
    "import requests\n",
    "import json\n",
    "import numpy as np\n",
    "import pandas as pd\n",
    "from pandas import json_normalize # easy JSON -> pd.DataFrame"
   ]
  },
  {
   "cell_type": "code",
   "execution_count": 2,
   "metadata": {},
   "outputs": [],
   "source": [
    "auth_endpoint = \"https://auth.emsicloud.com/connect/token\" # auth endpoint\n",
    "\n",
    "client_id = \"n7gpmbt9bmj5f4mg\" # replace 'your_client_id' with your client id from your api invite email\n",
    "client_secret = \"tYx0dFGv\" # replace 'your_client_secret' with your client secret from your api invite email\n",
    "scope = \"emsi_open\" # ok to leave as is, this is the scope we will used\n",
    "\n",
    "payload = \"client_id=\" + client_id + \"&client_secret=\" + client_secret + \"&grant_type=client_credentials&scope=\" + scope # set credentials and scope\n",
    "headers = {'content-type': 'application/x-www-form-urlencoded'} # headers for the response\n",
    "access_token = json.loads((requests.request(\"POST\", auth_endpoint, data=payload, headers=headers)).text)['access_token'] # grabs request's text and loads as JSON, then pulls the access token from that\n"
   ]
  },
  {
   "cell_type": "code",
   "execution_count": 3,
   "metadata": {},
   "outputs": [],
   "source": [
    "def extract_skills_list():\n",
    "  all_skills_endpoint = \"https://emsiservices.com/skills/versions/latest/skills\" # List of all skills endpoint\n",
    "  auth = \"Authorization: Bearer \" + access_token # Auth string including access token from above\n",
    "  headers = {'authorization': auth} # headers\n",
    "  response = requests.request(\"GET\", all_skills_endpoint, headers=headers) # response\n",
    "  response = response.json()['data'] # the data\n",
    "\n",
    "  all_skills_df = pd.DataFrame(json_normalize(response)); # Where response is a JSON object drilled down to the level of 'data' key\n",
    "  return all_skills_df\n",
    "\n",
    "df = extract_skills_list()"
   ]
  },
  {
   "cell_type": "code",
   "execution_count": 4,
   "metadata": {},
   "outputs": [],
   "source": [
    "df = df[['name','type.name']]\n",
    "df = df.rename(columns={'type.name': 'type'})"
   ]
  },
  {
   "cell_type": "code",
   "execution_count": 5,
   "metadata": {},
   "outputs": [],
   "source": [
    "df = df[df.type!='Certification']"
   ]
  },
  {
   "cell_type": "code",
   "execution_count": 6,
   "metadata": {},
   "outputs": [],
   "source": [
    "df.to_csv(\"/Users/ivowings/Sync/Thesis/Datasources/emsi_skills.csv\",ind)"
   ]
  },
  {
   "cell_type": "code",
   "execution_count": null,
   "metadata": {},
   "outputs": [],
   "source": []
  }
 ],
 "metadata": {
  "kernelspec": {
   "display_name": "Python 3",
   "language": "python",
   "name": "python3"
  },
  "language_info": {
   "codemirror_mode": {
    "name": "ipython",
    "version": 3
   },
   "file_extension": ".py",
   "mimetype": "text/x-python",
   "name": "python",
   "nbconvert_exporter": "python",
   "pygments_lexer": "ipython3",
   "version": "3.6.12"
  }
 },
 "nbformat": 4,
 "nbformat_minor": 4
}
