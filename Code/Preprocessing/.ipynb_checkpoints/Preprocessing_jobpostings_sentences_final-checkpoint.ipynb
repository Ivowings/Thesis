{
 "cells": [
  {
   "cell_type": "code",
   "execution_count": 30,
   "metadata": {},
   "outputs": [],
   "source": [
    "import pandas as pd\n",
    "from flashtext import KeywordProcessor\n",
    "import spacy\n",
    "import sys\n",
    "from tqdm import tqdm\n",
    "import re\n",
    "from nltk.tokenize import sent_tokenize\n",
    "from bs4 import BeautifulSoup\n",
    "pd.set_option('display.max_columns', None)\n",
    "\n",
    "#for downloading spacy stuff\n",
    "#!{sys.executable} -m spacy download en_core_web_sm\n",
    "\n",
    "nlp = spacy.load(\"en_core_web_lg\")"
   ]
  },
  {
   "cell_type": "code",
   "execution_count": 31,
   "metadata": {},
   "outputs": [],
   "source": [
    "indeed_df = pd.read_csv(\"/Users/ivowings/Sync/Thesis/Datasources/Job postings/Indeed 2/home_sdf_marketing_sample_for_trulia_com-real_estate__20190901_20191031__30k_data.csv\")"
   ]
  },
  {
   "cell_type": "code",
   "execution_count": 32,
   "metadata": {},
   "outputs": [],
   "source": [
    "#Removing html tags\n",
    "rows = []\n",
    "for t in indeed_df['Job Description']:\n",
    "    soup = BeautifulSoup(t,\"lxml\")\n",
    "    rows.append(soup.get_text())\n",
    "indeed_df['job_description'] = rows\n",
    "\n",
    "#Reshaping indeed_df to match careerbuilder df\n",
    "indeed_df['category'] = 'NaN'\n",
    "indeed_df['dataset'] = 'Indeed'\n",
    "indeed_df = indeed_df[['Job Title', 'category', 'Company Name', 'job_description', 'dataset']]\n",
    "indeed_df = indeed_df.rename(columns={'Job Title': 'job_title', \n",
    "                                      'Company Name':'company_name',\n",
    "                                      'Job Description':'job_description'})\n"
   ]
  },
  {
   "cell_type": "code",
   "execution_count": 4,
   "metadata": {},
   "outputs": [
    {
     "name": "stderr",
     "output_type": "stream",
     "text": [
      "<ipython-input-4-14cc62d7cf79>:5: SettingWithCopyWarning: \n",
      "A value is trying to be set on a copy of a slice from a DataFrame.\n",
      "Try using .loc[row_indexer,col_indexer] = value instead\n",
      "\n",
      "See the caveats in the documentation: https://pandas.pydata.org/pandas-docs/stable/user_guide/indexing.html#returning-a-view-versus-a-copy\n",
      "  careerbuilder['job_description'] = careerbuilder['job_description'] + ' ' + careerbuilder['job_requirements']\n"
     ]
    }
   ],
   "source": [
    "#import the careerbuilder job postings\n",
    "careerbuilder_complete = pd.read_json(\"/Users/ivowings/Sync/Thesis/Datasources/Job postings/Careerbuilder/home_sdf_marketing_sample_for_careerbuilder_uk_and_se-jobs_listing__20190801_20191231__10k_data.json\", lines=True)\n",
    "careerbuilder_complete['dataset'] = 'Careerbuilder'\n",
    "careerbuilder = careerbuilder_complete[['job_title', 'category', 'company_name', 'job_description', 'job_requirements','dataset']]\n",
    "careerbuilder['job_description'] = careerbuilder['job_description'] + ' ' + careerbuilder['job_requirements']\n",
    "careerbuilder = careerbuilder.drop(columns=['job_requirements'])"
   ]
  },
  {
   "cell_type": "code",
   "execution_count": 5,
   "metadata": {},
   "outputs": [],
   "source": [
    "df = pd.concat([indeed_df,careerbuilder])\n",
    "df = df.dropna(subset=['job_description'], how='all')\n",
    "df = df.reset_index(drop=True)"
   ]
  },
  {
   "cell_type": "code",
   "execution_count": 18,
   "metadata": {},
   "outputs": [],
   "source": [
    "df = pd.read_csv(\"/Users/ivowings/Sync/Thesis/Datasources/Preprocessed/jobpostings_anonymized_1.csv\")"
   ]
  },
  {
   "cell_type": "code",
   "execution_count": 20,
   "metadata": {},
   "outputs": [
    {
     "name": "stderr",
     "output_type": "stream",
     "text": [
      "<ipython-input-20-7428e7f617aa>:3: FutureWarning: The default value of regex will change from True to False in a future version.\n",
      "  df['job_description_clean'] = df['job_description_clean'].str.replace(r'\\n\\n', ' ')\n",
      "<ipython-input-20-7428e7f617aa>:4: FutureWarning: The default value of regex will change from True to False in a future version.\n",
      "  df['job_description_clean'] = df['job_description_clean'].str.replace(r'\\n', '. ')\n"
     ]
    }
   ],
   "source": [
    "# Lowercasing, removing newline symbols, stripping leading and ending whitespaces\n",
    "df['job_description_clean'] = df['job_description'].str.lower()\n",
    "df['job_description_clean'] = df['job_description_clean'].str.replace(r'\\n\\n', ' ')\n",
    "df['job_description_clean'] = df['job_description_clean'].str.replace(r'\\n', '. ')\n",
    "df['job_description_clean'] = df['job_description_clean'].str.strip()\n"
   ]
  },
  {
   "cell_type": "code",
   "execution_count": 24,
   "metadata": {},
   "outputs": [],
   "source": [
    "#Sample\n",
    "#df = df.head(1)"
   ]
  },
  {
   "cell_type": "code",
   "execution_count": 27,
   "metadata": {},
   "outputs": [
    {
     "name": "stderr",
     "output_type": "stream",
     "text": [
      "100%|██████████| 1/1 [00:00<00:00,  6.01it/s]\n"
     ]
    }
   ],
   "source": [
    "#Splitting the jobvacancies into sentences\n",
    "jobpostingcomplete = []\n",
    "sentences = []\n",
    "    \n",
    "for index in tqdm(range(0,len(df))):\n",
    "    doc = nlp(str(df['job_description_clean'].iloc[index]))\n",
    "    for sentence in doc.sents:\n",
    "        jobpostingcomplete.append(' '.join([token.text for token in doc]))\n",
    "        sentences.append(sentence.string.strip())\n",
    "\n",
    "#creating the df\n",
    "sentencesdf = pd.DataFrame(zip(jobpostingcomplete,sentences), \n",
    "                  columns=['jobposting', 'sentence'])"
   ]
  },
  {
   "cell_type": "code",
   "execution_count": 15,
   "metadata": {},
   "outputs": [
    {
     "name": "stderr",
     "output_type": "stream",
     "text": [
      "<ipython-input-15-1317889e810f>:2: FutureWarning: The default value of regex will change from True to False in a future version.\n",
      "  sentencesdf['sentence'] = sentencesdf['sentence'].str.replace(r'[^A-Za-z0-9 ]+', ' ')\n"
     ]
    }
   ],
   "source": [
    "#Removing special characters from the sentences, removing double whitespace, and trailing whitespaces\n",
    "sentencesdf['sentence'] = sentencesdf['sentence'].str.replace(r'[^A-Za-z0-9 ]+', ' ')\n",
    "sentencesdf['sentence'] = sentencesdf['sentence'].str.replace(r'  ', ' ')\n",
    "sentencesdf['sentence'] = sentencesdf['sentence'].str.strip()\n",
    "\n",
    "#Removing sentences which have less than 4 tokens\n",
    "#sentencesdf['length'] = sentencesdf['sentence'].apply(nlp)\n",
    "#sentencesdf['length'] = sentencesdf['length'].apply(len)\n",
    "#sentencesdf = sentencesdf[sentencesdf.length>=4]\n",
    "#sentencesdf = sentencesdf.drop(columns=['length'])"
   ]
  },
  {
   "cell_type": "code",
   "execution_count": 14,
   "metadata": {},
   "outputs": [],
   "source": [
    "#Function to retrieve the dependencies of the nouns\n",
    "def dep_tagger(text):\n",
    "    doc = nlp(str(text))\n",
    "    text = ' '.join([token.dep_ for token in doc])\n",
    "    return text\n",
    "\n",
    "#Function to retrieve the part of speech\n",
    "def pos_tagger(text):\n",
    "    doc = nlp(str(text))\n",
    "    text = ' '.join([token.pos_ for token in doc])\n",
    "    return text\n",
    "\n",
    "#Function to remove stopwords\n",
    "def stop_word_remover(text):\n",
    "    doc = nlp(str(text))\n",
    "    text = ' '.join([token.text for token in doc if token.is_stop == False])\n",
    "    return text\n",
    "\n",
    "#Function to lemmatize\n",
    "def lemmatizer(text):\n",
    "    doc = nlp(str(text))\n",
    "    text = ' '.join([token.lemma_ if token.lemma_ != '-PRON-' else token.text for token in doc])\n",
    "    return text"
   ]
  },
  {
   "cell_type": "code",
   "execution_count": 15,
   "metadata": {},
   "outputs": [
    {
     "name": "stderr",
     "output_type": "stream",
     "text": [
      "100%|██████████| 339/339 [00:02<00:00, 119.24it/s]\n",
      "100%|██████████| 339/339 [00:02<00:00, 129.94it/s]\n",
      "100%|██████████| 339/339 [00:02<00:00, 130.03it/s]\n",
      "100%|██████████| 339/339 [00:02<00:00, 127.42it/s]\n"
     ]
    }
   ],
   "source": [
    "tqdm.pandas()\n",
    "sentencesdf['dependencies'] = sentencesdf['sentence'].progress_apply(dep_tagger)\n",
    "sentencesdf['part_of_speech'] = sentencesdf['sentence'].progress_apply(pos_tagger)\n",
    "sentencesdf['sentence_lemmatized'] = sentencesdf['sentence'].progress_apply(lemmatizer)\n",
    "sentencesdf['sentence_no_stopwords'] = sentencesdf['sentence'].progress_apply(stop_word_remover)"
   ]
  },
  {
   "cell_type": "code",
   "execution_count": null,
   "metadata": {},
   "outputs": [],
   "source": [
    "#sentencesdf.to_csv(\"/Users/ivowings/Sync/Thesis/Datasources/Preprocessed/sentences.csv\")"
   ]
  },
  {
   "cell_type": "code",
   "execution_count": 16,
   "metadata": {},
   "outputs": [
    {
     "data": {
      "text/html": [
       "<div>\n",
       "<style scoped>\n",
       "    .dataframe tbody tr th:only-of-type {\n",
       "        vertical-align: middle;\n",
       "    }\n",
       "\n",
       "    .dataframe tbody tr th {\n",
       "        vertical-align: top;\n",
       "    }\n",
       "\n",
       "    .dataframe thead th {\n",
       "        text-align: right;\n",
       "    }\n",
       "</style>\n",
       "<table border=\"1\" class=\"dataframe\">\n",
       "  <thead>\n",
       "    <tr style=\"text-align: right;\">\n",
       "      <th></th>\n",
       "      <th>jobposting</th>\n",
       "      <th>sentence</th>\n",
       "      <th>dependencies</th>\n",
       "      <th>part_of_speech</th>\n",
       "      <th>sentence_lemmatized</th>\n",
       "      <th>sentence_no_stopwords</th>\n",
       "    </tr>\n",
       "  </thead>\n",
       "  <tbody>\n",
       "    <tr>\n",
       "      <th>0</th>\n",
       "      <td>we are looking for top performers to grow with...</td>\n",
       "      <td>we are looking for top performers to grow with us</td>\n",
       "      <td>nsubj aux ROOT mark amod nsubj aux advcl prep ...</td>\n",
       "      <td>PRON AUX VERB ADP ADJ NOUN PART VERB ADP PRON</td>\n",
       "      <td>we be look for top performer to grow with us</td>\n",
       "      <td>looking performers grow</td>\n",
       "    </tr>\n",
       "    <tr>\n",
       "      <th>1</th>\n",
       "      <td>we are looking for top performers to grow with...</td>\n",
       "      <td>del taco needs people with the ability to hand...</td>\n",
       "      <td>compound nsubj ROOT dobj prep det pobj aux acl...</td>\n",
       "      <td>PROPN PROPN VERB NOUN ADP DET NOUN PART VERB A...</td>\n",
       "      <td>del taco need people with the ability to handl...</td>\n",
       "      <td>del taco needs people ability handle multiple ...</td>\n",
       "    </tr>\n",
       "    <tr>\n",
       "      <th>2</th>\n",
       "      <td>we are looking for top performers to grow with...</td>\n",
       "      <td>while we look for you to bring the right skill...</td>\n",
       "      <td>mark nsubj advcl mark nsubj aux advcl det amod...</td>\n",
       "      <td>SCONJ PRON VERB ADP PRON PART VERB DET ADJ NOU...</td>\n",
       "      <td>while we look for you to bring the right skill...</td>\n",
       "      <td>look bring right skills personality shift mana...</td>\n",
       "    </tr>\n",
       "    <tr>\n",
       "      <th>3</th>\n",
       "      <td>we are looking for top performers to grow with...</td>\n",
       "      <td>our shift managers support our stores and gene...</td>\n",
       "      <td>poss compound nsubj ROOT poss dobj cc amod con...</td>\n",
       "      <td>DET NOUN NOUN VERB DET NOUN CCONJ ADJ NOUN ADP...</td>\n",
       "      <td>our shift manager support our store and genera...</td>\n",
       "      <td>shift managers support stores general managers...</td>\n",
       "    </tr>\n",
       "    <tr>\n",
       "      <th>4</th>\n",
       "      <td>we are looking for top performers to grow with...</td>\n",
       "      <td>our shift managers create a culture in our res...</td>\n",
       "      <td>poss compound nsubj ROOT det dobj prep poss po...</td>\n",
       "      <td>DET NOUN NOUN VERB DET NOUN ADP DET NOUN DET A...</td>\n",
       "      <td>our shift manager create a culture in our rest...</td>\n",
       "      <td>shift managers create culture restaurants exci...</td>\n",
       "    </tr>\n",
       "    <tr>\n",
       "      <th>...</th>\n",
       "      <td>...</td>\n",
       "      <td>...</td>\n",
       "      <td>...</td>\n",
       "      <td>...</td>\n",
       "      <td>...</td>\n",
       "      <td>...</td>\n",
       "    </tr>\n",
       "    <tr>\n",
       "      <th>385</th>\n",
       "      <td>about green thumb industries : green thumb ind...</td>\n",
       "      <td>we believe that our corporate community should...</td>\n",
       "      <td>nsubj ROOT mark poss amod nsubj aux ccomp det ...</td>\n",
       "      <td>PRON VERB SCONJ DET ADJ NOUN VERB AUX DET NOUN...</td>\n",
       "      <td>we believe that our corporate community should...</td>\n",
       "      <td>believe corporate community reflection communi...</td>\n",
       "    </tr>\n",
       "    <tr>\n",
       "      <th>386</th>\n",
       "      <td>about green thumb industries : green thumb ind...</td>\n",
       "      <td>we are dedicated to fostering an inclusive cul...</td>\n",
       "      <td>nsubjpass auxpass ROOT prep pcomp det amod dob...</td>\n",
       "      <td>PRON AUX ADJ ADP VERB DET ADJ NOUN DET VERB NO...</td>\n",
       "      <td>we be dedicated to foster an inclusive culture...</td>\n",
       "      <td>dedicated fostering inclusive culture celebrat...</td>\n",
       "    </tr>\n",
       "    <tr>\n",
       "      <th>387</th>\n",
       "      <td>about green thumb industries : green thumb ind...</td>\n",
       "      <td>our mission the right to wellness informs our ...</td>\n",
       "      <td>poss nsubj det appos aux acl ROOT poss dobj au...</td>\n",
       "      <td>DET NOUN DET NOUN PART VERB VERB DET NOUN ADP ...</td>\n",
       "      <td>our mission the right to wellness inform our c...</td>\n",
       "      <td>mission right wellness informs commitment cham...</td>\n",
       "    </tr>\n",
       "    <tr>\n",
       "      <th>388</th>\n",
       "      <td>about green thumb industries : green thumb ind...</td>\n",
       "      <td>gti is proud to be an equal opportunity workplace</td>\n",
       "      <td>nsubj ROOT acomp aux xcomp det amod attr npadvmod</td>\n",
       "      <td>PROPN AUX ADJ PART AUX DET ADJ NOUN NOUN</td>\n",
       "      <td>gti be proud to be an equal opportunity workplace</td>\n",
       "      <td>gti proud equal opportunity workplace</td>\n",
       "    </tr>\n",
       "    <tr>\n",
       "      <th>389</th>\n",
       "      <td>about green thumb industries : green thumb ind...</td>\n",
       "      <td>we can t wait to meet you</td>\n",
       "      <td>nsubj aux aux ROOT aux advcl dobj</td>\n",
       "      <td>PRON VERB VERB VERB PART VERB PRON</td>\n",
       "      <td>we can t wait to meet you</td>\n",
       "      <td>t wait meet</td>\n",
       "    </tr>\n",
       "  </tbody>\n",
       "</table>\n",
       "<p>339 rows × 6 columns</p>\n",
       "</div>"
      ],
      "text/plain": [
       "                                            jobposting  \\\n",
       "0    we are looking for top performers to grow with...   \n",
       "1    we are looking for top performers to grow with...   \n",
       "2    we are looking for top performers to grow with...   \n",
       "3    we are looking for top performers to grow with...   \n",
       "4    we are looking for top performers to grow with...   \n",
       "..                                                 ...   \n",
       "385  about green thumb industries : green thumb ind...   \n",
       "386  about green thumb industries : green thumb ind...   \n",
       "387  about green thumb industries : green thumb ind...   \n",
       "388  about green thumb industries : green thumb ind...   \n",
       "389  about green thumb industries : green thumb ind...   \n",
       "\n",
       "                                              sentence  \\\n",
       "0    we are looking for top performers to grow with us   \n",
       "1    del taco needs people with the ability to hand...   \n",
       "2    while we look for you to bring the right skill...   \n",
       "3    our shift managers support our stores and gene...   \n",
       "4    our shift managers create a culture in our res...   \n",
       "..                                                 ...   \n",
       "385  we believe that our corporate community should...   \n",
       "386  we are dedicated to fostering an inclusive cul...   \n",
       "387  our mission the right to wellness informs our ...   \n",
       "388  gti is proud to be an equal opportunity workplace   \n",
       "389                          we can t wait to meet you   \n",
       "\n",
       "                                          dependencies  \\\n",
       "0    nsubj aux ROOT mark amod nsubj aux advcl prep ...   \n",
       "1    compound nsubj ROOT dobj prep det pobj aux acl...   \n",
       "2    mark nsubj advcl mark nsubj aux advcl det amod...   \n",
       "3    poss compound nsubj ROOT poss dobj cc amod con...   \n",
       "4    poss compound nsubj ROOT det dobj prep poss po...   \n",
       "..                                                 ...   \n",
       "385  nsubj ROOT mark poss amod nsubj aux ccomp det ...   \n",
       "386  nsubjpass auxpass ROOT prep pcomp det amod dob...   \n",
       "387  poss nsubj det appos aux acl ROOT poss dobj au...   \n",
       "388  nsubj ROOT acomp aux xcomp det amod attr npadvmod   \n",
       "389                  nsubj aux aux ROOT aux advcl dobj   \n",
       "\n",
       "                                        part_of_speech  \\\n",
       "0        PRON AUX VERB ADP ADJ NOUN PART VERB ADP PRON   \n",
       "1    PROPN PROPN VERB NOUN ADP DET NOUN PART VERB A...   \n",
       "2    SCONJ PRON VERB ADP PRON PART VERB DET ADJ NOU...   \n",
       "3    DET NOUN NOUN VERB DET NOUN CCONJ ADJ NOUN ADP...   \n",
       "4    DET NOUN NOUN VERB DET NOUN ADP DET NOUN DET A...   \n",
       "..                                                 ...   \n",
       "385  PRON VERB SCONJ DET ADJ NOUN VERB AUX DET NOUN...   \n",
       "386  PRON AUX ADJ ADP VERB DET ADJ NOUN DET VERB NO...   \n",
       "387  DET NOUN DET NOUN PART VERB VERB DET NOUN ADP ...   \n",
       "388           PROPN AUX ADJ PART AUX DET ADJ NOUN NOUN   \n",
       "389                 PRON VERB VERB VERB PART VERB PRON   \n",
       "\n",
       "                                   sentence_lemmatized  \\\n",
       "0         we be look for top performer to grow with us   \n",
       "1    del taco need people with the ability to handl...   \n",
       "2    while we look for you to bring the right skill...   \n",
       "3    our shift manager support our store and genera...   \n",
       "4    our shift manager create a culture in our rest...   \n",
       "..                                                 ...   \n",
       "385  we believe that our corporate community should...   \n",
       "386  we be dedicated to foster an inclusive culture...   \n",
       "387  our mission the right to wellness inform our c...   \n",
       "388  gti be proud to be an equal opportunity workplace   \n",
       "389                          we can t wait to meet you   \n",
       "\n",
       "                                 sentence_no_stopwords  \n",
       "0                              looking performers grow  \n",
       "1    del taco needs people ability handle multiple ...  \n",
       "2    look bring right skills personality shift mana...  \n",
       "3    shift managers support stores general managers...  \n",
       "4    shift managers create culture restaurants exci...  \n",
       "..                                                 ...  \n",
       "385  believe corporate community reflection communi...  \n",
       "386  dedicated fostering inclusive culture celebrat...  \n",
       "387  mission right wellness informs commitment cham...  \n",
       "388              gti proud equal opportunity workplace  \n",
       "389                                        t wait meet  \n",
       "\n",
       "[339 rows x 6 columns]"
      ]
     },
     "execution_count": 16,
     "metadata": {},
     "output_type": "execute_result"
    }
   ],
   "source": [
    "sentencesdf"
   ]
  },
  {
   "cell_type": "code",
   "execution_count": null,
   "metadata": {},
   "outputs": [],
   "source": []
  }
 ],
 "metadata": {
  "kernelspec": {
   "display_name": "Python 3",
   "language": "python",
   "name": "python3"
  },
  "language_info": {
   "codemirror_mode": {
    "name": "ipython",
    "version": 3
   },
   "file_extension": ".py",
   "mimetype": "text/x-python",
   "name": "python",
   "nbconvert_exporter": "python",
   "pygments_lexer": "ipython3",
   "version": "3.8.8"
  }
 },
 "nbformat": 4,
 "nbformat_minor": 2
}
