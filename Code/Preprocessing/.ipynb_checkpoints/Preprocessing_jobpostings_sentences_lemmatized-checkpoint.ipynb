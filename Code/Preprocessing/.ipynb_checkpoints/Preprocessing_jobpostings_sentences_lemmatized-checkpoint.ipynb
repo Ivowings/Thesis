{
 "cells": [
  {
   "cell_type": "code",
   "execution_count": 1,
   "metadata": {},
   "outputs": [],
   "source": [
    "import pandas as pd\n",
    "from flashtext import KeywordProcessor\n",
    "import spacy\n",
    "import sys\n",
    "from tqdm import tqdm\n",
    "import re\n",
    "from nltk.tokenize import sent_tokenize\n",
    "from bs4 import BeautifulSoup\n",
    "pd.set_option('display.max_columns', None)\n",
    "\n",
    "#for downloading spacy stuff\n",
    "#!{sys.executable} -m spacy download en_core_web_sm\n",
    "\n",
    "nlp = spacy.load(\"en_core_web_sm\")"
   ]
  },
  {
   "cell_type": "code",
   "execution_count": 2,
   "metadata": {},
   "outputs": [],
   "source": [
    "indeed_df = pd.read_csv(\"/Users/ivowings/Sync/Thesis/Datasources/Job postings/Indeed 2/home_sdf_marketing_sample_for_trulia_com-real_estate__20190901_20191031__30k_data.csv\")"
   ]
  },
  {
   "cell_type": "code",
   "execution_count": 3,
   "metadata": {},
   "outputs": [],
   "source": [
    "#Removing html tags\n",
    "rows = []\n",
    "for t in indeed_df['Job Description']:\n",
    "    soup = BeautifulSoup(t,\"lxml\")\n",
    "    rows.append(soup.get_text())\n",
    "indeed_df['job_description'] = rows\n",
    "\n",
    "#Reshaping indeed_df to match careerbuilder df\n",
    "indeed_df['category'] = 'NaN'\n",
    "indeed_df['dataset'] = 'Indeed'\n",
    "indeed_df = indeed_df[['Job Title', 'category', 'Company Name', 'job_description', 'dataset']]\n",
    "indeed_df = indeed_df.rename(columns={'Job Title': 'job_title', \n",
    "                                      'Company Name':'company_name',\n",
    "                                      'Job Description':'job_description'})\n"
   ]
  },
  {
   "cell_type": "code",
   "execution_count": 4,
   "metadata": {},
   "outputs": [
    {
     "name": "stderr",
     "output_type": "stream",
     "text": [
      "<ipython-input-4-14cc62d7cf79>:5: SettingWithCopyWarning: \n",
      "A value is trying to be set on a copy of a slice from a DataFrame.\n",
      "Try using .loc[row_indexer,col_indexer] = value instead\n",
      "\n",
      "See the caveats in the documentation: https://pandas.pydata.org/pandas-docs/stable/user_guide/indexing.html#returning-a-view-versus-a-copy\n",
      "  careerbuilder['job_description'] = careerbuilder['job_description'] + ' ' + careerbuilder['job_requirements']\n"
     ]
    }
   ],
   "source": [
    "#import the careerbuilder job postings\n",
    "careerbuilder_complete = pd.read_json(\"/Users/ivowings/Sync/Thesis/Datasources/Job postings/Careerbuilder/home_sdf_marketing_sample_for_careerbuilder_uk_and_se-jobs_listing__20190801_20191231__10k_data.json\", lines=True)\n",
    "careerbuilder_complete['dataset'] = 'Careerbuilder'\n",
    "careerbuilder = careerbuilder_complete[['job_title', 'category', 'company_name', 'job_description', 'job_requirements','dataset']]\n",
    "careerbuilder['job_description'] = careerbuilder['job_description'] + ' ' + careerbuilder['job_requirements']\n",
    "careerbuilder = careerbuilder.drop(columns=['job_requirements'])"
   ]
  },
  {
   "cell_type": "code",
   "execution_count": 5,
   "metadata": {},
   "outputs": [],
   "source": [
    "df = pd.concat([indeed_df,careerbuilder])\n",
    "df = df.dropna(subset=['job_description'], how='all')\n",
    "df = df.reset_index(drop=True)"
   ]
  },
  {
   "cell_type": "code",
   "execution_count": 6,
   "metadata": {},
   "outputs": [
    {
     "name": "stderr",
     "output_type": "stream",
     "text": [
      "<ipython-input-6-7428e7f617aa>:3: FutureWarning: The default value of regex will change from True to False in a future version.\n",
      "  df['job_description_clean'] = df['job_description_clean'].str.replace(r'\\n\\n', ' ')\n",
      "<ipython-input-6-7428e7f617aa>:4: FutureWarning: The default value of regex will change from True to False in a future version.\n",
      "  df['job_description_clean'] = df['job_description_clean'].str.replace(r'\\n', '. ')\n"
     ]
    }
   ],
   "source": [
    "# Lowercasing, removing newline symbols, stripping leading and ending whitespaces\n",
    "df['job_description_clean'] = df['job_description'].str.lower()\n",
    "df['job_description_clean'] = df['job_description_clean'].str.replace(r'\\n\\n', ' ')\n",
    "df['job_description_clean'] = df['job_description_clean'].str.replace(r'\\n', '. ')\n",
    "df['job_description_clean'] = df['job_description_clean'].str.strip()\n"
   ]
  },
  {
   "cell_type": "code",
   "execution_count": 7,
   "metadata": {},
   "outputs": [
    {
     "name": "stderr",
     "output_type": "stream",
     "text": [
      "100%|██████████| 38388/38388 [1:08:06<00:00,  9.39it/s]\n"
     ]
    }
   ],
   "source": [
    "#test\n",
    "#df = df.head(10)\n",
    "\n",
    "#Splitting the jobvacancies into sentences\n",
    "jobpostingcomplete = []\n",
    "sentences = []\n",
    "    \n",
    "for index in tqdm(range(0,len(df))):\n",
    "    doc = nlp(str(df['job_description_clean'].iloc[index]))\n",
    "    for sentence in doc.sents:\n",
    "        jobpostingcomplete.append(' '.join([token.text for token in doc]))\n",
    "        sentences.append(sentence.string.strip())"
   ]
  },
  {
   "cell_type": "code",
   "execution_count": 8,
   "metadata": {},
   "outputs": [
    {
     "name": "stderr",
     "output_type": "stream",
     "text": [
      "<ipython-input-8-680dd6143bea>:6: FutureWarning: The default value of regex will change from True to False in a future version.\n",
      "  sentencesdf['sentence'] = sentencesdf['sentence'].str.replace(r'[^A-Za-z0-9 ]+', ' ')\n"
     ]
    }
   ],
   "source": [
    "#creating the df\n",
    "sentencesdf = pd.DataFrame(zip(jobpostingcomplete,sentences), \n",
    "                  columns=['jobposting', 'sentence'])\n",
    "\n",
    "#Removing special characters from the sentences, removing whitespace dot for dot, removing double whitespace, and trailing whitespaces\n",
    "sentencesdf['sentence'] = sentencesdf['sentence'].str.replace(r' .', '.')\n",
    "sentencesdf['sentence'] = sentencesdf['sentence'].str.replace(r'[^A-Za-z0-9 ]+', ' ')\n",
    "sentencesdf['sentence'] = sentencesdf['sentence'].str.replace(r'  ', ' ')\n",
    "sentencesdf['sentence'] = sentencesdf['sentence'].str.strip()\n",
    "\n",
    "#Removing sentences which have less than 4 tokens\n",
    "sentencesdf['length'] = sentencesdf['sentence'].apply(nlp)\n",
    "sentencesdf['length'] = sentencesdf['length'].apply(len)\n",
    "sentencesdf = sentencesdf[sentencesdf.length>=4]\n",
    "sentencesdf = sentencesdf.drop(columns=['length'])"
   ]
  },
  {
   "cell_type": "code",
   "execution_count": 9,
   "metadata": {},
   "outputs": [],
   "source": [
    "#Lemmatizing the sentences\n",
    "def lemmatizer(text):\n",
    "    doc = nlp(str(text))\n",
    "    text = ' '.join([token.lemma_ if token.lemma_ != '-PRON-' else token.text for token in doc])\n",
    "    return text\n",
    "\n",
    "sentencesdf['sentence_lemmatized'] = sentencesdf['sentence'].apply(lemmatizer)"
   ]
  },
  {
   "cell_type": "code",
   "execution_count": 10,
   "metadata": {},
   "outputs": [],
   "source": [
    "sentencesdf.to_csv(\"/Users/ivowings/Sync/Thesis/Datasources/Preprocessed/sentences_lemmatized.csv\")"
   ]
  },
  {
   "cell_type": "code",
   "execution_count": null,
   "metadata": {},
   "outputs": [],
   "source": []
  }
 ],
 "metadata": {
  "kernelspec": {
   "display_name": "Python 3",
   "language": "python",
   "name": "python3"
  },
  "language_info": {
   "codemirror_mode": {
    "name": "ipython",
    "version": 3
   },
   "file_extension": ".py",
   "mimetype": "text/x-python",
   "name": "python",
   "nbconvert_exporter": "python",
   "pygments_lexer": "ipython3",
   "version": "3.8.8"
  }
 },
 "nbformat": 4,
 "nbformat_minor": 2
}
